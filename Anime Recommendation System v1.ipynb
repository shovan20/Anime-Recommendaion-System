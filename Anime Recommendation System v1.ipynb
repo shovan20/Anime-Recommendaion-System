{
 "cells": [
  {
   "cell_type": "markdown",
   "id": "f97ebc63",
   "metadata": {},
   "source": [
    "<p style=\"text-align:center;\"><img src=\"https://i.pinimg.com/originals/fe/7c/f8/fe7cf85130d8be56e5eedb8d63fda1da.gif\" width=\"100%\" height=\"100%\" alt=\"HTML5 Doctor Logo\" /></p>"
   ]
  },
  {
   "cell_type": "markdown",
   "id": "c2491617",
   "metadata": {},
   "source": [
    "<B><h1 style=\"text-align:center;\"> Import </h1></B>"
   ]
  },
  {
   "cell_type": "code",
   "execution_count": 116,
   "id": "c5ac2406",
   "metadata": {},
   "outputs": [],
   "source": [
    "import numpy as np\n",
    "import pandas as pd\n",
    "import matplotlib.pyplot as plt\n",
    "import seaborn as sns\n",
    "import numpy as np\n",
    "from sklearn.feature_extraction.text import CountVectorizer\n",
    "from sklearn.metrics.pairwise import cosine_similarity"
   ]
  },
  {
   "cell_type": "markdown",
   "id": "0bc9f037",
   "metadata": {},
   "source": [
    "<B><h1 style=\"text-align:center;\"> Upload datasets </h1></B>"
   ]
  },
  {
   "cell_type": "code",
   "execution_count": 117,
   "id": "4081d55d",
   "metadata": {},
   "outputs": [],
   "source": [
    "ratings = pd.read_csv('../Anime Recommendation System/Data/rating.csv')\n",
    "anime   = pd.read_csv('../Anime Recommendation System/Data/anime.csv')"
   ]
  },
  {
   "cell_type": "markdown",
   "id": "a78e29f3",
   "metadata": {},
   "source": [
    "<b><h1 style=\"text-align:center; color:green\" id=\"EDA\"> EDA part </h1></b>\n",
    "<b><h3 style=\"text-align:center;\"> Preview Ratings dataset </h3></b>"
   ]
  },
  {
   "cell_type": "code",
   "execution_count": 118,
   "id": "447190bf",
   "metadata": {},
   "outputs": [
    {
     "data": {
      "text/html": [
       "<div>\n",
       "<style scoped>\n",
       "    .dataframe tbody tr th:only-of-type {\n",
       "        vertical-align: middle;\n",
       "    }\n",
       "\n",
       "    .dataframe tbody tr th {\n",
       "        vertical-align: top;\n",
       "    }\n",
       "\n",
       "    .dataframe thead th {\n",
       "        text-align: right;\n",
       "    }\n",
       "</style>\n",
       "<table border=\"1\" class=\"dataframe\">\n",
       "  <thead>\n",
       "    <tr style=\"text-align: right;\">\n",
       "      <th></th>\n",
       "      <th>user_id</th>\n",
       "      <th>anime_id</th>\n",
       "      <th>rating</th>\n",
       "    </tr>\n",
       "  </thead>\n",
       "  <tbody>\n",
       "    <tr>\n",
       "      <th>0</th>\n",
       "      <td>1</td>\n",
       "      <td>20</td>\n",
       "      <td>-1</td>\n",
       "    </tr>\n",
       "    <tr>\n",
       "      <th>1</th>\n",
       "      <td>1</td>\n",
       "      <td>24</td>\n",
       "      <td>-1</td>\n",
       "    </tr>\n",
       "    <tr>\n",
       "      <th>2</th>\n",
       "      <td>1</td>\n",
       "      <td>79</td>\n",
       "      <td>-1</td>\n",
       "    </tr>\n",
       "    <tr>\n",
       "      <th>3</th>\n",
       "      <td>1</td>\n",
       "      <td>226</td>\n",
       "      <td>-1</td>\n",
       "    </tr>\n",
       "    <tr>\n",
       "      <th>4</th>\n",
       "      <td>1</td>\n",
       "      <td>241</td>\n",
       "      <td>-1</td>\n",
       "    </tr>\n",
       "  </tbody>\n",
       "</table>\n",
       "</div>"
      ],
      "text/plain": [
       "   user_id  anime_id  rating\n",
       "0        1        20      -1\n",
       "1        1        24      -1\n",
       "2        1        79      -1\n",
       "3        1       226      -1\n",
       "4        1       241      -1"
      ]
     },
     "execution_count": 118,
     "metadata": {},
     "output_type": "execute_result"
    }
   ],
   "source": [
    "ratings.head()"
   ]
  },
  {
   "cell_type": "markdown",
   "id": "2b90e66e",
   "metadata": {},
   "source": [
    "Replacing \"rating\" column with \"user_rating\" because the anime dataset already has \"rating column\". Looking for merging them."
   ]
  },
  {
   "cell_type": "code",
   "execution_count": 119,
   "id": "aea66481",
   "metadata": {},
   "outputs": [
    {
     "data": {
      "text/html": [
       "<div>\n",
       "<style scoped>\n",
       "    .dataframe tbody tr th:only-of-type {\n",
       "        vertical-align: middle;\n",
       "    }\n",
       "\n",
       "    .dataframe tbody tr th {\n",
       "        vertical-align: top;\n",
       "    }\n",
       "\n",
       "    .dataframe thead th {\n",
       "        text-align: right;\n",
       "    }\n",
       "</style>\n",
       "<table border=\"1\" class=\"dataframe\">\n",
       "  <thead>\n",
       "    <tr style=\"text-align: right;\">\n",
       "      <th></th>\n",
       "      <th>user_id</th>\n",
       "      <th>anime_id</th>\n",
       "      <th>user_rating</th>\n",
       "    </tr>\n",
       "  </thead>\n",
       "  <tbody>\n",
       "    <tr>\n",
       "      <th>0</th>\n",
       "      <td>1</td>\n",
       "      <td>20</td>\n",
       "      <td>-1</td>\n",
       "    </tr>\n",
       "    <tr>\n",
       "      <th>1</th>\n",
       "      <td>1</td>\n",
       "      <td>24</td>\n",
       "      <td>-1</td>\n",
       "    </tr>\n",
       "    <tr>\n",
       "      <th>2</th>\n",
       "      <td>1</td>\n",
       "      <td>79</td>\n",
       "      <td>-1</td>\n",
       "    </tr>\n",
       "    <tr>\n",
       "      <th>3</th>\n",
       "      <td>1</td>\n",
       "      <td>226</td>\n",
       "      <td>-1</td>\n",
       "    </tr>\n",
       "    <tr>\n",
       "      <th>4</th>\n",
       "      <td>1</td>\n",
       "      <td>241</td>\n",
       "      <td>-1</td>\n",
       "    </tr>\n",
       "  </tbody>\n",
       "</table>\n",
       "</div>"
      ],
      "text/plain": [
       "   user_id  anime_id  user_rating\n",
       "0        1        20           -1\n",
       "1        1        24           -1\n",
       "2        1        79           -1\n",
       "3        1       226           -1\n",
       "4        1       241           -1"
      ]
     },
     "execution_count": 119,
     "metadata": {},
     "output_type": "execute_result"
    }
   ],
   "source": [
    "ratings['user_rating'] = ratings['rating']\n",
    "ratings.drop('rating', axis=1, inplace = True)\n",
    "ratings.head()"
   ]
  },
  {
   "cell_type": "markdown",
   "id": "fb3c71b6",
   "metadata": {},
   "source": [
    "<h3 style=\"text-align:center;\"> Preview Anime dataset </h3>"
   ]
  },
  {
   "cell_type": "code",
   "execution_count": 120,
   "id": "10fc34d9",
   "metadata": {},
   "outputs": [
    {
     "data": {
      "text/html": [
       "<div>\n",
       "<style scoped>\n",
       "    .dataframe tbody tr th:only-of-type {\n",
       "        vertical-align: middle;\n",
       "    }\n",
       "\n",
       "    .dataframe tbody tr th {\n",
       "        vertical-align: top;\n",
       "    }\n",
       "\n",
       "    .dataframe thead th {\n",
       "        text-align: right;\n",
       "    }\n",
       "</style>\n",
       "<table border=\"1\" class=\"dataframe\">\n",
       "  <thead>\n",
       "    <tr style=\"text-align: right;\">\n",
       "      <th></th>\n",
       "      <th>anime_id</th>\n",
       "      <th>name</th>\n",
       "      <th>genre</th>\n",
       "      <th>type</th>\n",
       "      <th>episodes</th>\n",
       "      <th>rating</th>\n",
       "      <th>members</th>\n",
       "    </tr>\n",
       "  </thead>\n",
       "  <tbody>\n",
       "    <tr>\n",
       "      <th>0</th>\n",
       "      <td>32281</td>\n",
       "      <td>Kimi no Na wa.</td>\n",
       "      <td>Drama, Romance, School, Supernatural</td>\n",
       "      <td>Movie</td>\n",
       "      <td>1</td>\n",
       "      <td>9.37</td>\n",
       "      <td>200630</td>\n",
       "    </tr>\n",
       "    <tr>\n",
       "      <th>1</th>\n",
       "      <td>5114</td>\n",
       "      <td>Fullmetal Alchemist: Brotherhood</td>\n",
       "      <td>Action, Adventure, Drama, Fantasy, Magic, Mili...</td>\n",
       "      <td>TV</td>\n",
       "      <td>64</td>\n",
       "      <td>9.26</td>\n",
       "      <td>793665</td>\n",
       "    </tr>\n",
       "    <tr>\n",
       "      <th>2</th>\n",
       "      <td>28977</td>\n",
       "      <td>Gintama°</td>\n",
       "      <td>Action, Comedy, Historical, Parody, Samurai, S...</td>\n",
       "      <td>TV</td>\n",
       "      <td>51</td>\n",
       "      <td>9.25</td>\n",
       "      <td>114262</td>\n",
       "    </tr>\n",
       "    <tr>\n",
       "      <th>3</th>\n",
       "      <td>9253</td>\n",
       "      <td>Steins;Gate</td>\n",
       "      <td>Sci-Fi, Thriller</td>\n",
       "      <td>TV</td>\n",
       "      <td>24</td>\n",
       "      <td>9.17</td>\n",
       "      <td>673572</td>\n",
       "    </tr>\n",
       "    <tr>\n",
       "      <th>4</th>\n",
       "      <td>9969</td>\n",
       "      <td>Gintama&amp;#039;</td>\n",
       "      <td>Action, Comedy, Historical, Parody, Samurai, S...</td>\n",
       "      <td>TV</td>\n",
       "      <td>51</td>\n",
       "      <td>9.16</td>\n",
       "      <td>151266</td>\n",
       "    </tr>\n",
       "  </tbody>\n",
       "</table>\n",
       "</div>"
      ],
      "text/plain": [
       "   anime_id                              name  \\\n",
       "0     32281                    Kimi no Na wa.   \n",
       "1      5114  Fullmetal Alchemist: Brotherhood   \n",
       "2     28977                          Gintama°   \n",
       "3      9253                       Steins;Gate   \n",
       "4      9969                     Gintama&#039;   \n",
       "\n",
       "                                               genre   type episodes  rating  \\\n",
       "0               Drama, Romance, School, Supernatural  Movie        1    9.37   \n",
       "1  Action, Adventure, Drama, Fantasy, Magic, Mili...     TV       64    9.26   \n",
       "2  Action, Comedy, Historical, Parody, Samurai, S...     TV       51    9.25   \n",
       "3                                   Sci-Fi, Thriller     TV       24    9.17   \n",
       "4  Action, Comedy, Historical, Parody, Samurai, S...     TV       51    9.16   \n",
       "\n",
       "   members  \n",
       "0   200630  \n",
       "1   793665  \n",
       "2   114262  \n",
       "3   673572  \n",
       "4   151266  "
      ]
     },
     "execution_count": 120,
     "metadata": {},
     "output_type": "execute_result"
    }
   ],
   "source": [
    "anime.head()"
   ]
  },
  {
   "cell_type": "markdown",
   "id": "56a334e8",
   "metadata": {},
   "source": [
    "<h3 style=\"text-align:center;\"> View the number of rows and columns in our dataset </h3>"
   ]
  },
  {
   "cell_type": "code",
   "execution_count": 121,
   "id": "63a4bac8",
   "metadata": {},
   "outputs": [
    {
     "name": "stdout",
     "output_type": "stream",
     "text": [
      "Shape of ratings:(7813737, 3)\n",
      "Shape of anime:(12294, 7)\n"
     ]
    }
   ],
   "source": [
    "print(f'Shape of ratings:{ratings.shape}\\nShape of anime:{anime.shape}')"
   ]
  },
  {
   "cell_type": "markdown",
   "id": "35ad5d27",
   "metadata": {},
   "source": [
    "<h3 style=\"text-align:center;\"> View the number of unique values foreach column </h3>"
   ]
  },
  {
   "cell_type": "code",
   "execution_count": 122,
   "id": "8937d82d",
   "metadata": {},
   "outputs": [
    {
     "data": {
      "text/plain": [
       "anime_id    12294\n",
       "name        12292\n",
       "genre        3264\n",
       "type            6\n",
       "episodes      187\n",
       "rating        598\n",
       "members      6706\n",
       "dtype: int64"
      ]
     },
     "execution_count": 122,
     "metadata": {},
     "output_type": "execute_result"
    }
   ],
   "source": [
    "anime.nunique()"
   ]
  },
  {
   "cell_type": "markdown",
   "id": "92c40513",
   "metadata": {},
   "source": [
    "<h3 style=\"text-align:center;\"> \"name\" column analysis </h3>"
   ]
  },
  {
   "cell_type": "code",
   "execution_count": 123,
   "id": "1a891b5d",
   "metadata": {},
   "outputs": [
    {
     "data": {
      "text/plain": [
       "0"
      ]
     },
     "execution_count": 123,
     "metadata": {},
     "output_type": "execute_result"
    }
   ],
   "source": [
    "anime['name'].isna().sum()"
   ]
  },
  {
   "cell_type": "code",
   "execution_count": 124,
   "id": "6d31f25c",
   "metadata": {},
   "outputs": [
    {
     "data": {
      "text/html": [
       "<div>\n",
       "<style scoped>\n",
       "    .dataframe tbody tr th:only-of-type {\n",
       "        vertical-align: middle;\n",
       "    }\n",
       "\n",
       "    .dataframe tbody tr th {\n",
       "        vertical-align: top;\n",
       "    }\n",
       "\n",
       "    .dataframe thead th {\n",
       "        text-align: right;\n",
       "    }\n",
       "</style>\n",
       "<table border=\"1\" class=\"dataframe\">\n",
       "  <thead>\n",
       "    <tr style=\"text-align: right;\">\n",
       "      <th></th>\n",
       "      <th>anime_id</th>\n",
       "      <th>name</th>\n",
       "      <th>genre</th>\n",
       "      <th>type</th>\n",
       "      <th>episodes</th>\n",
       "      <th>rating</th>\n",
       "      <th>members</th>\n",
       "    </tr>\n",
       "  </thead>\n",
       "  <tbody>\n",
       "    <tr>\n",
       "      <th>10141</th>\n",
       "      <td>30059</td>\n",
       "      <td>Saru Kani Gassen</td>\n",
       "      <td>Drama</td>\n",
       "      <td>Movie</td>\n",
       "      <td>1</td>\n",
       "      <td>4.75</td>\n",
       "      <td>76</td>\n",
       "    </tr>\n",
       "    <tr>\n",
       "      <th>10194</th>\n",
       "      <td>33195</td>\n",
       "      <td>Shi Wan Ge Leng Xiaohua</td>\n",
       "      <td>Action, Adventure, Comedy, Fantasy, Parody</td>\n",
       "      <td>Movie</td>\n",
       "      <td>1</td>\n",
       "      <td>7.07</td>\n",
       "      <td>110</td>\n",
       "    </tr>\n",
       "  </tbody>\n",
       "</table>\n",
       "</div>"
      ],
      "text/plain": [
       "       anime_id                     name  \\\n",
       "10141     30059         Saru Kani Gassen   \n",
       "10194     33195  Shi Wan Ge Leng Xiaohua   \n",
       "\n",
       "                                            genre   type episodes  rating  \\\n",
       "10141                                       Drama  Movie        1    4.75   \n",
       "10194  Action, Adventure, Comedy, Fantasy, Parody  Movie        1    7.07   \n",
       "\n",
       "       members  \n",
       "10141       76  \n",
       "10194      110  "
      ]
     },
     "execution_count": 124,
     "metadata": {},
     "output_type": "execute_result"
    }
   ],
   "source": [
    "anime[anime.duplicated(['name'])]"
   ]
  },
  {
   "cell_type": "code",
   "execution_count": 125,
   "id": "c4436613",
   "metadata": {},
   "outputs": [
    {
     "data": {
      "text/html": [
       "<div>\n",
       "<style scoped>\n",
       "    .dataframe tbody tr th:only-of-type {\n",
       "        vertical-align: middle;\n",
       "    }\n",
       "\n",
       "    .dataframe tbody tr th {\n",
       "        vertical-align: top;\n",
       "    }\n",
       "\n",
       "    .dataframe thead th {\n",
       "        text-align: right;\n",
       "    }\n",
       "</style>\n",
       "<table border=\"1\" class=\"dataframe\">\n",
       "  <thead>\n",
       "    <tr style=\"text-align: right;\">\n",
       "      <th></th>\n",
       "      <th>anime_id</th>\n",
       "      <th>name</th>\n",
       "      <th>genre</th>\n",
       "      <th>type</th>\n",
       "      <th>episodes</th>\n",
       "      <th>rating</th>\n",
       "      <th>members</th>\n",
       "    </tr>\n",
       "  </thead>\n",
       "  <tbody>\n",
       "    <tr>\n",
       "      <th>10140</th>\n",
       "      <td>22399</td>\n",
       "      <td>Saru Kani Gassen</td>\n",
       "      <td>Kids</td>\n",
       "      <td>OVA</td>\n",
       "      <td>1</td>\n",
       "      <td>5.23</td>\n",
       "      <td>62</td>\n",
       "    </tr>\n",
       "    <tr>\n",
       "      <th>10141</th>\n",
       "      <td>30059</td>\n",
       "      <td>Saru Kani Gassen</td>\n",
       "      <td>Drama</td>\n",
       "      <td>Movie</td>\n",
       "      <td>1</td>\n",
       "      <td>4.75</td>\n",
       "      <td>76</td>\n",
       "    </tr>\n",
       "    <tr>\n",
       "      <th>10193</th>\n",
       "      <td>33193</td>\n",
       "      <td>Shi Wan Ge Leng Xiaohua</td>\n",
       "      <td>Comedy, Parody</td>\n",
       "      <td>ONA</td>\n",
       "      <td>12</td>\n",
       "      <td>6.67</td>\n",
       "      <td>114</td>\n",
       "    </tr>\n",
       "    <tr>\n",
       "      <th>10194</th>\n",
       "      <td>33195</td>\n",
       "      <td>Shi Wan Ge Leng Xiaohua</td>\n",
       "      <td>Action, Adventure, Comedy, Fantasy, Parody</td>\n",
       "      <td>Movie</td>\n",
       "      <td>1</td>\n",
       "      <td>7.07</td>\n",
       "      <td>110</td>\n",
       "    </tr>\n",
       "  </tbody>\n",
       "</table>\n",
       "</div>"
      ],
      "text/plain": [
       "       anime_id                     name  \\\n",
       "10140     22399         Saru Kani Gassen   \n",
       "10141     30059         Saru Kani Gassen   \n",
       "10193     33193  Shi Wan Ge Leng Xiaohua   \n",
       "10194     33195  Shi Wan Ge Leng Xiaohua   \n",
       "\n",
       "                                            genre   type episodes  rating  \\\n",
       "10140                                        Kids    OVA        1    5.23   \n",
       "10141                                       Drama  Movie        1    4.75   \n",
       "10193                              Comedy, Parody    ONA       12    6.67   \n",
       "10194  Action, Adventure, Comedy, Fantasy, Parody  Movie        1    7.07   \n",
       "\n",
       "       members  \n",
       "10140       62  \n",
       "10141       76  \n",
       "10193      114  \n",
       "10194      110  "
      ]
     },
     "execution_count": 125,
     "metadata": {},
     "output_type": "execute_result"
    }
   ],
   "source": [
    "anime[(anime['name'] == 'Saru Kani Gassen')|(anime['name'] == 'Shi Wan Ge Leng Xiaohua')]"
   ]
  },
  {
   "cell_type": "markdown",
   "id": "da97e172",
   "metadata": {},
   "source": [
    "<h3 style=\"text-align:center;\"> \"genre column analysis\" </h3>"
   ]
  },
  {
   "cell_type": "code",
   "execution_count": 126,
   "id": "c67ba136",
   "metadata": {},
   "outputs": [
    {
     "data": {
      "text/plain": [
       "62"
      ]
     },
     "execution_count": 126,
     "metadata": {},
     "output_type": "execute_result"
    }
   ],
   "source": [
    "anime['genre'].isna().sum()"
   ]
  },
  {
   "cell_type": "code",
   "execution_count": 127,
   "id": "69677b01",
   "metadata": {},
   "outputs": [
    {
     "data": {
      "text/plain": [
       "Hentai                   823\n",
       "Comedy                   523\n",
       "Music                    301\n",
       "Kids                     199\n",
       "Comedy, Slice of Life    179\n",
       "Dementia                 137\n",
       "Fantasy, Kids            128\n",
       "Fantasy                  114\n",
       "Comedy, Kids             112\n",
       "Drama                    107\n",
       "Drama, Kids              105\n",
       "Slice of Life             99\n",
       "Kids, Music               95\n",
       "Comedy, Fantasy, Kids     81\n",
       "Adventure, Kids           80\n",
       "Adventure                 79\n",
       "Adventure, Fantasy        78\n",
       "Action, Mecha, Sci-Fi     77\n",
       "Comedy, Parody            74\n",
       "Historical                68\n",
       "Name: genre, dtype: int64"
      ]
     },
     "execution_count": 127,
     "metadata": {},
     "output_type": "execute_result"
    }
   ],
   "source": [
    "anime['genre'].value_counts().sort_values(ascending=False).head(20)"
   ]
  },
  {
   "cell_type": "code",
   "execution_count": 128,
   "id": "6e747b3b",
   "metadata": {},
   "outputs": [
    {
     "data": {
      "image/png": "[encoded data removed]",
      "text/plain": [
       "<Figure size 1080x576 with 1 Axes>"
      ]
     },
     "metadata": {
      "needs_background": "light"
     },
     "output_type": "display_data"
    }
   ],
   "source": [
    "plt.figure(figsize=(15, 8))\n",
    "plt.title('Most popular genres')\n",
    "sns.countplot(x='genre', data=anime, palette=\"Greens_d\", order=anime['genre'].value_counts().iloc[:15].index)\n",
    "plt.xticks(rotation=45)\n",
    "plt.show()"
   ]
  },
  {
   "cell_type": "markdown",
   "id": "684f8ac0",
   "metadata": {},
   "source": [
    "<b><h3 style=\"text-align:center;\"> \"type\" column analysis </h3></b>"
   ]
  },
  {
   "cell_type": "code",
   "execution_count": 129,
   "id": "a2748add",
   "metadata": {},
   "outputs": [
    {
     "data": {
      "image/png": "[encoded data removed]",
      "text/plain": [
       "<Figure size 1080x360 with 1 Axes>"
      ]
     },
     "metadata": {
      "needs_background": "light"
     },
     "output_type": "display_data"
    }
   ],
   "source": [
    "plt.figure(figsize=(15, 5))\n",
    "plt.title('Number of each type')\n",
    "sns.countplot(y='type', data=anime, palette='rocket')\n",
    "plt.show()"
   ]
  },
  {
   "cell_type": "markdown",
   "id": "a581861a",
   "metadata": {},
   "source": [
    "<b><h3 style=\"text-align:center;\"> \"rating\" column analysis</h3></b>"
   ]
  },
  {
   "cell_type": "code",
   "execution_count": 130,
   "id": "fc16c1f1",
   "metadata": {},
   "outputs": [],
   "source": [
    "anime.dropna(inplace=True)"
   ]
  },
  {
   "cell_type": "code",
   "execution_count": 131,
   "id": "fcdb3848",
   "metadata": {},
   "outputs": [
    {
     "data": {
      "text/plain": [
       "6.00    141\n",
       "7.00     98\n",
       "6.50     90\n",
       "6.25     84\n",
       "5.00     76\n",
       "6.75     72\n",
       "6.67     68\n",
       "6.38     67\n",
       "6.80     67\n",
       "5.67     66\n",
       "6.73     64\n",
       "7.33     64\n",
       "6.34     63\n",
       "6.81     63\n",
       "6.33     62\n",
       "Name: rating, dtype: int64"
      ]
     },
     "execution_count": 131,
     "metadata": {},
     "output_type": "execute_result"
    }
   ],
   "source": [
    "anime['rating'].value_counts().sort_values(ascending=False).head(15)"
   ]
  },
  {
   "cell_type": "code",
   "execution_count": 132,
   "id": "6138a6e2",
   "metadata": {},
   "outputs": [
    {
     "data": {
      "text/plain": [
       "0"
      ]
     },
     "execution_count": 132,
     "metadata": {},
     "output_type": "execute_result"
    }
   ],
   "source": [
    "anime['rating'].isna().sum()"
   ]
  },
  {
   "cell_type": "code",
   "execution_count": 133,
   "id": "53d15370",
   "metadata": {},
   "outputs": [
    {
     "data": {
      "text/html": [
       "<div>\n",
       "<style scoped>\n",
       "    .dataframe tbody tr th:only-of-type {\n",
       "        vertical-align: middle;\n",
       "    }\n",
       "\n",
       "    .dataframe tbody tr th {\n",
       "        vertical-align: top;\n",
       "    }\n",
       "\n",
       "    .dataframe thead th {\n",
       "        text-align: right;\n",
       "    }\n",
       "</style>\n",
       "<table border=\"1\" class=\"dataframe\">\n",
       "  <thead>\n",
       "    <tr style=\"text-align: right;\">\n",
       "      <th></th>\n",
       "      <th>anime_id</th>\n",
       "      <th>name</th>\n",
       "      <th>genre</th>\n",
       "      <th>type</th>\n",
       "      <th>episodes</th>\n",
       "      <th>rating</th>\n",
       "      <th>members</th>\n",
       "      <th>rounded_rating</th>\n",
       "    </tr>\n",
       "  </thead>\n",
       "  <tbody>\n",
       "    <tr>\n",
       "      <th>0</th>\n",
       "      <td>32281</td>\n",
       "      <td>Kimi no Na wa.</td>\n",
       "      <td>Drama, Romance, School, Supernatural</td>\n",
       "      <td>Movie</td>\n",
       "      <td>1</td>\n",
       "      <td>9.37</td>\n",
       "      <td>200630</td>\n",
       "      <td>9</td>\n",
       "    </tr>\n",
       "    <tr>\n",
       "      <th>1</th>\n",
       "      <td>5114</td>\n",
       "      <td>Fullmetal Alchemist: Brotherhood</td>\n",
       "      <td>Action, Adventure, Drama, Fantasy, Magic, Mili...</td>\n",
       "      <td>TV</td>\n",
       "      <td>64</td>\n",
       "      <td>9.26</td>\n",
       "      <td>793665</td>\n",
       "      <td>9</td>\n",
       "    </tr>\n",
       "    <tr>\n",
       "      <th>2</th>\n",
       "      <td>28977</td>\n",
       "      <td>Gintama°</td>\n",
       "      <td>Action, Comedy, Historical, Parody, Samurai, S...</td>\n",
       "      <td>TV</td>\n",
       "      <td>51</td>\n",
       "      <td>9.25</td>\n",
       "      <td>114262</td>\n",
       "      <td>9</td>\n",
       "    </tr>\n",
       "    <tr>\n",
       "      <th>3</th>\n",
       "      <td>9253</td>\n",
       "      <td>Steins;Gate</td>\n",
       "      <td>Sci-Fi, Thriller</td>\n",
       "      <td>TV</td>\n",
       "      <td>24</td>\n",
       "      <td>9.17</td>\n",
       "      <td>673572</td>\n",
       "      <td>9</td>\n",
       "    </tr>\n",
       "    <tr>\n",
       "      <th>4</th>\n",
       "      <td>9969</td>\n",
       "      <td>Gintama&amp;#039;</td>\n",
       "      <td>Action, Comedy, Historical, Parody, Samurai, S...</td>\n",
       "      <td>TV</td>\n",
       "      <td>51</td>\n",
       "      <td>9.16</td>\n",
       "      <td>151266</td>\n",
       "      <td>9</td>\n",
       "    </tr>\n",
       "  </tbody>\n",
       "</table>\n",
       "</div>"
      ],
      "text/plain": [
       "   anime_id                              name  \\\n",
       "0     32281                    Kimi no Na wa.   \n",
       "1      5114  Fullmetal Alchemist: Brotherhood   \n",
       "2     28977                          Gintama°   \n",
       "3      9253                       Steins;Gate   \n",
       "4      9969                     Gintama&#039;   \n",
       "\n",
       "                                               genre   type episodes  rating  \\\n",
       "0               Drama, Romance, School, Supernatural  Movie        1    9.37   \n",
       "1  Action, Adventure, Drama, Fantasy, Magic, Mili...     TV       64    9.26   \n",
       "2  Action, Comedy, Historical, Parody, Samurai, S...     TV       51    9.25   \n",
       "3                                   Sci-Fi, Thriller     TV       24    9.17   \n",
       "4  Action, Comedy, Historical, Parody, Samurai, S...     TV       51    9.16   \n",
       "\n",
       "   members  rounded_rating  \n",
       "0   200630               9  \n",
       "1   793665               9  \n",
       "2   114262               9  \n",
       "3   673572               9  \n",
       "4   151266               9  "
      ]
     },
     "execution_count": 133,
     "metadata": {},
     "output_type": "execute_result"
    }
   ],
   "source": [
    "anime['rounded_rating'] = anime['rating'].apply(lambda x: round(x))\n",
    "anime.head()"
   ]
  },
  {
   "cell_type": "code",
   "execution_count": 134,
   "id": "84aa51a6",
   "metadata": {},
   "outputs": [
    {
     "data": {
      "image/png": "[encoded data removed]",
      "text/plain": [
       "<Figure size 1080x432 with 1 Axes>"
      ]
     },
     "metadata": {
      "needs_background": "light"
     },
     "output_type": "display_data"
    }
   ],
   "source": [
    "plt.figure(figsize=(15,6))\n",
    "sns.countplot(data=anime, x='rounded_rating')\n",
    "plt.title('Number of each rating')\n",
    "plt.show()"
   ]
  },
  {
   "cell_type": "code",
   "execution_count": 135,
   "id": "96cdbbb5",
   "metadata": {},
   "outputs": [
    {
     "data": {
      "text/html": [
       "<div>\n",
       "<style scoped>\n",
       "    .dataframe tbody tr th:only-of-type {\n",
       "        vertical-align: middle;\n",
       "    }\n",
       "\n",
       "    .dataframe tbody tr th {\n",
       "        vertical-align: top;\n",
       "    }\n",
       "\n",
       "    .dataframe thead th {\n",
       "        text-align: right;\n",
       "    }\n",
       "</style>\n",
       "<table border=\"1\" class=\"dataframe\">\n",
       "  <thead>\n",
       "    <tr style=\"text-align: right;\">\n",
       "      <th></th>\n",
       "      <th>user_id</th>\n",
       "      <th>anime_id</th>\n",
       "      <th>user_rating</th>\n",
       "    </tr>\n",
       "  </thead>\n",
       "  <tbody>\n",
       "    <tr>\n",
       "      <th>0</th>\n",
       "      <td>1</td>\n",
       "      <td>20</td>\n",
       "      <td>-1</td>\n",
       "    </tr>\n",
       "    <tr>\n",
       "      <th>1</th>\n",
       "      <td>1</td>\n",
       "      <td>24</td>\n",
       "      <td>-1</td>\n",
       "    </tr>\n",
       "    <tr>\n",
       "      <th>2</th>\n",
       "      <td>1</td>\n",
       "      <td>79</td>\n",
       "      <td>-1</td>\n",
       "    </tr>\n",
       "    <tr>\n",
       "      <th>3</th>\n",
       "      <td>1</td>\n",
       "      <td>226</td>\n",
       "      <td>-1</td>\n",
       "    </tr>\n",
       "    <tr>\n",
       "      <th>4</th>\n",
       "      <td>1</td>\n",
       "      <td>241</td>\n",
       "      <td>-1</td>\n",
       "    </tr>\n",
       "  </tbody>\n",
       "</table>\n",
       "</div>"
      ],
      "text/plain": [
       "   user_id  anime_id  user_rating\n",
       "0        1        20           -1\n",
       "1        1        24           -1\n",
       "2        1        79           -1\n",
       "3        1       226           -1\n",
       "4        1       241           -1"
      ]
     },
     "execution_count": 135,
     "metadata": {},
     "output_type": "execute_result"
    }
   ],
   "source": [
    "ratings.head()"
   ]
  },
  {
   "cell_type": "markdown",
   "id": "01fbc891",
   "metadata": {},
   "source": [
    "When the users didn't leave rating it was set to -1, so lets drop them"
   ]
  },
  {
   "cell_type": "code",
   "execution_count": 136,
   "id": "6b3cf9c1",
   "metadata": {},
   "outputs": [
    {
     "data": {
      "text/html": [
       "<div>\n",
       "<style scoped>\n",
       "    .dataframe tbody tr th:only-of-type {\n",
       "        vertical-align: middle;\n",
       "    }\n",
       "\n",
       "    .dataframe tbody tr th {\n",
       "        vertical-align: top;\n",
       "    }\n",
       "\n",
       "    .dataframe thead th {\n",
       "        text-align: right;\n",
       "    }\n",
       "</style>\n",
       "<table border=\"1\" class=\"dataframe\">\n",
       "  <thead>\n",
       "    <tr style=\"text-align: right;\">\n",
       "      <th></th>\n",
       "      <th>user_id</th>\n",
       "      <th>anime_id</th>\n",
       "      <th>user_rating</th>\n",
       "    </tr>\n",
       "  </thead>\n",
       "  <tbody>\n",
       "    <tr>\n",
       "      <th>47</th>\n",
       "      <td>1</td>\n",
       "      <td>8074</td>\n",
       "      <td>10.0</td>\n",
       "    </tr>\n",
       "    <tr>\n",
       "      <th>81</th>\n",
       "      <td>1</td>\n",
       "      <td>11617</td>\n",
       "      <td>10.0</td>\n",
       "    </tr>\n",
       "    <tr>\n",
       "      <th>83</th>\n",
       "      <td>1</td>\n",
       "      <td>11757</td>\n",
       "      <td>10.0</td>\n",
       "    </tr>\n",
       "    <tr>\n",
       "      <th>101</th>\n",
       "      <td>1</td>\n",
       "      <td>15451</td>\n",
       "      <td>10.0</td>\n",
       "    </tr>\n",
       "    <tr>\n",
       "      <th>153</th>\n",
       "      <td>2</td>\n",
       "      <td>11771</td>\n",
       "      <td>10.0</td>\n",
       "    </tr>\n",
       "  </tbody>\n",
       "</table>\n",
       "</div>"
      ],
      "text/plain": [
       "     user_id  anime_id  user_rating\n",
       "47         1      8074         10.0\n",
       "81         1     11617         10.0\n",
       "83         1     11757         10.0\n",
       "101        1     15451         10.0\n",
       "153        2     11771         10.0"
      ]
     },
     "execution_count": 136,
     "metadata": {},
     "output_type": "execute_result"
    }
   ],
   "source": [
    "ratings['user_rating'] = ratings['user_rating'].apply(lambda x: np.nan if x == -1 else x)\n",
    "ratings.dropna(inplace=True)\n",
    "ratings.head()"
   ]
  },
  {
   "cell_type": "markdown",
   "id": "9fe97b78",
   "metadata": {},
   "source": [
    "Getting the average user rating to each anime"
   ]
  },
  {
   "cell_type": "code",
   "execution_count": 137,
   "id": "ba3652e1",
   "metadata": {},
   "outputs": [],
   "source": [
    "user_ratings = ratings.groupby(['anime_id'], as_index=False)['user_rating'].mean()"
   ]
  },
  {
   "cell_type": "markdown",
   "id": "300bb899",
   "metadata": {},
   "source": [
    "Merging datasets"
   ]
  },
  {
   "cell_type": "code",
   "execution_count": 138,
   "id": "2a2e5181",
   "metadata": {},
   "outputs": [],
   "source": [
    "anime_user_rating = pd.merge(anime, user_ratings, on='anime_id')"
   ]
  },
  {
   "cell_type": "code",
   "execution_count": 139,
   "id": "3ca360b0",
   "metadata": {},
   "outputs": [
    {
     "data": {
      "text/html": [
       "<div>\n",
       "<style scoped>\n",
       "    .dataframe tbody tr th:only-of-type {\n",
       "        vertical-align: middle;\n",
       "    }\n",
       "\n",
       "    .dataframe tbody tr th {\n",
       "        vertical-align: top;\n",
       "    }\n",
       "\n",
       "    .dataframe thead th {\n",
       "        text-align: right;\n",
       "    }\n",
       "</style>\n",
       "<table border=\"1\" class=\"dataframe\">\n",
       "  <thead>\n",
       "    <tr style=\"text-align: right;\">\n",
       "      <th></th>\n",
       "      <th>anime_id</th>\n",
       "      <th>name</th>\n",
       "      <th>genre</th>\n",
       "      <th>type</th>\n",
       "      <th>episodes</th>\n",
       "      <th>rating</th>\n",
       "      <th>members</th>\n",
       "      <th>rounded_rating</th>\n",
       "      <th>user_rating</th>\n",
       "    </tr>\n",
       "  </thead>\n",
       "  <tbody>\n",
       "    <tr>\n",
       "      <th>0</th>\n",
       "      <td>32281</td>\n",
       "      <td>Kimi no Na wa.</td>\n",
       "      <td>Drama, Romance, School, Supernatural</td>\n",
       "      <td>Movie</td>\n",
       "      <td>1</td>\n",
       "      <td>9.37</td>\n",
       "      <td>200630</td>\n",
       "      <td>9</td>\n",
       "      <td>9.426313</td>\n",
       "    </tr>\n",
       "    <tr>\n",
       "      <th>1</th>\n",
       "      <td>5114</td>\n",
       "      <td>Fullmetal Alchemist: Brotherhood</td>\n",
       "      <td>Action, Adventure, Drama, Fantasy, Magic, Mili...</td>\n",
       "      <td>TV</td>\n",
       "      <td>64</td>\n",
       "      <td>9.26</td>\n",
       "      <td>793665</td>\n",
       "      <td>9</td>\n",
       "      <td>9.322741</td>\n",
       "    </tr>\n",
       "    <tr>\n",
       "      <th>2</th>\n",
       "      <td>28977</td>\n",
       "      <td>Gintama°</td>\n",
       "      <td>Action, Comedy, Historical, Parody, Samurai, S...</td>\n",
       "      <td>TV</td>\n",
       "      <td>51</td>\n",
       "      <td>9.25</td>\n",
       "      <td>114262</td>\n",
       "      <td>9</td>\n",
       "      <td>9.449495</td>\n",
       "    </tr>\n",
       "  </tbody>\n",
       "</table>\n",
       "</div>"
      ],
      "text/plain": [
       "   anime_id                              name  \\\n",
       "0     32281                    Kimi no Na wa.   \n",
       "1      5114  Fullmetal Alchemist: Brotherhood   \n",
       "2     28977                          Gintama°   \n",
       "\n",
       "                                               genre   type episodes  rating  \\\n",
       "0               Drama, Romance, School, Supernatural  Movie        1    9.37   \n",
       "1  Action, Adventure, Drama, Fantasy, Magic, Mili...     TV       64    9.26   \n",
       "2  Action, Comedy, Historical, Parody, Samurai, S...     TV       51    9.25   \n",
       "\n",
       "   members  rounded_rating  user_rating  \n",
       "0   200630               9     9.426313  \n",
       "1   793665               9     9.322741  \n",
       "2   114262               9     9.449495  "
      ]
     },
     "execution_count": 139,
     "metadata": {},
     "output_type": "execute_result"
    }
   ],
   "source": [
    "anime_user_rating.head(3)"
   ]
  },
  {
   "cell_type": "markdown",
   "id": "c3ba28af",
   "metadata": {},
   "source": [
    "Recommendation engine"
   ]
  },
  {
   "cell_type": "markdown",
   "id": "a3b3a426",
   "metadata": {},
   "source": [
    "Choosing the columns that i think are important"
   ]
  },
  {
   "cell_type": "code",
   "execution_count": 140,
   "id": "9e2d5017",
   "metadata": {},
   "outputs": [],
   "source": [
    "columns = ['name','genre','type','rating','user_rating']"
   ]
  },
  {
   "cell_type": "code",
   "execution_count": 141,
   "id": "ed5ee3ed",
   "metadata": {},
   "outputs": [
    {
     "data": {
      "text/plain": [
       "name           0\n",
       "genre          0\n",
       "type           0\n",
       "rating         0\n",
       "user_rating    0\n",
       "dtype: int64"
      ]
     },
     "execution_count": 141,
     "metadata": {},
     "output_type": "execute_result"
    }
   ],
   "source": [
    "anime_user_rating[columns].isna().sum()"
   ]
  },
  {
   "cell_type": "markdown",
   "id": "6415ef70",
   "metadata": {},
   "source": [
    "Create the column with all these important columns together"
   ]
  },
  {
   "cell_type": "code",
   "execution_count": 142,
   "id": "c8f39413",
   "metadata": {},
   "outputs": [],
   "source": [
    "def get_important_features(data):\n",
    "    important_features = []\n",
    "    for i in range(0, data.shape[0]):\n",
    "                   important_features.append(data['name'][i]+' '+data['genre'][i]+' '+data['type'][i]+' '+str(data['rating'][i])+' '+str(data['user_rating'][i]))\n",
    "                   \n",
    "    return important_features"
   ]
  },
  {
   "cell_type": "code",
   "execution_count": 143,
   "id": "4cdc503f",
   "metadata": {},
   "outputs": [],
   "source": [
    "anime_user_rating['important_features'] = get_important_features(anime_user_rating)"
   ]
  },
  {
   "cell_type": "code",
   "execution_count": 144,
   "id": "1001607b",
   "metadata": {},
   "outputs": [
    {
     "data": {
      "text/html": [
       "<div>\n",
       "<style scoped>\n",
       "    .dataframe tbody tr th:only-of-type {\n",
       "        vertical-align: middle;\n",
       "    }\n",
       "\n",
       "    .dataframe tbody tr th {\n",
       "        vertical-align: top;\n",
       "    }\n",
       "\n",
       "    .dataframe thead th {\n",
       "        text-align: right;\n",
       "    }\n",
       "</style>\n",
       "<table border=\"1\" class=\"dataframe\">\n",
       "  <thead>\n",
       "    <tr style=\"text-align: right;\">\n",
       "      <th></th>\n",
       "      <th>anime_id</th>\n",
       "      <th>name</th>\n",
       "      <th>genre</th>\n",
       "      <th>type</th>\n",
       "      <th>episodes</th>\n",
       "      <th>rating</th>\n",
       "      <th>members</th>\n",
       "      <th>rounded_rating</th>\n",
       "      <th>user_rating</th>\n",
       "      <th>important_features</th>\n",
       "    </tr>\n",
       "  </thead>\n",
       "  <tbody>\n",
       "    <tr>\n",
       "      <th>0</th>\n",
       "      <td>32281</td>\n",
       "      <td>Kimi no Na wa.</td>\n",
       "      <td>Drama, Romance, School, Supernatural</td>\n",
       "      <td>Movie</td>\n",
       "      <td>1</td>\n",
       "      <td>9.37</td>\n",
       "      <td>200630</td>\n",
       "      <td>9</td>\n",
       "      <td>9.426313</td>\n",
       "      <td>Kimi no Na wa. Drama, Romance, School, Superna...</td>\n",
       "    </tr>\n",
       "    <tr>\n",
       "      <th>1</th>\n",
       "      <td>5114</td>\n",
       "      <td>Fullmetal Alchemist: Brotherhood</td>\n",
       "      <td>Action, Adventure, Drama, Fantasy, Magic, Mili...</td>\n",
       "      <td>TV</td>\n",
       "      <td>64</td>\n",
       "      <td>9.26</td>\n",
       "      <td>793665</td>\n",
       "      <td>9</td>\n",
       "      <td>9.322741</td>\n",
       "      <td>Fullmetal Alchemist: Brotherhood Action, Adven...</td>\n",
       "    </tr>\n",
       "    <tr>\n",
       "      <th>2</th>\n",
       "      <td>28977</td>\n",
       "      <td>Gintama°</td>\n",
       "      <td>Action, Comedy, Historical, Parody, Samurai, S...</td>\n",
       "      <td>TV</td>\n",
       "      <td>51</td>\n",
       "      <td>9.25</td>\n",
       "      <td>114262</td>\n",
       "      <td>9</td>\n",
       "      <td>9.449495</td>\n",
       "      <td>Gintama° Action, Comedy, Historical, Parody, S...</td>\n",
       "    </tr>\n",
       "  </tbody>\n",
       "</table>\n",
       "</div>"
      ],
      "text/plain": [
       "   anime_id                              name  \\\n",
       "0     32281                    Kimi no Na wa.   \n",
       "1      5114  Fullmetal Alchemist: Brotherhood   \n",
       "2     28977                          Gintama°   \n",
       "\n",
       "                                               genre   type episodes  rating  \\\n",
       "0               Drama, Romance, School, Supernatural  Movie        1    9.37   \n",
       "1  Action, Adventure, Drama, Fantasy, Magic, Mili...     TV       64    9.26   \n",
       "2  Action, Comedy, Historical, Parody, Samurai, S...     TV       51    9.25   \n",
       "\n",
       "   members  rounded_rating  user_rating  \\\n",
       "0   200630               9     9.426313   \n",
       "1   793665               9     9.322741   \n",
       "2   114262               9     9.449495   \n",
       "\n",
       "                                  important_features  \n",
       "0  Kimi no Na wa. Drama, Romance, School, Superna...  \n",
       "1  Fullmetal Alchemist: Brotherhood Action, Adven...  \n",
       "2  Gintama° Action, Comedy, Historical, Parody, S...  "
      ]
     },
     "execution_count": 144,
     "metadata": {},
     "output_type": "execute_result"
    }
   ],
   "source": [
    "anime_user_rating.head(3)"
   ]
  },
  {
   "cell_type": "code",
   "execution_count": 145,
   "id": "578216c1",
   "metadata": {},
   "outputs": [],
   "source": [
    "cm = CountVectorizer().fit_transform(anime_user_rating['important_features'])"
   ]
  },
  {
   "cell_type": "code",
   "execution_count": 146,
   "id": "d254c6a9",
   "metadata": {},
   "outputs": [
    {
     "name": "stdout",
     "output_type": "stream",
     "text": [
      "[[1.         0.0836242  0.         ... 0.         0.10660036 0.09090909]\n",
      " [0.0836242  1.         0.24019223 ... 0.         0.         0.        ]\n",
      " [0.         0.24019223 1.         ... 0.         0.         0.        ]\n",
      " ...\n",
      " [0.         0.         0.         ... 1.         0.31622777 0.26967994]\n",
      " [0.10660036 0.         0.         ... 0.31622777 1.         0.74620251]\n",
      " [0.09090909 0.         0.         ... 0.26967994 0.74620251 1.        ]]\n"
     ]
    }
   ],
   "source": [
    "cs = cosine_similarity(cm)\n",
    "print(cs)"
   ]
  },
  {
   "cell_type": "code",
   "execution_count": 190,
   "id": "657d7e3f",
   "metadata": {},
   "outputs": [],
   "source": [
    "title = 'Bleach'\n",
    "anime_id = anime_user_rating[anime_user_rating['name'] == title]['anime_id'].values[0]"
   ]
  },
  {
   "cell_type": "code",
   "execution_count": 191,
   "id": "efcc5355",
   "metadata": {},
   "outputs": [
    {
     "name": "stdout",
     "output_type": "stream",
     "text": [
      "269\n"
     ]
    }
   ],
   "source": [
    "print(anime_id)"
   ]
  },
  {
   "cell_type": "code",
   "execution_count": 192,
   "id": "866ad32f",
   "metadata": {},
   "outputs": [],
   "source": [
    "scores = list(enumerate(cs[anime_id]))"
   ]
  },
  {
   "cell_type": "code",
   "execution_count": 193,
   "id": "bdacaa84",
   "metadata": {},
   "outputs": [
    {
     "name": "stdout",
     "output_type": "stream",
     "text": [
      "[(0, 0.21320071635561041), (1, 0.19611613513818402), (2, 0.2041241452319315), (3, 0.12499999999999997), (4, 0.19611613513818402), (5, 0.17149858514250882), (6, 0.09805806756909201), (7, 0.10660035817780521), (8, 0.07905694150420947), (9, 0.1889822365046136), (10, 0.294174202707276), (11, 0.1178511301977579), (12, 0.2041241452319315), (13, 0.17149858514250882), (14, 0.21320071635561041), (15, 0.10660035817780521), (16, 0.294174202707276), (17, 0.25724787771376323), (18, 0.0), (19, 0.08838834764831843), (20, 0.22360679774997896), (21, 0.25724787771376323), (22, 0.2041241452319315), (23, 0.09128709291752767), (24, 0.0), (25, 0.1889822365046136), (26, 0.3198010745334156), (27, 0.28347335475692037), (28, 0.294174202707276), (29, 0.09805806756909201), (30, 0.19611613513818402), (31, 0.2041241452319315), (32, 0.16666666666666666), (33, 0.19611613513818402), (34, 0.21320071635561041), (35, 0.10660035817780521), (36, 0.10660035817780521), (37, 0.3198010745334156), (38, 0.33541019662496846), (39, 0.22360679774997896), (40, 0.0), (41, 0.1889822365046136), (42, 0.2357022603955158), (43, 0.21320071635561041), (44, 0.28347335475692037), (45, 0.19611613513818402), (46, 0.11180339887498948), (47, 0.17149858514250882), (48, 0.2041241452319315), (49, 0.35355339059327373), (50, 0.09805806756909201), (51, 0.0), (52, 0.30618621784789724), (53, 0.19611613513818402), (54, 0.0), (55, 0.19611613513818402), (56, 0.16222142113076252), (57, 0.10206207261596575), (58, 0.0), (59, 0.22360679774997896), (60, 0.1178511301977579), (61, 0.08111071056538126), (62, 0.17677669529663687), (63, 0.08333333333333333), (64, 0.0), (65, 0.1889822365046136), (66, 0.33541019662496846), (67, 0.09805806756909201), (68, 0.0), (69, 0.24999999999999994), (70, 0.10206207261596575), (71, 0.35355339059327373), (72, 0.15811388300841894), (73, 0.1889822365046136), (74, 0.22360679774997896), (75, 0.22360679774997896), (76, 0.1178511301977579), (77, 0.0), (78, 0.10206207261596575), (79, 0.30618621784789724), (80, 0.33541019662496846), (81, 0.16666666666666666), (82, 0.2041241452319315), (83, 0.33541019662496846), (84, 0.33541019662496846), (85, 0.0944911182523068), (86, 0.0), (87, 0.3198010745334156), (88, 0.09805806756909201), (89, 0.21320071635561041), (90, 0.12499999999999997), (91, 0.17677669529663687), (92, 0.21320071635561041), (93, 0.1178511301977579), (94, 0.1178511301977579), (95, 0.13363062095621217), (96, 0.10660035817780521), (97, 0.0944911182523068), (98, 0.08838834764831843), (99, 0.12499999999999997), (100, 0.2041241452319315), (101, 0.09805806756909201), (102, 0.33541019662496846), (103, 0.08574929257125441), (104, 0.24999999999999994), (105, 0.3198010745334156), (106, 0.2886751345948129), (107, 0.24999999999999994), (108, 0.10206207261596575), (109, 0.1178511301977579), (110, 0.3198010745334156), (111, 0.0), (112, 0.08574929257125441), (113, 0.0), (114, 0.08574929257125441), (115, 0.294174202707276), (116, 0.08838834764831843), (117, 0.0944911182523068), (118, 0.11180339887498948), (119, 0.294174202707276), (120, 0.3198010745334156), (121, 0.0), (122, 0.0), (123, 0.08838834764831843), (124, 0.2357022603955158), (125, 0.1178511301977579), (126, 0.08333333333333333), (127, 0.22360679774997896), (128, 0.2041241452319315), (129, 0.2041241452319315), (130, 0.26726124191242434), (131, 0.28347335475692037), (132, 0.11180339887498948), (133, 0.08333333333333333), (134, 0.0944911182523068), (135, 0.2357022603955158), (136, 0.10206207261596575), (137, 0.2041241452319315), (138, 0.0944911182523068), (139, 0.19611613513818402), (140, 0.0), (141, 0.0), (142, 0.1889822365046136), (143, 0.2357022603955158), (144, 0.12499999999999997), (145, 0.22360679774997896), (146, 0.294174202707276), (147, 0.19611613513818402), (148, 0.26726124191242434), (149, 0.09805806756909201), (150, 0.08838834764831843), (151, 0.35355339059327373), (152, 0.4472135954999579), (153, 0.28347335475692037), (154, 0.22360679774997896), (155, 0.3749999999999999), (156, 0.0), (157, 0.10206207261596575), (158, 0.2041241452319315), (159, 0.08838834764831843), (160, 0.26726124191242434), (161, 0.22360679774997896), (162, 0.33541019662496846), (163, 0.0), (164, 0.10206207261596575), (165, 0.10206207261596575), (166, 0.33541019662496846), (167, 0.18257418583505533), (168, 0.1178511301977579), (169, 0.10660035817780521), (170, 0.19611613513818402), (171, 0.33541019662496846), (172, 0.09805806756909201), (173, 0.0944911182523068), (174, 0.28347335475692037), (175, 0.12499999999999997), (176, 0.0), (177, 0.12499999999999997), (178, 0.26726124191242434), (179, 0.09805806756909201), (180, 0.2041241452319315), (181, 0.0), (182, 0.2357022603955158), (183, 0.2357022603955158), (184, 0.09128709291752767), (185, 0.0), (186, 0.0), (187, 0.0), (188, 0.08111071056538126), (189, 0.3198010745334156), (190, 0.0), (191, 0.33541019662496846), (192, 0.08333333333333333), (193, 0.33541019662496846), (194, 0.19611613513818402), (195, 0.10206207261596575), (196, 0.0), (197, 0.0), (198, 0.21320071635561041), (199, 0.08838834764831843), (200, 0.0944911182523068), (201, 0.0), (202, 0.2357022603955158), (203, 0.19611613513818402), (204, 0.35355339059327373), (205, 0.19611613513818402), (206, 0.09805806756909201), (207, 0.13363062095621217), (208, 0.12499999999999997), (209, 0.13363062095621217), (210, 0.09128709291752767), (211, 0.08574929257125441), (212, 0.33541019662496846), (213, 0.25), (214, 0.07905694150420947), (215, 0.10206207261596575), (216, 0.1178511301977579), (217, 0.3198010745334156), (218, 0.1889822365046136), (219, 0.0), (220, 0.21320071635561041), (221, 0.07715167498104596), (222, 0.10206207261596575), (223, 0.1178511301977579), (224, 0.35355339059327373), (225, 0.07216878364870323), (226, 0.17149858514250882), (227, 0.0), (228, 0.21320071635561041), (229, 0.35355339059327373), (230, 0.21320071635561041), (231, 0.33541019662496846), (232, 0.2041241452319315), (233, 0.1889822365046136), (234, 0.07071067811865475), (235, 0.13363062095621217), (236, 0.09805806756909201), (237, 0.13363062095621217), (238, 0.0), (239, 0.0), (240, 0.0), (241, 0.21320071635561041), (242, 0.0), (243, 0.12499999999999997), (244, 0.18257418583505533), (245, 0.08574929257125441), (246, 0.11180339887498948), (247, 0.10206207261596575), (248, 0.18257418583505533), (249, 0.3198010745334156), (250, 0.09128709291752767), (251, 0.0944911182523068), (252, 0.09805806756909201), (253, 0.22360679774997896), (254, 0.21320071635561041), (255, 0.33541019662496846), (256, 0.3749999999999999), (257, 0.24999999999999994), (258, 0.1178511301977579), (259, 0.09128709291752767), (260, 0.1889822365046136), (261, 0.2357022603955158), (262, 0.0), (263, 0.22360679774997896), (264, 0.30618621784789724), (265, 0.16222142113076252), (266, 0.35355339059327373), (267, 0.0944911182523068), (268, 0.35355339059327373), (269, 0.9999999999999999), (270, 0.18257418583505533), (271, 0.3198010745334156), (272, 0.19611613513818402), (273, 0.3749999999999999), (274, 0.2357022603955158), (275, 0.35355339059327373), (276, 0.1178511301977579), (277, 0.3779644730092272), (278, 0.24999999999999994), (279, 0.10660035817780521), (280, 0.07905694150420947), (281, 0.18257418583505533), (282, 0.2041241452319315), (283, 0.0), (284, 0.08333333333333333), (285, 0.0), (286, 0.11180339887498948), (287, 0.08574929257125441), (288, 0.19611613513818402), (289, 0.17677669529663687), (290, 0.26726124191242434), (291, 0.26726124191242434), (292, 0.21320071635561041), (293, 0.0), (294, 0.22360679774997896), (295, 0.12499999999999997), (296, 0.0), (297, 0.08574929257125441), (298, 0.0), (299, 0.11180339887498948), (300, 0.408248290463863), (301, 0.17677669529663687), (302, 0.0753778361444409), (303, 0.3198010745334156), (304, 0.3198010745334156), (305, 0.07372097807744857), (306, 0.0), (307, 0.0), (308, 0.11180339887498948), (309, 0.2041241452319315), (310, 0.18257418583505533), (311, 0.2886751345948129), (312, 0.294174202707276), (313, 0.42640143271122083), (314, 0.10206207261596575), (315, 0.33541019662496846), (316, 0.39223227027636803), (317, 0.0), (318, 0.19611613513818402), (319, 0.2357022603955158), (320, 0.13363062095621217), (321, 0.08333333333333333), (322, 0.0), (323, 0.19611613513818402), (324, 0.2357022603955158), (325, 0.07905694150420947), (326, 0.3198010745334156), (327, 0.1889822365046136), (328, 0.12499999999999997), (329, 0.0), (330, 0.22360679774997896), (331, 0.294174202707276), (332, 0.0), (333, 0.0753778361444409), (334, 0.08333333333333333), (335, 0.09805806756909201), (336, 0.2041241452319315), (337, 0.33541019662496846), (338, 0.11180339887498948), (339, 0.0), (340, 0.22360679774997896), (341, 0.0), (342, 0.1889822365046136), (343, 0.10660035817780521), (344, 0.10206207261596575), (345, 0.30618621784789724), (346, 0.2357022603955158), (347, 0.0), (348, 0.0), (349, 0.2357022603955158), (350, 0.08838834764831843), (351, 0.0), (352, 0.0), (353, 0.10206207261596575), (354, 0.10660035817780521), (355, 0.0), (356, 0.19611613513818402), (357, 0.33541019662496846), (358, 0.294174202707276), (359, 0.17677669529663687), (360, 0.22360679774997896), (361, 0.21320071635561041), (362, 0.11180339887498948), (363, 0.10660035817780521), (364, 0.10660035817780521), (365, 0.11180339887498948), (366, 0.0), (367, 0.08574929257125441), (368, 0.09805806756909201), (369, 0.06804138174397717), (370, 0.2357022603955158), (371, 0.21320071635561041), (372, 0.2041241452319315), (373, 0.17677669529663687), (374, 0.0), (375, 0.18257418583505533), (376, 0.09128709291752767), (377, 0.0), (378, 0.2357022603955158), (379, 0.2357022603955158), (380, 0.4472135954999579), (381, 0.0), (382, 0.0), (383, 0.19611613513818402), (384, 0.21320071635561041), (385, 0.1889822365046136), (386, 0.0), (387, 0.0), (388, 0.21320071635561041), (389, 0.25724787771376323), (390, 0.09805806756909201), (391, 0.26726124191242434), (392, 0.28347335475692037), (393, 0.13363062095621217), (394, 0.24999999999999994), (395, 0.10660035817780521), (396, 0.0), (397, 0.12499999999999997), (398, 0.35355339059327373), (399, 0.2357022603955158), (400, 0.0944911182523068), (401, 0.09805806756909201), (402, 0.26726124191242434), (403, 0.0), (404, 0.19611613513818402), (405, 0.28347335475692037), (406, 0.10206207261596575), (407, 0.08111071056538126), (408, 0.08838834764831843), (409, 0.08333333333333333), (410, 0.0), (411, 0.30618621784789724), (412, 0.0), (413, 0.19611613513818402), (414, 0.26726124191242434), (415, 0.2357022603955158), (416, 0.08838834764831843), (417, 0.0), (418, 0.0), (419, 0.0), (420, 0.1178511301977579), (421, 0.294174202707276), (422, 0.33541019662496846), (423, 0.22360679774997896), (424, 0.33541019662496846), (425, 0.35355339059327373), (426, 0.0), (427, 0.10660035817780521), (428, 0.0), (429, 0.30618621784789724), (430, 0.0), (431, 0.2041241452319315), (432, 0.28347335475692037), (433, 0.10660035817780521), (434, 0.09805806756909201), (435, 0.294174202707276), (436, 0.30618621784789724), (437, 0.0), (438, 0.1178511301977579), (439, 0.11180339887498948), (440, 0.10206207261596575), (441, 0.08111071056538126), (442, 0.09805806756909201), (443, 0.0), (444, 0.10206207261596575), (445, 0.21320071635561041), (446, 0.08574929257125441), (447, 0.08574929257125441), (448, 0.0), (449, 0.24999999999999994), (450, 0.42640143271122083), (451, 0.21320071635561041), (452, 0.17677669529663687), (453, 0.21320071635561041), (454, 0.0), (455, 0.10206207261596575), (456, 0.2357022603955158), (457, 0.09128709291752767), (458, 0.08838834764831843), (459, 0.0944911182523068), (460, 0.0), (461, 0.13363062095621217), (462, 0.11180339887498948), (463, 0.22360679774997896), (464, 0.0), (465, 0.1178511301977579), (466, 0.08333333333333333), (467, 0.11180339887498948), (468, 0.10660035817780521), (469, 0.4999999999999999), (470, 0.16222142113076252), (471, 0.0944911182523068), (472, 0.0), (473, 0.22360679774997896), (474, 0.35355339059327373), (475, 0.2357022603955158), (476, 0.21320071635561041), (477, 0.21320071635561041), (478, 0.24999999999999994), (479, 0.3779644730092272), (480, 0.294174202707276), (481, 0.09805806756909201), (482, 0.294174202707276), (483, 0.19611613513818402), (484, 0.2041241452319315), (485, 0.11180339887498948), (486, 0.1178511301977579), (487, 0.09805806756909201), (488, 0.11180339887498948), (489, 0.2357022603955158), (490, 0.18257418583505533), (491, 0.18257418583505533), (492, 0.1889822365046136), (493, 0.2041241452319315), (494, 0.1178511301977579), (495, 0.1178511301977579), (496, 0.0), (497, 0.0944911182523068), (498, 0.0), (499, 0.10660035817780521), (500, 0.09805806756909201), (501, 0.08838834764831843), (502, 0.10206207261596575), (503, 0.11180339887498948), (504, 0.294174202707276), (505, 0.11180339887498948), (506, 0.11180339887498948), (507, 0.08838834764831843), (508, 0.11180339887498948), (509, 0.24999999999999994), (510, 0.08838834764831843), (511, 0.11180339887498948), (512, 0.0), (513, 0.11180339887498948), (514, 0.09805806756909201), (515, 0.0), (516, 0.0), (517, 0.0944911182523068), (518, 0.09805806756909201), (519, 0.0), (520, 0.25), (521, 0.0), (522, 0.09128709291752767), (523, 0.10660035817780521), (524, 0.19611613513818402), (525, 0.273861278752583), (526, 0.294174202707276), (527, 0.24999999999999994), (528, 0.2357022603955158), (529, 0.17677669529663687), (530, 0.08574929257125441), (531, 0.08111071056538126), (532, 0.11180339887498948), (533, 0.11180339887498948), (534, 0.10660035817780521), (535, 0.0), (536, 0.1178511301977579), (537, 0.09805806756909201), (538, 0.3198010745334156), (539, 0.1178511301977579), (540, 0.09805806756909201), (541, 0.09128709291752767), (542, 0.22360679774997896), (543, 0.21320071635561041), (544, 0.0944911182523068), (545, 0.0), (546, 0.19611613513818402), (547, 0.11180339887498948), (548, 0.10660035817780521), (549, 0.08574929257125441), (550, 0.10206207261596575), (551, 0.16222142113076252), (552, 0.0), (553, 0.0), (554, 0.19611613513818402), (555, 0.08838834764831843), (556, 0.10206207261596575), (557, 0.21320071635561041), (558, 0.2357022603955158), (559, 0.0), (560, 0.0), (561, 0.0), (562, 0.13363062095621217), (563, 0.28347335475692037), (564, 0.18257418583505533), (565, 0.10206207261596575), (566, 0.10660035817780521), (567, 0.10660035817780521), (568, 0.11180339887498948), (569, 0.273861278752583), (570, 0.24999999999999994), (571, 0.18257418583505533), (572, 0.09128709291752767), (573, 0.08333333333333333), (574, 0.09128709291752767), (575, 0.1178511301977579), (576, 0.0), (577, 0.19611613513818402), (578, 0.21320071635561041), (579, 0.22360679774997896), (580, 0.09805806756909201), (581, 0.35355339059327373), (582, 0.0), (583, 0.22360679774997896), (584, 0.09128709291752767), (585, 0.09805806756909201), (586, 0.30618621784789724), (587, 0.17677669529663687), (588, 0.0), (589, 0.0), (590, 0.0), (591, 0.08333333333333333), (592, 0.08333333333333333), (593, 0.0), (594, 0.10206207261596575), (595, 0.18257418583505533), (596, 0.0), (597, 0.0), (598, 0.1178511301977579), (599, 0.1889822365046136), (600, 0.08111071056538126), (601, 0.0), (602, 0.10206207261596575), (603, 0.0), (604, 0.3749999999999999), (605, 0.3198010745334156), (606, 0.0), (607, 0.0), (608, 0.09128709291752767), (609, 0.0), (610, 0.0), (611, 0.1178511301977579), (612, 0.10660035817780521), (613, 0.08333333333333333), (614, 0.273861278752583), (615, 0.09805806756909201), (616, 0.30618621784789724), (617, 0.0), (618, 0.24999999999999994), (619, 0.1178511301977579), (620, 0.10660035817780521), (621, 0.08574929257125441), (622, 0.0), (623, 0.09128709291752767), (624, 0.294174202707276), (625, 0.10660035817780521), (626, 0.10206207261596575), (627, 0.0944911182523068), (628, 0.07905694150420947), (629, 0.24999999999999994), (630, 0.24999999999999994), (631, 0.21320071635561041), (632, 0.11180339887498948), (633, 0.0), (634, 0.0), (635, 0.0), (636, 0.0), (637, 0.22360679774997896), (638, 0.19611613513818402), (639, 0.0), (640, 0.13363062095621217), (641, 0.24999999999999994), (642, 0.19611613513818402), (643, 0.08574929257125441), (644, 0.09128709291752767), (645, 0.11180339887498948), (646, 0.08838834764831843), (647, 0.2357022603955158), (648, 0.10660035817780521), (649, 0.08111071056538126), (650, 0.32444284226152503), (651, 0.33541019662496846), (652, 0.11180339887498948), (653, 0.2041241452319315), (654, 0.09805806756909201), (655, 0.10206207261596575), (656, 0.22360679774997896), (657, 0.35355339059327373), (658, 0.40089186286863654), (659, 0.11180339887498948), (660, 0.0), (661, 0.30618621784789724), (662, 0.13363062095621217), (663, 0.0), (664, 0.0), (665, 0.09805806756909201), (666, 0.12499999999999997), (667, 0.28347335475692037), (668, 0.3198010745334156), (669, 0.10206207261596575), (670, 0.22360679774997896), (671, 0.0944911182523068), (672, 0.19611613513818402), (673, 0.0944911182523068), (674, 0.25724787771376323), (675, 0.0), (676, 0.17677669529663687), (677, 0.09805806756909201), (678, 0.10206207261596575), (679, 0.07905694150420947), (680, 0.0), (681, 0.0), (682, 0.17149858514250882), (683, 0.12499999999999997), (684, 0.2357022603955158), (685, 0.0944911182523068), (686, 0.0), (687, 0.3779644730092272), (688, 0.1178511301977579), (689, 0.14433756729740646), (690, 0.16666666666666666), (691, 0.09128709291752767), (692, 0.11180339887498948), (693, 0.0), (694, 0.10660035817780521), (695, 0.10660035817780521), (696, 0.11180339887498948), (697, 0.21320071635561041), (698, 0.09128709291752767), (699, 0.09805806756909201), (700, 0.08111071056538126), (701, 0.2041241452319315), (702, 0.0), (703, 0.18257418583505533), (704, 0.2041241452319315), (705, 0.17677669529663687), (706, 0.11180339887498948), (707, 0.22360679774997896), (708, 0.11180339887498948), (709, 0.08111071056538126), (710, 0.10660035817780521), (711, 0.1889822365046136), (712, 0.08838834764831843), (713, 0.10206207261596575), (714, 0.10660035817780521), (715, 0.10206207261596575), (716, 0.10206207261596575), (717, 0.1178511301977579), (718, 0.15811388300841894), (719, 0.19611613513818402), (720, 0.33541019662496846), (721, 0.10206207261596575), (722, 0.1889822365046136), (723, 0.273861278752583), (724, 0.0), (725, 0.10660035817780521), (726, 0.08333333333333333), (727, 0.1178511301977579), (728, 0.24999999999999994), (729, 0.0), (730, 0.0), (731, 0.0), (732, 0.0), (733, 0.0), (734, 0.0), (735, 0.0), (736, 0.2041241452319315), (737, 0.18257418583505533), (738, 0.10660035817780521), (739, 0.19611613513818402), (740, 0.08838834764831843), (741, 0.30618621784789724), (742, 0.1889822365046136), (743, 0.26726124191242434), (744, 0.09128709291752767), (745, 0.28347335475692037), (746, 0.0), (747, 0.2651650429449553), (748, 0.08333333333333333), (749, 0.09128709291752767), (750, 0.0), (751, 0.0), (752, 0.4714045207910316), (753, 0.0944911182523068), (754, 0.09805806756909201), (755, 0.10660035817780521), (756, 0.1178511301977579), (757, 0.1178511301977579), (758, 0.0), (759, 0.10660035817780521), (760, 0.07905694150420947), (761, 0.21320071635561041), (762, 0.1178511301977579), (763, 0.0), (764, 0.1178511301977579), (765, 0.0), (766, 0.1889822365046136), (767, 0.09805806756909201), (768, 0.10660035817780521), (769, 0.10206207261596575), (770, 0.0944911182523068), (771, 0.10660035817780521), (772, 0.10206207261596575), (773, 0.0), (774, 0.18257418583505533), (775, 0.10660035817780521), (776, 0.08574929257125441), (777, 0.0), (778, 0.0), (779, 0.0), (780, 0.16666666666666666), (781, 0.0), (782, 0.10660035817780521), (783, 0.2041241452319315), (784, 0.21320071635561041), (785, 0.21320071635561041), (786, 0.10660035817780521), (787, 0.1889822365046136), (788, 0.2357022603955158), (789, 0.0), (790, 0.0), (791, 0.08111071056538126), (792, 0.07905694150420947), (793, 0.09805806756909201), (794, 0.0), (795, 0.11180339887498948), (796, 0.0), (797, 0.17677669529663687), (798, 0.2041241452319315), (799, 0.08574929257125441), (800, 0.11180339887498948), (801, 0.0), (802, 0.0), (803, 0.18257418583505533), (804, 0.08333333333333333), (805, 0.12499999999999997), (806, 0.10206207261596575), (807, 0.08838834764831843), (808, 0.0), (809, 0.3779644730092272), (810, 0.10206207261596575), (811, 0.21320071635561041), (812, 0.11180339887498948), (813, 0.1889822365046136), (814, 0.2357022603955158), (815, 0.10206207261596575), (816, 0.17149858514250882), (817, 0.0), (818, 0.08574929257125441), (819, 0.11180339887498948), (820, 0.09128709291752767), (821, 0.10660035817780521), (822, 0.1178511301977579), (823, 0.0), (824, 0.0), (825, 0.0), (826, 0.33541019662496846), (827, 0.35355339059327373), (828, 0.0), (829, 0.30618621784789724), (830, 0.12499999999999997), (831, 0.09128709291752767), (832, 0.2357022603955158), (833, 0.11180339887498948), (834, 0.33541019662496846), (835, 0.22360679774997896), (836, 0.22360679774997896), (837, 0.07905694150420947), (838, 0.18257418583505533), (839, 0.11180339887498948), (840, 0.0), (841, 0.0), (842, 0.09805806756909201), (843, 0.0), (844, 0.0), (845, 0.11180339887498948), (846, 0.08838834764831843), (847, 0.2041241452319315), (848, 0.0), (849, 0.0), (850, 0.2357022603955158), (851, 0.0), (852, 0.3749999999999999), (853, 0.09805806756909201), (854, 0.10660035817780521), (855, 0.09805806756909201), (856, 0.10206207261596575), (857, 0.1178511301977579), (858, 0.28347335475692037), (859, 0.0), (860, 0.11180339887498948), (861, 0.0), (862, 0.2357022603955158), (863, 0.18257418583505533), (864, 0.18257418583505533), (865, 0.0), (866, 0.0), (867, 0.10660035817780521), (868, 0.25), (869, 0.0), (870, 0.08574929257125441), (871, 0.0), (872, 0.08574929257125441), (873, 0.10660035817780521), (874, 0.12499999999999997), (875, 0.11180339887498948), (876, 0.06804138174397717), (877, 0.33541019662496846), (878, 0.13363062095621217), (879, 0.19611613513818402), (880, 0.2041241452319315), (881, 0.2357022603955158), (882, 0.21320071635561041), (883, 0.0753778361444409), (884, 0.24999999999999994), (885, 0.0), (886, 0.2357022603955158), (887, 0.30618621784789724), (888, 0.2357022603955158), (889, 0.0), (890, 0.24999999999999994), (891, 0.09805806756909201), (892, 0.36514837167011066), (893, 0.1178511301977579), (894, 0.0), (895, 0.13363062095621217), (896, 0.09128709291752767), (897, 0.0), (898, 0.0), (899, 0.08333333333333333), (900, 0.09805806756909201), (901, 0.0), (902, 0.1889822365046136), (903, 0.21320071635561041), (904, 0.09128709291752767), (905, 0.16666666666666666), (906, 0.09128709291752767), (907, 0.21320071635561041), (908, 0.08838834764831843), (909, 0.10206207261596575), (910, 0.1178511301977579), (911, 0.09128709291752767), (912, 0.0), (913, 0.3198010745334156), (914, 0.1178511301977579), (915, 0.2357022603955158), (916, 0.1178511301977579), (917, 0.19611613513818402), (918, 0.2041241452319315), (919, 0.26726124191242434), (920, 0.13363062095621217), (921, 0.0), (922, 0.2357022603955158), (923, 0.12499999999999997), (924, 0.0), (925, 0.19611613513818402), (926, 0.0), (927, 0.12499999999999997), (928, 0.08838834764831843), (929, 0.0), (930, 0.09128709291752767), (931, 0.21320071635561041), (932, 0.24333213169614376), (933, 0.17149858514250882), (934, 0.17149858514250882), (935, 0.0), (936, 0.0), (937, 0.0), (938, 0.0), (939, 0.09805806756909201), (940, 0.0944911182523068), (941, 0.07905694150420947), (942, 0.2357022603955158), (943, 0.4472135954999579), (944, 0.1178511301977579), (945, 0.10660035817780521), (946, 0.08838834764831843), (947, 0.21320071635561041), (948, 0.35355339059327373), (949, 0.09805806756909201), (950, 0.10206207261596575), (951, 0.18257418583505533), (952, 0.0), (953, 0.12499999999999997), (954, 0.0), (955, 0.21213203435596426), (956, 0.09805806756909201), (957, 0.10660035817780521), (958, 0.10206207261596575), (959, 0.10206207261596575), (960, 0.1889822365046136), (961, 0.3198010745334156), (962, 0.0), (963, 0.18257418583505533), (964, 0.0), (965, 0.19611613513818402), (966, 0.30618621784789724), (967, 0.17149858514250882), (968, 0.21320071635561041), (969, 0.1178511301977579), (970, 0.1178511301977579), (971, 0.0), (972, 0.0), (973, 0.30618621784789724), (974, 0.13363062095621217), (975, 0.0), (976, 0.12499999999999997), (977, 0.0), (978, 0.35355339059327373), (979, 0.1178511301977579), (980, 0.09128709291752767), (981, 0.294174202707276), (982, 0.19611613513818402), (983, 0.273861278752583), (984, 0.15811388300841894), (985, 0.0), (986, 0.0), (987, 0.0), (988, 0.11180339887498948), (989, 0.10206207261596575), (990, 0.11180339887498948), (991, 0.1178511301977579), (992, 0.1889822365046136), (993, 0.10660035817780521), (994, 0.09128709291752767), (995, 0.0944911182523068), (996, 0.0), (997, 0.0), (998, 0.0944911182523068), (999, 0.09805806756909201), (1000, 0.0), (1001, 0.17677669529663687), (1002, 0.0), (1003, 0.09805806756909201), (1004, 0.22360679774997896), (1005, 0.21320071635561041), (1006, 0.0), (1007, 0.0), (1008, 0.2357022603955158), (1009, 0.21320071635561041), (1010, 0.22360679774997896), (1011, 0.24999999999999994), (1012, 0.10206207261596575), (1013, 0.17677669529663687), (1014, 0.0), (1015, 0.1178511301977579), (1016, 0.0), (1017, 0.08333333333333333), (1018, 0.24999999999999994), (1019, 0.0), (1020, 0.0), (1021, 0.10660035817780521), (1022, 0.2041241452319315), (1023, 0.22360679774997896), (1024, 0.0), (1025, 0.08838834764831843), (1026, 0.18257418583505533), (1027, 0.28347335475692037), (1028, 0.35355339059327373), (1029, 0.17677669529663687), (1030, 0.0), (1031, 0.08333333333333333), (1032, 0.10660035817780521), (1033, 0.0), (1034, 0.19611613513818402), (1035, 0.13363062095621217), (1036, 0.11180339887498948), (1037, 0.0), (1038, 0.11180339887498948), (1039, 0.2886751345948129), (1040, 0.273861278752583), (1041, 0.0), (1042, 0.0944911182523068), (1043, 0.35355339059327373), (1044, 0.0), (1045, 0.0), (1046, 0.08111071056538126), (1047, 0.0), (1048, 0.3779644730092272), (1049, 0.1178511301977579), (1050, 0.10206207261596575), (1051, 0.0), (1052, 0.10660035817780521), (1053, 0.1889822365046136), (1054, 0.11180339887498948), (1055, 0.11180339887498948), (1056, 0.2357022603955158), (1057, 0.1178511301977579), (1058, 0.30618621784789724), (1059, 0.08333333333333333), (1060, 0.22360679774997896), (1061, 0.25), (1062, 0.2651650429449553), (1063, 0.0), (1064, 0.0), (1065, 0.1178511301977579), (1066, 0.2357022603955158), (1067, 0.0), (1068, 0.13363062095621217), (1069, 0.10660035817780521), (1070, 0.2041241452319315), (1071, 0.07905694150420947), (1072, 0.09805806756909201), (1073, 0.09805806756909201), (1074, 0.11180339887498948), (1075, 0.10206207261596575), (1076, 0.12499999999999997), (1077, 0.42640143271122083), (1078, 0.28347335475692037), (1079, 0.0), (1080, 0.1178511301977579), (1081, 0.0), (1082, 0.09805806756909201), (1083, 0.08111071056538126), (1084, 0.17677669529663687), (1085, 0.1889822365046136), (1086, 0.1889822365046136), (1087, 0.1889822365046136), (1088, 0.0), (1089, 0.0944911182523068), (1090, 0.3198010745334156), (1091, 0.11180339887498948), (1092, 0.0), (1093, 0.3198010745334156), (1094, 0.10660035817780521), (1095, 0.10206207261596575), (1096, 0.1178511301977579), (1097, 0.2041241452319315), (1098, 0.26726124191242434), (1099, 0.0944911182523068), (1100, 0.0), (1101, 0.10660035817780521), (1102, 0.1178511301977579), (1103, 0.0), (1104, 0.09805806756909201), (1105, 0.2041241452319315), (1106, 0.1178511301977579), (1107, 0.0), (1108, 0.0), (1109, 0.06454972243679027), (1110, 0.08333333333333333), (1111, 0.09805806756909201), (1112, 0.10660035817780521), (1113, 0.12499999999999997), (1114, 0.10660035817780521), (1115, 0.273861278752583), (1116, 0.0), (1117, 0.10206207261596575), (1118, 0.09805806756909201), (1119, 0.0), (1120, 0.08333333333333333), (1121, 0.0), (1122, 0.10206207261596575), (1123, 0.09805806756909201), (1124, 0.33541019662496846), (1125, 0.08333333333333333), (1126, 0.0), (1127, 0.09128709291752767), (1128, 0.11180339887498948), (1129, 0.0944911182523068), (1130, 0.273861278752583), (1131, 0.22360679774997896), (1132, 0.0), (1133, 0.10206207261596575), (1134, 0.22360679774997896), (1135, 0.0), (1136, 0.10206207261596575), (1137, 0.2651650429449553), (1138, 0.08333333333333333), (1139, 0.19611613513818402), (1140, 0.0), (1141, 0.0), (1142, 0.10660035817780521), (1143, 0.0), (1144, 0.22360679774997896), (1145, 0.0), (1146, 0.0), (1147, 0.21320071635561041), (1148, 0.0), (1149, 0.18257418583505533), (1150, 0.11180339887498948), (1151, 0.09128709291752767), (1152, 0.30618621784789724), (1153, 0.18257418583505533), (1154, 0.07372097807744857), (1155, 0.10206207261596575), (1156, 0.0), (1157, 0.2041241452319315), (1158, 0.1178511301977579), (1159, 0.2041241452319315), (1160, 0.10206207261596575), (1161, 0.22360679774997896), (1162, 0.0), (1163, 0.2041241452319315), (1164, 0.35355339059327373), (1165, 0.19611613513818402), (1166, 0.22360679774997896), (1167, 0.273861278752583), (1168, 0.0), (1169, 0.10206207261596575), (1170, 0.10660035817780521), (1171, 0.0), (1172, 0.19611613513818402), (1173, 0.2651650429449553), (1174, 0.10660035817780521), (1175, 0.11180339887498948), (1176, 0.3198010745334156), (1177, 0.09128709291752767), (1178, 0.10660035817780521), (1179, 0.28347335475692037), (1180, 0.12499999999999997), (1181, 0.10660035817780521), (1182, 0.0), (1183, 0.09128709291752767), (1184, 0.22360679774997896), (1185, 0.3198010745334156), (1186, 0.0), (1187, 0.21320071635561041), (1188, 0.0), (1189, 0.1507556722888818), (1190, 0.0), (1191, 0.0), (1192, 0.19611613513818402), (1193, 0.28347335475692037), (1194, 0.21320071635561041), (1195, 0.18257418583505533), (1196, 0.07372097807744857), (1197, 0.0), (1198, 0.18257418583505533), (1199, 0.2357022603955158), (1200, 0.0), (1201, 0.0), (1202, 0.09805806756909201), (1203, 0.26726124191242434), (1204, 0.10660035817780521), (1205, 0.10660035817780521), (1206, 0.0), (1207, 0.273861278752583), (1208, 0.0), (1209, 0.21320071635561041), (1210, 0.25724787771376323), (1211, 0.08333333333333333), (1212, 0.2357022603955158), (1213, 0.10660035817780521), (1214, 0.2357022603955158), (1215, 0.0), (1216, 0.1178511301977579), (1217, 0.0), (1218, 0.10206207261596575), (1219, 0.18257418583505533), (1220, 0.19611613513818402), (1221, 0.2041241452319315), (1222, 0.2041241452319315), (1223, 0.21320071635561041), (1224, 0.0), (1225, 0.0), (1226, 0.11180339887498948), (1227, 0.294174202707276), (1228, 0.1889822365046136), (1229, 0.2357022603955158), (1230, 0.2651650429449553), (1231, 0.0), (1232, 0.0944911182523068), (1233, 0.10660035817780521), (1234, 0.0), (1235, 0.24999999999999994), (1236, 0.10206207261596575), (1237, 0.1178511301977579), (1238, 0.0), (1239, 0.1178511301977579), (1240, 0.0), (1241, 0.17677669529663687), (1242, 0.0), (1243, 0.08111071056538126), (1244, 0.09128709291752767), (1245, 0.33541019662496846), (1246, 0.0), (1247, 0.273861278752583), (1248, 0.0), (1249, 0.0), (1250, 0.08111071056538126), (1251, 0.12499999999999997), (1252, 0.0), (1253, 0.10660035817780521), (1254, 0.0), (1255, 0.13363062095621217), (1256, 0.11180339887498948), (1257, 0.18257418583505533), (1258, 0.10660035817780521), (1259, 0.15811388300841894), (1260, 0.10206207261596575), (1261, 0.3198010745334156), (1262, 0.08574929257125441), (1263, 0.10206207261596575), (1264, 0.0), (1265, 0.1178511301977579), (1266, 0.22360679774997896), (1267, 0.0), (1268, 0.11180339887498948), (1269, 0.0), (1270, 0.10660035817780521), (1271, 0.0944911182523068), (1272, 0.1178511301977579), (1273, 0.2357022603955158), (1274, 0.24999999999999994), (1275, 0.16222142113076252), (1276, 0.0), (1277, 0.0), (1278, 0.0944911182523068), (1279, 0.0), (1280, 0.0), (1281, 0.0), (1282, 0.2357022603955158), (1283, 0.08333333333333333), (1284, 0.0), (1285, 0.273861278752583), (1286, 0.2041241452319315), (1287, 0.08838834764831843), (1288, 0.19611613513818402), (1289, 0.0), (1290, 0.0), (1291, 0.0), (1292, 0.11180339887498948), (1293, 0.0), (1294, 0.0), (1295, 0.21320071635561041), (1296, 0.18257418583505533), (1297, 0.11180339887498948), (1298, 0.10660035817780521), (1299, 0.10206207261596575), (1300, 0.08838834764831843), (1301, 0.35355339059327373), (1302, 0.0), (1303, 0.0), (1304, 0.0), (1305, 0.2041241452319315), (1306, 0.16222142113076252), (1307, 0.0), (1308, 0.21320071635561041), (1309, 0.0), (1310, 0.10206207261596575), (1311, 0.11180339887498948), (1312, 0.12499999999999997), (1313, 0.0), (1314, 0.3779644730092272), (1315, 0.19611613513818402), (1316, 0.0944911182523068), (1317, 0.25), (1318, 0.21320071635561041), (1319, 0.17149858514250882), (1320, 0.3198010745334156), (1321, 0.10206207261596575), (1322, 0.11180339887498948), (1323, 0.07905694150420947), (1324, 0.08111071056538126), (1325, 0.10660035817780521), (1326, 0.33541019662496846), (1327, 0.09805806756909201), (1328, 0.0), (1329, 0.0), (1330, 0.0), (1331, 0.10206207261596575), (1332, 0.09128709291752767), (1333, 0.12499999999999997), (1334, 0.22360679774997896), (1335, 0.1178511301977579), (1336, 0.2041241452319315), (1337, 0.2357022603955158), (1338, 0.10206207261596575), (1339, 0.21320071635561041), (1340, 0.0), (1341, 0.10660035817780521), (1342, 0.0), (1343, 0.0), (1344, 0.0), (1345, 0.10206207261596575), (1346, 0.0944911182523068), (1347, 0.07216878364870323), (1348, 0.0), (1349, 0.11180339887498948), (1350, 0.3198010745334156), (1351, 0.10660035817780521), (1352, 0.0), (1353, 0.0944911182523068), (1354, 0.1889822365046136), (1355, 0.0), (1356, 0.08574929257125441), (1357, 0.09128709291752767), (1358, 0.0), (1359, 0.22360679774997896), (1360, 0.10660035817780521), (1361, 0.33541019662496846), (1362, 0.10660035817780521), (1363, 0.0944911182523068), (1364, 0.17677669529663687), (1365, 0.1178511301977579), (1366, 0.11180339887498948), (1367, 0.0), (1368, 0.17677669529663687), (1369, 0.3198010745334156), (1370, 0.3198010745334156), (1371, 0.13363062095621217), (1372, 0.09805806756909201), (1373, 0.10660035817780521), (1374, 0.11180339887498948), (1375, 0.09805806756909201), (1376, 0.0), (1377, 0.08838834764831843), (1378, 0.07905694150420947), (1379, 0.0), (1380, 0.3198010745334156), (1381, 0.0), (1382, 0.11180339887498948), (1383, 0.21320071635561041), (1384, 0.2357022603955158), (1385, 0.10206207261596575), (1386, 0.0), (1387, 0.12499999999999997), (1388, 0.0), (1389, 0.35355339059327373), (1390, 0.10660035817780521), (1391, 0.0), (1392, 0.0), (1393, 0.16222142113076252), (1394, 0.11180339887498948), (1395, 0.08111071056538126), (1396, 0.17677669529663687), (1397, 0.0944911182523068), (1398, 0.1543033499620919), (1399, 0.39223227027636803), (1400, 0.0), (1401, 0.10660035817780521), (1402, 0.0), (1403, 0.0), (1404, 0.3749999999999999), (1405, 0.19611613513818402), (1406, 0.0944911182523068), (1407, 0.30618621784789724), (1408, 0.1889822365046136), (1409, 0.33541019662496846), (1410, 0.09128709291752767), (1411, 0.2041241452319315), (1412, 0.0), (1413, 0.0), (1414, 0.0), (1415, 0.10206207261596575), (1416, 0.19611613513818402), (1417, 0.0), (1418, 0.10660035817780521), (1419, 0.0), (1420, 0.0944911182523068), (1421, 0.0), (1422, 0.1178511301977579), (1423, 0.21320071635561041), (1424, 0.3198010745334156), (1425, 0.294174202707276), (1426, 0.21320071635561041), (1427, 0.2041241452319315), (1428, 0.08838834764831843), (1429, 0.09805806756909201), (1430, 0.0944911182523068), (1431, 0.1178511301977579), (1432, 0.294174202707276), (1433, 0.10660035817780521), (1434, 0.09128709291752767), (1435, 0.10660035817780521), (1436, 0.13363062095621217), (1437, 0.2041241452319315), (1438, 0.2357022603955158), (1439, 0.2651650429449553), (1440, 0.22360679774997896), (1441, 0.0), (1442, 0.14433756729740646), (1443, 0.12499999999999997), (1444, 0.22360679774997896), (1445, 0.08838834764831843), (1446, 0.39223227027636803), (1447, 0.0), (1448, 0.08838834764831843), (1449, 0.08574929257125441), (1450, 0.26726124191242434), (1451, 0.17677669529663687), (1452, 0.3779644730092272), (1453, 0.13363062095621217), (1454, 0.22360679774997896), (1455, 0.0), (1456, 0.0), (1457, 0.10206207261596575), (1458, 0.3198010745334156), (1459, 0.2041241452319315), (1460, 0.09805806756909201), (1461, 0.0), (1462, 0.35355339059327373), (1463, 0.13363062095621217), (1464, 0.36514837167011066), (1465, 0.17677669529663687), (1466, 0.08838834764831843), (1467, 0.2357022603955158), (1468, 0.19611613513818402), (1469, 0.08574929257125441), (1470, 0.2041241452319315), (1471, 0.1178511301977579), (1472, 0.12499999999999997), (1473, 0.09805806756909201), (1474, 0.1178511301977579), (1475, 0.08333333333333333), (1476, 0.11180339887498948), (1477, 0.0), (1478, 0.0), (1479, 0.19611613513818402), (1480, 0.11180339887498948), (1481, 0.12499999999999997), (1482, 0.12499999999999997), (1483, 0.10206207261596575), (1484, 0.0), (1485, 0.09128709291752767), (1486, 0.30618621784789724), (1487, 0.10660035817780521), (1488, 0.18257418583505533), (1489, 0.10660035817780521), (1490, 0.10660035817780521), (1491, 0.0944911182523068), (1492, 0.0944911182523068), (1493, 0.08333333333333333), (1494, 0.0), (1495, 0.10206207261596575), (1496, 0.11180339887498948), (1497, 0.11180339887498948), (1498, 0.0), (1499, 0.21320071635561041), (1500, 0.22360679774997896), (1501, 0.0), (1502, 0.0), (1503, 0.15811388300841894), (1504, 0.0), (1505, 0.1889822365046136), (1506, 0.0944911182523068), (1507, 0.10660035817780521), (1508, 0.19611613513818402), (1509, 0.24999999999999994), (1510, 0.2041241452319315), (1511, 0.10660035817780521), (1512, 0.09805806756909201), (1513, 0.3779644730092272), (1514, 0.0), (1515, 0.0), (1516, 0.40089186286863654), (1517, 0.09805806756909201), (1518, 0.1178511301977579), (1519, 0.24999999999999994), (1520, 0.0), (1521, 0.0), (1522, 0.24999999999999994), (1523, 0.2041241452319315), (1524, 0.14433756729740646), (1525, 0.08574929257125441), (1526, 0.2886751345948129), (1527, 0.0), (1528, 0.16222142113076252), (1529, 0.24999999999999994), (1530, 0.11180339887498948), (1531, 0.1178511301977579), (1532, 0.2357022603955158), (1533, 0.22360679774997896), (1534, 0.19611613513818402), (1535, 0.2041241452319315), (1536, 0.10206207261596575), (1537, 0.0), (1538, 0.1178511301977579), (1539, 0.08838834764831843), (1540, 0.0), (1541, 0.24999999999999994), (1542, 0.09805806756909201), (1543, 0.0), (1544, 0.0), (1545, 0.0), (1546, 0.0944911182523068), (1547, 0.0), (1548, 0.0), (1549, 0.0), (1550, 0.0), (1551, 0.1178511301977579), (1552, 0.16222142113076252), (1553, 0.08333333333333333), (1554, 0.1178511301977579), (1555, 0.0), (1556, 0.0), (1557, 0.30618621784789724), (1558, 0.09805806756909201), (1559, 0.24999999999999994), (1560, 0.0), (1561, 0.0), (1562, 0.22360679774997896), (1563, 0.22360679774997896), (1564, 0.0), (1565, 0.08111071056538126), (1566, 0.0), (1567, 0.18257418583505533), (1568, 0.10660035817780521), (1569, 0.19611613513818402), (1570, 0.1178511301977579), (1571, 0.2041241452319315), (1572, 0.08838834764831843), (1573, 0.08574929257125441), (1574, 0.0), (1575, 0.08838834764831843), (1576, 0.08838834764831843), (1577, 0.0), (1578, 0.11180339887498948), (1579, 0.21320071635561041), (1580, 0.24999999999999994), (1581, 0.10660035817780521), (1582, 0.30618621784789724), (1583, 0.33541019662496846), (1584, 0.21320071635561041), (1585, 0.0), (1586, 0.23717082451262841), (1587, 0.1178511301977579), (1588, 0.0), (1589, 0.3749999999999999), (1590, 0.11180339887498948), (1591, 0.21320071635561041), (1592, 0.09805806756909201), (1593, 0.2357022603955158), (1594, 0.12499999999999997), (1595, 0.1889822365046136), (1596, 0.10660035817780521), (1597, 0.07905694150420947), (1598, 0.35355339059327373), (1599, 0.0), (1600, 0.0), (1601, 0.25724787771376323), (1602, 0.0), (1603, 0.2357022603955158), (1604, 0.3198010745334156), (1605, 0.0), (1606, 0.08574929257125441), (1607, 0.10660035817780521), (1608, 0.0), (1609, 0.10660035817780521), (1610, 0.22360679774997896), (1611, 0.0), (1612, 0.0), (1613, 0.11180339887498948), (1614, 0.11180339887498948), (1615, 0.0), (1616, 0.11180339887498948), (1617, 0.3198010745334156), (1618, 0.0), (1619, 0.1178511301977579), (1620, 0.0944911182523068), (1621, 0.0), (1622, 0.08838834764831843), (1623, 0.0), (1624, 0.0), (1625, 0.09805806756909201), (1626, 0.21320071635561041), (1627, 0.12499999999999997), (1628, 0.1178511301977579), (1629, 0.0), (1630, 0.22360679774997896), (1631, 0.19611613513818402), (1632, 0.09128709291752767), (1633, 0.08838834764831843), (1634, 0.2041241452319315), (1635, 0.09128709291752767), (1636, 0.0), (1637, 0.33541019662496846), (1638, 0.10660035817780521), (1639, 0.10206207261596575), (1640, 0.0), (1641, 0.0), (1642, 0.0), (1643, 0.0), (1644, 0.08838834764831843), (1645, 0.19611613513818402), (1646, 0.12499999999999997), (1647, 0.1889822365046136), (1648, 0.0), (1649, 0.0), (1650, 0.0944911182523068), (1651, 0.22360679774997896), (1652, 0.10660035817780521), (1653, 0.08838834764831843), (1654, 0.0), (1655, 0.07715167498104596), (1656, 0.22360679774997896), (1657, 0.0), (1658, 0.0), (1659, 0.19611613513818402), (1660, 0.25724787771376323), (1661, 0.0), (1662, 0.2357022603955158), (1663, 0.11180339887498948), (1664, 0.09805806756909201), (1665, 0.0), (1666, 0.0), (1667, 0.09128709291752767), (1668, 0.0), (1669, 0.0), (1670, 0.0), (1671, 0.08838834764831843), (1672, 0.12499999999999997), (1673, 0.09805806756909201), (1674, 0.11180339887498948), (1675, 0.1889822365046136), (1676, 0.10660035817780521), (1677, 0.0), (1678, 0.19611613513818402), (1679, 0.0), (1680, 0.24999999999999994), (1681, 0.12499999999999997), (1682, 0.0), (1683, 0.0), (1684, 0.0), (1685, 0.0), (1686, 0.08838834764831843), (1687, 0.10660035817780521), (1688, 0.40089186286863654), (1689, 0.2041241452319315), (1690, 0.12499999999999997), (1691, 0.07216878364870323), (1692, 0.08111071056538126), (1693, 0.0), (1694, 0.0), (1695, 0.08574929257125441), (1696, 0.2357022603955158), (1697, 0.0), (1698, 0.08111071056538126), (1699, 0.07715167498104596), (1700, 0.10206207261596575), (1701, 0.28347335475692037), (1702, 0.11180339887498948), (1703, 0.1178511301977579), (1704, 0.0944911182523068), (1705, 0.09805806756909201), (1706, 0.10660035817780521), (1707, 0.21320071635561041), (1708, 0.09805806756909201), (1709, 0.0), (1710, 0.1178511301977579), (1711, 0.0944911182523068), (1712, 0.19611613513818402), (1713, 0.0), (1714, 0.11180339887498948), (1715, 0.2357022603955158), (1716, 0.08838834764831843), (1717, 0.19611613513818402), (1718, 0.0), (1719, 0.0), (1720, 0.10206207261596575), (1721, 0.0), (1722, 0.33541019662496846), (1723, 0.3198010745334156), (1724, 0.22360679774997896), (1725, 0.08574929257125441), (1726, 0.08838834764831843), (1727, 0.0), (1728, 0.2041241452319315), (1729, 0.25724787771376323), (1730, 0.0), (1731, 0.0944911182523068), (1732, 0.12499999999999997), (1733, 0.294174202707276), (1734, 0.22360679774997896), (1735, 0.21320071635561041), (1736, 0.0), (1737, 0.33541019662496846), (1738, 0.2357022603955158), (1739, 0.07216878364870323), (1740, 0.10660035817780521), (1741, 0.11180339887498948), (1742, 0.09805806756909201), (1743, 0.0), (1744, 0.10206207261596575), (1745, 0.22360679774997896), (1746, 0.19611613513818402), (1747, 0.18257418583505533), (1748, 0.0), (1749, 0.10206207261596575), (1750, 0.2041241452319315), (1751, 0.0), (1752, 0.12499999999999997), (1753, 0.08838834764831843), (1754, 0.08838834764831843), (1755, 0.3198010745334156), (1756, 0.0), (1757, 0.2041241452319315), (1758, 0.10660035817780521), (1759, 0.0), (1760, 0.0), (1761, 0.0), (1762, 0.09805806756909201), (1763, 0.21320071635561041), (1764, 0.0), (1765, 0.18257418583505533), (1766, 0.0944911182523068), (1767, 0.0), (1768, 0.0), (1769, 0.10206207261596575), (1770, 0.0), (1771, 0.12499999999999997), (1772, 0.0), (1773, 0.0), (1774, 0.11180339887498948), (1775, 0.14433756729740646), (1776, 0.08838834764831843), (1777, 0.0), (1778, 0.0), (1779, 0.0), (1780, 0.12499999999999997), (1781, 0.30618621784789724), (1782, 0.11180339887498948), (1783, 0.0), (1784, 0.10206207261596575), (1785, 0.0), (1786, 0.11180339887498948), (1787, 0.12499999999999997), (1788, 0.0), (1789, 0.13363062095621217), (1790, 0.0), (1791, 0.0944911182523068), (1792, 0.22360679774997896), (1793, 0.0), (1794, 0.0), (1795, 0.0), (1796, 0.08111071056538126), (1797, 0.14433756729740646), (1798, 0.0), (1799, 0.21320071635561041), (1800, 0.1178511301977579), (1801, 0.0), (1802, 0.33541019662496846), (1803, 0.0), (1804, 0.11180339887498948), (1805, 0.0), (1806, 0.10660035817780521), (1807, 0.09128709291752767), (1808, 0.21320071635561041), (1809, 0.11180339887498948), (1810, 0.22360679774997896), (1811, 0.18257418583505533), (1812, 0.0), (1813, 0.17677669529663687), (1814, 0.09805806756909201), (1815, 0.0), (1816, 0.11180339887498948), (1817, 0.11180339887498948), (1818, 0.08574929257125441), (1819, 0.07715167498104596), (1820, 0.09128709291752767), (1821, 0.0), (1822, 0.0), (1823, 0.0), (1824, 0.11180339887498948), (1825, 0.0), (1826, 0.0), (1827, 0.2041241452319315), (1828, 0.09128709291752767), (1829, 0.0), (1830, 0.10206207261596575), (1831, 0.2041241452319315), (1832, 0.0), (1833, 0.21320071635561041), (1834, 0.1178511301977579), (1835, 0.15811388300841894), (1836, 0.09805806756909201), (1837, 0.07216878364870323), (1838, 0.18257418583505533), (1839, 0.18257418583505533), (1840, 0.0), (1841, 0.0), (1842, 0.09128709291752767), (1843, 0.0), (1844, 0.0), (1845, 0.09128709291752767), (1846, 0.21320071635561041), (1847, 0.24333213169614376), (1848, 0.07905694150420947), (1849, 0.0), (1850, 0.10660035817780521), (1851, 0.10660035817780521), (1852, 0.11180339887498948), (1853, 0.1178511301977579), (1854, 0.10660035817780521), (1855, 0.0), (1856, 0.0), (1857, 0.0), (1858, 0.0), (1859, 0.13363062095621217), (1860, 0.22360679774997896), (1861, 0.22360679774997896), (1862, 0.11180339887498948), (1863, 0.09128709291752767), (1864, 0.294174202707276), (1865, 0.0), (1866, 0.30618621784789724), (1867, 0.11180339887498948), (1868, 0.0), (1869, 0.0), (1870, 0.11180339887498948), (1871, 0.10660035817780521), (1872, 0.0), (1873, 0.3749999999999999), (1874, 0.40089186286863654), (1875, 0.0), (1876, 0.22360679774997896), (1877, 0.0), (1878, 0.13363062095621217), (1879, 0.0), (1880, 0.18257418583505533), (1881, 0.30618621784789724), (1882, 0.12499999999999997), (1883, 0.0), (1884, 0.24999999999999994), (1885, 0.0), (1886, 0.0), (1887, 0.08574929257125441), (1888, 0.07905694150420947), (1889, 0.15811388300841894), (1890, 0.10206207261596575), (1891, 0.0), (1892, 0.0), (1893, 0.08838834764831843), (1894, 0.0), (1895, 0.0), (1896, 0.273861278752583), (1897, 0.2041241452319315), (1898, 0.24999999999999994), (1899, 0.0), (1900, 0.17677669529663687), (1901, 0.24999999999999994), (1902, 0.11180339887498948), (1903, 0.0), (1904, 0.13363062095621217), (1905, 0.24999999999999994), (1906, 0.2357022603955158), (1907, 0.1178511301977579), (1908, 0.09805806756909201), (1909, 0.08838834764831843), (1910, 0.0), (1911, 0.0), (1912, 0.0), (1913, 0.1178511301977579), (1914, 0.0), (1915, 0.0), (1916, 0.0), (1917, 0.13363062095621217), (1918, 0.09805806756909201), (1919, 0.408248290463863), (1920, 0.12499999999999997), (1921, 0.0), (1922, 0.2041241452319315), (1923, 0.22360679774997896), (1924, 0.11180339887498948), (1925, 0.15811388300841894), (1926, 0.0), (1927, 0.0), (1928, 0.0), (1929, 0.10206207261596575), (1930, 0.08574929257125441), (1931, 0.10206207261596575), (1932, 0.0944911182523068), (1933, 0.0), (1934, 0.0), (1935, 0.24999999999999994), (1936, 0.294174202707276), (1937, 0.3779644730092272), (1938, 0.0), (1939, 0.2357022603955158), (1940, 0.22360679774997896), (1941, 0.12499999999999997), (1942, 0.10206207261596575), (1943, 0.1889822365046136), (1944, 0.24999999999999994), (1945, 0.0), (1946, 0.0), (1947, 0.0), (1948, 0.28347335475692037), (1949, 0.09805806756909201), (1950, 0.09128709291752767), (1951, 0.0), (1952, 0.0), (1953, 0.0), (1954, 0.273861278752583), (1955, 0.08333333333333333), (1956, 0.11180339887498948), (1957, 0.4472135954999579), (1958, 0.11180339887498948), (1959, 0.28347335475692037), (1960, 0.0), (1961, 0.24999999999999994), (1962, 0.12499999999999997), (1963, 0.11180339887498948), (1964, 0.0), (1965, 0.06454972243679027), (1966, 0.0), (1967, 0.10206207261596575), (1968, 0.2041241452319315), (1969, 0.19611613513818402), (1970, 0.1178511301977579), (1971, 0.10660035817780521), (1972, 0.0), (1973, 0.21320071635561041), (1974, 0.30618621784789724), (1975, 0.19611613513818402), (1976, 0.0), (1977, 0.14433756729740646), (1978, 0.0), (1979, 0.22360679774997896), (1980, 0.08838834764831843), (1981, 0.09805806756909201), (1982, 0.11180339887498948), (1983, 0.11180339887498948), (1984, 0.1889822365046136), (1985, 0.33541019662496846), (1986, 0.19611613513818402), (1987, 0.2357022603955158), (1988, 0.11180339887498948), (1989, 0.11180339887498948), (1990, 0.11180339887498948), (1991, 0.08574929257125441), (1992, 0.12499999999999997), (1993, 0.13608276348795434), (1994, 0.2651650429449553), (1995, 0.0753778361444409), (1996, 0.06681531047810609), (1997, 0.1889822365046136), (1998, 0.0), (1999, 0.2651650429449553), (2000, 0.0), (2001, 0.12499999999999997), (2002, 0.11180339887498948), (2003, 0.0), (2004, 0.0), (2005, 0.0), (2006, 0.0), (2007, 0.09128709291752767), (2008, 0.0), (2009, 0.0), (2010, 0.0), (2011, 0.0), (2012, 0.0753778361444409), (2013, 0.0), (2014, 0.0), (2015, 0.07071067811865475), (2016, 0.0), (2017, 0.0), (2018, 0.0), (2019, 0.12499999999999997), (2020, 0.33541019662496846), (2021, 0.2041241452319315), (2022, 0.1543033499620919), (2023, 0.17677669529663687), (2024, 0.0), (2025, 0.0), (2026, 0.0), (2027, 0.0), (2028, 0.17677669529663687), (2029, 0.0), (2030, 0.24999999999999994), (2031, 0.08838834764831843), (2032, 0.1178511301977579), (2033, 0.0), (2034, 0.0944911182523068), (2035, 0.1178511301977579), (2036, 0.294174202707276), (2037, 0.0), (2038, 0.35355339059327373), (2039, 0.0), (2040, 0.1178511301977579), (2041, 0.30618621784789724), (2042, 0.21320071635561041), (2043, 0.1507556722888818), (2044, 0.0), (2045, 0.11180339887498948), (2046, 0.12499999999999997), (2047, 0.2651650429449553), (2048, 0.35355339059327373), (2049, 0.0), (2050, 0.0), (2051, 0.1178511301977579), (2052, 0.10206207261596575), (2053, 0.0944911182523068), (2054, 0.0), (2055, 0.30618621784789724), (2056, 0.0), (2057, 0.0), (2058, 0.11180339887498948), (2059, 0.0), (2060, 0.0), (2061, 0.0), (2062, 0.12499999999999997), (2063, 0.21320071635561041), (2064, 0.21320071635561041), (2065, 0.12499999999999997), (2066, 0.09805806756909201), (2067, 0.09805806756909201), (2068, 0.0), (2069, 0.10660035817780521), (2070, 0.25724787771376323), (2071, 0.15811388300841894), (2072, 0.10660035817780521), (2073, 0.12499999999999997), (2074, 0.35355339059327373), (2075, 0.12499999999999997), (2076, 0.0), (2077, 0.08111071056538126), (2078, 0.2357022603955158), (2079, 0.0), (2080, 0.0), (2081, 0.3198010745334156), (2082, 0.11180339887498948), (2083, 0.0), (2084, 0.0), (2085, 0.0), (2086, 0.0), (2087, 0.09805806756909201), (2088, 0.0), (2089, 0.1889822365046136), (2090, 0.0944911182523068), (2091, 0.40089186286863654), (2092, 0.2041241452319315), (2093, 0.1178511301977579), (2094, 0.13363062095621217), (2095, 0.22360679774997896), (2096, 0.0), (2097, 0.0), (2098, 0.33541019662496846), (2099, 0.10206207261596575), (2100, 0.0), (2101, 0.0), (2102, 0.09805806756909201), (2103, 0.09805806756909201), (2104, 0.2041241452319315), (2105, 0.0), (2106, 0.11180339887498948), (2107, 0.10660035817780521), (2108, 0.11180339887498948), (2109, 0.1178511301977579), (2110, 0.16666666666666666), (2111, 0.0), (2112, 0.35355339059327373), (2113, 0.0), (2114, 0.09128709291752767), (2115, 0.2041241452319315), (2116, 0.10660035817780521), (2117, 0.12499999999999997), (2118, 0.0), (2119, 0.0), (2120, 0.0), (2121, 0.0), (2122, 0.0), (2123, 0.10206207261596575), (2124, 0.07905694150420947), (2125, 0.10660035817780521), (2126, 0.0), (2127, 0.3198010745334156), (2128, 0.1178511301977579), (2129, 0.19611613513818402), (2130, 0.2041241452319315), (2131, 0.0), (2132, 0.273861278752583), (2133, 0.11180339887498948), (2134, 0.12499999999999997), (2135, 0.0), (2136, 0.0), (2137, 0.0), (2138, 0.0), (2139, 0.0), (2140, 0.09128709291752767), (2141, 0.0), (2142, 0.0), (2143, 0.08574929257125441), (2144, 0.0), (2145, 0.0), (2146, 0.09128709291752767), (2147, 0.1889822365046136), (2148, 0.0), (2149, 0.2357022603955158), (2150, 0.0), (2151, 0.19611613513818402), (2152, 0.10660035817780521), (2153, 0.0), (2154, 0.0), (2155, 0.0944911182523068), (2156, 0.0), (2157, 0.0), (2158, 0.0), (2159, 0.2357022603955158), (2160, 0.08838834764831843), (2161, 0.0), (2162, 0.0), (2163, 0.0), (2164, 0.3198010745334156), (2165, 0.28347335475692037), (2166, 0.2041241452319315), (2167, 0.0), (2168, 0.08574929257125441), (2169, 0.0), (2170, 0.2651650429449553), (2171, 0.30618621784789724), (2172, 0.1178511301977579), (2173, 0.1889822365046136), (2174, 0.10660035817780521), (2175, 0.0), (2176, 0.07905694150420947), (2177, 0.10206207261596575), (2178, 0.294174202707276), (2179, 0.10206207261596575), (2180, 0.0), (2181, 0.0), (2182, 0.10660035817780521), (2183, 0.11180339887498948), (2184, 0.0), (2185, 0.3198010745334156), (2186, 0.294174202707276), (2187, 0.11180339887498948), (2188, 0.17149858514250882), (2189, 0.10206207261596575), (2190, 0.07905694150420947), (2191, 0.09128709291752767), (2192, 0.11180339887498948), (2193, 0.0), (2194, 0.09805806756909201), (2195, 0.21320071635561041), (2196, 0.19611613513818402), (2197, 0.0), (2198, 0.0), (2199, 0.0), (2200, 0.10660035817780521), (2201, 0.0), (2202, 0.0), (2203, 0.16666666666666666), (2204, 0.1178511301977579), (2205, 0.0), (2206, 0.18257418583505533), (2207, 0.2041241452319315), (2208, 0.08111071056538126), (2209, 0.09805806756909201), (2210, 0.10206207261596575), (2211, 0.0753778361444409), (2212, 0.0), (2213, 0.09128709291752767), (2214, 0.08574929257125441), (2215, 0.22360679774997896), (2216, 0.10660035817780521), (2217, 0.35355339059327373), (2218, 0.0), (2219, 0.07071067811865475), (2220, 0.0), (2221, 0.0), (2222, 0.0), (2223, 0.2357022603955158), (2224, 0.10660035817780521), (2225, 0.0), (2226, 0.24999999999999994), (2227, 0.12499999999999997), (2228, 0.10206207261596575), (2229, 0.08838834764831843), (2230, 0.0), (2231, 0.0), (2232, 0.0944911182523068), (2233, 0.21320071635561041), (2234, 0.33541019662496846), (2235, 0.13363062095621217), (2236, 0.0), (2237, 0.10660035817780521), (2238, 0.3198010745334156), (2239, 0.2041241452319315), (2240, 0.294174202707276), (2241, 0.11180339887498948), (2242, 0.17677669529663687), (2243, 0.22360679774997896), (2244, 0.10660035817780521), (2245, 0.12499999999999997), (2246, 0.4999999999999999), (2247, 0.10206207261596575), (2248, 0.13363062095621217), (2249, 0.12499999999999997), (2250, 0.07372097807744857), (2251, 0.0), (2252, 0.21320071635561041), (2253, 0.33541019662496846), (2254, 0.0), (2255, 0.11180339887498948), (2256, 0.0), (2257, 0.0), (2258, 0.12499999999999997), (2259, 0.30618621784789724), (2260, 0.1889822365046136), (2261, 0.33541019662496846), (2262, 0.11180339887498948), (2263, 0.294174202707276), (2264, 0.0), (2265, 0.26726124191242434), (2266, 0.11180339887498948), (2267, 0.09805806756909201), (2268, 0.0), (2269, 0.10660035817780521), (2270, 0.2041241452319315), (2271, 0.0), (2272, 0.2357022603955158), (2273, 0.17677669529663687), (2274, 0.1178511301977579), (2275, 0.11624763874381927), (2276, 0.1178511301977579), (2277, 0.21320071635561041), (2278, 0.0), (2279, 0.0), (2280, 0.1178511301977579), (2281, 0.0), (2282, 0.10206207261596575), (2283, 0.1178511301977579), (2284, 0.0), (2285, 0.19611613513818402), (2286, 0.12499999999999997), (2287, 0.0), (2288, 0.0), (2289, 0.0), (2290, 0.12499999999999997), (2291, 0.19611613513818402), (2292, 0.2041241452319315), (2293, 0.10660035817780521), (2294, 0.13363062095621217), (2295, 0.30618621784789724), (2296, 0.11180339887498948), (2297, 0.21320071635561041), (2298, 0.12499999999999997), (2299, 0.0), (2300, 0.08838834764831843), (2301, 0.10660035817780521), (2302, 0.12499999999999997), (2303, 0.0), (2304, 0.2041241452319315), (2305, 0.11180339887498948), (2306, 0.21320071635561041), (2307, 0.0), (2308, 0.0944911182523068), (2309, 0.0), (2310, 0.0), (2311, 0.0), (2312, 0.07715167498104596), (2313, 0.10660035817780521), (2314, 0.10660035817780521), (2315, 0.0), (2316, 0.0), (2317, 0.10206207261596575), (2318, 0.0), (2319, 0.0), (2320, 0.09805806756909201), (2321, 0.0944911182523068), (2322, 0.10206207261596575), (2323, 0.0), (2324, 0.17677669529663687), (2325, 0.0), (2326, 0.2041241452319315), (2327, 0.4714045207910316), (2328, 0.19611613513818402), (2329, 0.0), (2330, 0.19611613513818402), (2331, 0.24999999999999994), (2332, 0.0), (2333, 0.11180339887498948), (2334, 0.1178511301977579), (2335, 0.1178511301977579), (2336, 0.0944911182523068), (2337, 0.0), (2338, 0.0), (2339, 0.2357022603955158), (2340, 0.2041241452319315), (2341, 0.09805806756909201), (2342, 0.0753778361444409), (2343, 0.25), (2344, 0.2041241452319315), (2345, 0.12499999999999997), (2346, 0.14433756729740646), (2347, 0.0), (2348, 0.09128709291752767), (2349, 0.2651650429449553), (2350, 0.1889822365046136), (2351, 0.0), (2352, 0.0), (2353, 0.0), (2354, 0.0), (2355, 0.0), (2356, 0.10206207261596575), (2357, 0.21320071635561041), (2358, 0.1178511301977579), (2359, 0.12499999999999997), (2360, 0.0), (2361, 0.0), (2362, 0.35355339059327373), (2363, 0.33541019662496846), (2364, 0.33541019662496846), (2365, 0.17149858514250882), (2366, 0.1178511301977579), (2367, 0.10660035817780521), (2368, 0.10660035817780521), (2369, 0.0), (2370, 0.28347335475692037), (2371, 0.0), (2372, 0.16666666666666666), (2373, 0.1889822365046136), (2374, 0.0), (2375, 0.0), (2376, 0.0), (2377, 0.11180339887498948), (2378, 0.10206207261596575), (2379, 0.16666666666666666), (2380, 0.0), (2381, 0.18257418583505533), (2382, 0.0), (2383, 0.0), (2384, 0.1543033499620919), (2385, 0.0), (2386, 0.0944911182523068), (2387, 0.13363062095621217), (2388, 0.0), (2389, 0.30618621784789724), (2390, 0.0), (2391, 0.273861278752583), (2392, 0.0), (2393, 0.0), (2394, 0.08333333333333333), (2395, 0.0), (2396, 0.13363062095621217), (2397, 0.0), (2398, 0.0), (2399, 0.11180339887498948), (2400, 0.0), (2401, 0.1889822365046136), (2402, 0.0), (2403, 0.22360679774997896), (2404, 0.1178511301977579), (2405, 0.21320071635561041), (2406, 0.0), (2407, 0.0944911182523068), (2408, 0.11180339887498948), (2409, 0.10206207261596575), (2410, 0.0), (2411, 0.2651650429449553), (2412, 0.09805806756909201), (2413, 0.0944911182523068), (2414, 0.0), (2415, 0.09128709291752767), (2416, 0.0), (2417, 0.13363062095621217), (2418, 0.0), (2419, 0.09805806756909201), (2420, 0.12499999999999997), (2421, 0.0), (2422, 0.0), (2423, 0.10206207261596575), (2424, 0.30618621784789724), (2425, 0.0), (2426, 0.28347335475692037), (2427, 0.0753778361444409), (2428, 0.11180339887498948), (2429, 0.08838834764831843), (2430, 0.21320071635561041), (2431, 0.0), (2432, 0.0), (2433, 0.12499999999999997), (2434, 0.09128709291752767), (2435, 0.19611613513818402), (2436, 0.0), (2437, 0.10206207261596575), (2438, 0.11180339887498948), (2439, 0.0), (2440, 0.21320071635561041), (2441, 0.0), (2442, 0.0), (2443, 0.0), (2444, 0.273861278752583), (2445, 0.0), (2446, 0.1178511301977579), (2447, 0.12499999999999997), (2448, 0.1178511301977579), (2449, 0.11180339887498948), (2450, 0.0), (2451, 0.09805806756909201), (2452, 0.09128709291752767), (2453, 0.2357022603955158), (2454, 0.09805806756909201), (2455, 0.33541019662496846), (2456, 0.0944911182523068), (2457, 0.30618621784789724), (2458, 0.12499999999999997), (2459, 0.0), (2460, 0.0), (2461, 0.11180339887498948), (2462, 0.0), (2463, 0.0), (2464, 0.09128709291752767), (2465, 0.0), (2466, 0.294174202707276), (2467, 0.09128709291752767), (2468, 0.12499999999999997), (2469, 0.08574929257125441), (2470, 0.17149858514250882), (2471, 0.22360679774997896), (2472, 0.0), (2473, 0.0), (2474, 0.09805806756909201), (2475, 0.0), (2476, 0.10660035817780521), (2477, 0.1889822365046136), (2478, 0.11180339887498948), (2479, 0.0), (2480, 0.10206207261596575), (2481, 0.294174202707276), (2482, 0.10660035817780521), (2483, 0.10660035817780521), (2484, 0.0), (2485, 0.0944911182523068), (2486, 0.12499999999999997), (2487, 0.21320071635561041), (2488, 0.1889822365046136), (2489, 0.1178511301977579), (2490, 0.17677669529663687), (2491, 0.18257418583505533), (2492, 0.33541019662496846), (2493, 0.0), (2494, 0.12499999999999997), (2495, 0.0), (2496, 0.10206207261596575), (2497, 0.3198010745334156), (2498, 0.4330127018922194), (2499, 0.1178511301977579), (2500, 0.3162277660168379), (2501, 0.07071067811865475), (2502, 0.2041241452319315), (2503, 0.0944911182523068), (2504, 0.09805806756909201), (2505, 0.08111071056538126), (2506, 0.1889822365046136), (2507, 0.2357022603955158), (2508, 0.1178511301977579), (2509, 0.12499999999999997), (2510, 0.10206207261596575), (2511, 0.36514837167011066), (2512, 0.3198010745334156), (2513, 0.0944911182523068), (2514, 0.3198010745334156), (2515, 0.2041241452319315), (2516, 0.22360679774997896), (2517, 0.2357022603955158), (2518, 0.0), (2519, 0.1178511301977579), (2520, 0.21320071635561041), (2521, 0.273861278752583), (2522, 0.1889822365046136), (2523, 0.0), (2524, 0.33541019662496846), (2525, 0.09805806756909201), (2526, 0.0), (2527, 0.0), (2528, 0.22360679774997896), (2529, 0.0), (2530, 0.24999999999999994), (2531, 0.0), (2532, 0.1178511301977579), (2533, 0.0), (2534, 0.0), (2535, 0.11180339887498948), (2536, 0.0), (2537, 0.15811388300841894), (2538, 0.08333333333333333), (2539, 0.14433756729740646), (2540, 0.12499999999999997), (2541, 0.10206207261596575), (2542, 0.33541019662496846), (2543, 0.19611613513818402), (2544, 0.0), (2545, 0.40089186286863654), (2546, 0.0), (2547, 0.0), (2548, 0.0), (2549, 0.0), (2550, 0.10660035817780521), (2551, 0.18257418583505533), (2552, 0.0), (2553, 0.09128709291752767), (2554, 0.09805806756909201), (2555, 0.3198010745334156), (2556, 0.0944911182523068), (2557, 0.0), (2558, 0.1178511301977579), (2559, 0.273861278752583), (2560, 0.0), (2561, 0.09128709291752767), (2562, 0.0), (2563, 0.0), (2564, 0.3749999999999999), (2565, 0.0), (2566, 0.0), (2567, 0.18257418583505533), (2568, 0.0), (2569, 0.19611613513818402), (2570, 0.11180339887498948), (2571, 0.0944911182523068), (2572, 0.2041241452319315), (2573, 0.0), (2574, 0.2041241452319315), (2575, 0.09805806756909201), (2576, 0.19611613513818402), (2577, 0.09128709291752767), (2578, 0.19611613513818402), (2579, 0.0), (2580, 0.19611613513818402), (2581, 0.22360679774997896), (2582, 0.0), (2583, 0.0), (2584, 0.1178511301977579), (2585, 0.10206207261596575), (2586, 0.12499999999999997), (2587, 0.09805806756909201), (2588, 0.0), (2589, 0.0944911182523068), (2590, 0.0), (2591, 0.10660035817780521), (2592, 0.1178511301977579), (2593, 0.0), (2594, 0.10206207261596575), (2595, 0.0), (2596, 0.0), (2597, 0.0), (2598, 0.294174202707276), (2599, 0.0), (2600, 0.12499999999999997), (2601, 0.0), (2602, 0.24999999999999994), (2603, 0.17677669529663687), (2604, 0.10206207261596575), (2605, 0.0), (2606, 0.273861278752583), (2607, 0.07905694150420947), (2608, 0.09128709291752767), (2609, 0.0), (2610, 0.10660035817780521), (2611, 0.0), (2612, 0.11180339887498948), (2613, 0.15811388300841894), (2614, 0.0), (2615, 0.11180339887498948), (2616, 0.19611613513818402), (2617, 0.19611613513818402), (2618, 0.0), (2619, 0.0), (2620, 0.22360679774997896), (2621, 0.0), (2622, 0.22360679774997896), (2623, 0.10660035817780521), (2624, 0.0), (2625, 0.10206207261596575), (2626, 0.10660035817780521), (2627, 0.0), (2628, 0.0), (2629, 0.2041241452319315), (2630, 0.0), (2631, 0.0), (2632, 0.0), (2633, 0.0), (2634, 0.10206207261596575), (2635, 0.0), (2636, 0.28347335475692037), (2637, 0.0944911182523068), (2638, 0.39223227027636803), (2639, 0.2357022603955158), (2640, 0.13363062095621217), (2641, 0.2041241452319315), (2642, 0.0), (2643, 0.0), (2644, 0.09805806756909201), (2645, 0.21320071635561041), (2646, 0.24999999999999994), (2647, 0.19611613513818402), (2648, 0.0), (2649, 0.09128709291752767), (2650, 0.22360679774997896), (2651, 0.0), (2652, 0.10660035817780521), (2653, 0.1178511301977579), (2654, 0.0), (2655, 0.11180339887498948), (2656, 0.07905694150420947), (2657, 0.0), (2658, 0.0), (2659, 0.11180339887498948), (2660, 0.0), (2661, 0.17677669529663687), (2662, 0.10660035817780521), (2663, 0.09805806756909201), (2664, 0.2041241452319315), (2665, 0.10206207261596575), (2666, 0.0), (2667, 0.0944911182523068), (2668, 0.10660035817780521), (2669, 0.28347335475692037), (2670, 0.17677669529663687), (2671, 0.11180339887498948), (2672, 0.17677669529663687), (2673, 0.0), (2674, 0.10206207261596575), (2675, 0.0), (2676, 0.30618621784789724), (2677, 0.0), (2678, 0.24999999999999994), (2679, 0.10660035817780521), (2680, 0.0), (2681, 0.11180339887498948), (2682, 0.2041241452319315), (2683, 0.09128709291752767), (2684, 0.18257418583505533), (2685, 0.13363062095621217), (2686, 0.08574929257125441), (2687, 0.17677669529663687), (2688, 0.09805806756909201), (2689, 0.11180339887498948), (2690, 0.39223227027636803), (2691, 0.1178511301977579), (2692, 0.0), (2693, 0.0), (2694, 0.0944911182523068), (2695, 0.13363062095621217), (2696, 0.12499999999999997), (2697, 0.08333333333333333), (2698, 0.0), (2699, 0.24333213169614376), (2700, 0.30618621784789724), (2701, 0.0), (2702, 0.3198010745334156), (2703, 0.0), (2704, 0.09128709291752767), (2705, 0.15811388300841894), (2706, 0.17149858514250882), (2707, 0.0), (2708, 0.0), (2709, 0.0), (2710, 0.0), (2711, 0.12499999999999997), (2712, 0.0944911182523068), (2713, 0.19611613513818402), (2714, 0.10660035817780521), (2715, 0.0), (2716, 0.13363062095621217), (2717, 0.16666666666666666), (2718, 0.10660035817780521), (2719, 0.22360679774997896), (2720, 0.1178511301977579), (2721, 0.0), (2722, 0.24999999999999994), (2723, 0.2041241452319315), (2724, 0.10660035817780521), (2725, 0.12499999999999997), (2726, 0.21320071635561041), (2727, 0.0), (2728, 0.0), (2729, 0.09805806756909201), (2730, 0.0944911182523068), (2731, 0.12499999999999997), (2732, 0.0), (2733, 0.1178511301977579), (2734, 0.1889822365046136), (2735, 0.30618621784789724), (2736, 0.0), (2737, 0.1178511301977579), (2738, 0.09805806756909201), (2739, 0.10660035817780521), (2740, 0.0), (2741, 0.0), (2742, 0.0), (2743, 0.0), (2744, 0.35355339059327373), (2745, 0.09805806756909201), (2746, 0.08574929257125441), (2747, 0.2357022603955158), (2748, 0.0), (2749, 0.1178511301977579), (2750, 0.0), (2751, 0.11180339887498948), (2752, 0.3198010745334156), (2753, 0.0944911182523068), (2754, 0.0), (2755, 0.11180339887498948), (2756, 0.10206207261596575), (2757, 0.19611613513818402), (2758, 0.0), (2759, 0.0), (2760, 0.1889822365046136), (2761, 0.2041241452319315), (2762, 0.10660035817780521), (2763, 0.2357022603955158), (2764, 0.08838834764831843), (2765, 0.0), (2766, 0.08574929257125441), (2767, 0.33541019662496846), (2768, 0.18257418583505533), (2769, 0.1178511301977579), (2770, 0.21320071635561041), (2771, 0.0), (2772, 0.0), (2773, 0.10206207261596575), (2774, 0.12499999999999997), (2775, 0.11180339887498948), (2776, 0.09128709291752767), (2777, 0.0), (2778, 0.30618621784789724), (2779, 0.08838834764831843), (2780, 0.1178511301977579), (2781, 0.0), (2782, 0.0), (2783, 0.10206207261596575), (2784, 0.10206207261596575), (2785, 0.2041241452319315), (2786, 0.24999999999999994), (2787, 0.24333213169614376), (2788, 0.0), (2789, 0.18257418583505533), (2790, 0.0), (2791, 0.19611613513818402), (2792, 0.0), (2793, 0.14433756729740646), (2794, 0.10660035817780521), (2795, 0.09805806756909201), (2796, 0.11180339887498948), (2797, 0.1178511301977579), (2798, 0.17677669529663687), (2799, 0.17677669529663687), (2800, 0.19611613513818402), (2801, 0.1178511301977579), (2802, 0.11180339887498948), (2803, 0.0944911182523068), (2804, 0.10660035817780521), (2805, 0.294174202707276), (2806, 0.14433756729740646), (2807, 0.10660035817780521), (2808, 0.2041241452319315), (2809, 0.2041241452319315), (2810, 0.0), (2811, 0.11180339887498948), (2812, 0.11180339887498948), (2813, 0.10660035817780521), (2814, 0.0), (2815, 0.1889822365046136), (2816, 0.08333333333333333), (2817, 0.0), (2818, 0.0), (2819, 0.0), (2820, 0.17677669529663687), (2821, 0.12499999999999997), (2822, 0.0), (2823, 0.10660035817780521), (2824, 0.0), (2825, 0.13363062095621217), (2826, 0.10206207261596575), (2827, 0.12499999999999997), (2828, 0.273861278752583), (2829, 0.10206207261596575), (2830, 0.11180339887498948), (2831, 0.0), (2832, 0.10660035817780521), (2833, 0.11180339887498948), (2834, 0.09805806756909201), (2835, 0.21320071635561041), (2836, 0.14433756729740646), (2837, 0.08574929257125441), (2838, 0.08838834764831843), (2839, 0.17677669529663687), (2840, 0.12499999999999997), (2841, 0.0), (2842, 0.2041241452319315), (2843, 0.0), (2844, 0.0), (2845, 0.09805806756909201), (2846, 0.28347335475692037), (2847, 0.35355339059327373), (2848, 0.11180339887498948), (2849, 0.1178511301977579), (2850, 0.0), (2851, 0.14433756729740646), (2852, 0.2041241452319315), (2853, 0.09128709291752767), (2854, 0.21320071635561041), (2855, 0.22360679774997896), (2856, 0.0), (2857, 0.10206207261596575), (2858, 0.2041241452319315), (2859, 0.0), (2860, 0.09805806756909201), (2861, 0.11180339887498948), (2862, 0.1178511301977579), (2863, 0.08111071056538126), (2864, 0.1178511301977579), (2865, 0.11180339887498948), (2866, 0.0), (2867, 0.0), (2868, 0.0), (2869, 0.0), (2870, 0.0), (2871, 0.0), (2872, 0.10660035817780521), (2873, 0.1889822365046136), (2874, 0.1178511301977579), (2875, 0.24999999999999994), (2876, 0.0), (2877, 0.10660035817780521), (2878, 0.0944911182523068), (2879, 0.0), (2880, 0.17149858514250882), (2881, 0.0), (2882, 0.09805806756909201), (2883, 0.13363062095621217), (2884, 0.0), (2885, 0.11180339887498948), (2886, 0.0), (2887, 0.10206207261596575), (2888, 0.0), (2889, 0.10660035817780521), (2890, 0.18257418583505533), (2891, 0.10206207261596575), (2892, 0.0), (2893, 0.0), (2894, 0.09805806756909201), (2895, 0.0), (2896, 0.26726124191242434), (2897, 0.0), (2898, 0.40089186286863654), (2899, 0.0), (2900, 0.22360679774997896), (2901, 0.09805806756909201), (2902, 0.09805806756909201), (2903, 0.10206207261596575), (2904, 0.17149858514250882), (2905, 0.0), (2906, 0.0), (2907, 0.0), (2908, 0.22360679774997896), (2909, 0.0944911182523068), (2910, 0.13363062095621217), (2911, 0.13363062095621217), (2912, 0.0), (2913, 0.0), (2914, 0.10660035817780521), (2915, 0.3198010745334156), (2916, 0.0), (2917, 0.09128709291752767), (2918, 0.0), (2919, 0.0), (2920, 0.17149858514250882), (2921, 0.12499999999999997), (2922, 0.10206207261596575), (2923, 0.0), (2924, 0.0), (2925, 0.0), (2926, 0.3749999999999999), (2927, 0.08574929257125441), (2928, 0.0), (2929, 0.12499999999999997), (2930, 0.0), (2931, 0.0944911182523068), (2932, 0.0), (2933, 0.17149858514250882), (2934, 0.0), (2935, 0.10660035817780521), (2936, 0.18257418583505533), (2937, 0.0), (2938, 0.0), (2939, 0.30618621784789724), (2940, 0.09805806756909201), (2941, 0.09805806756909201), (2942, 0.0), (2943, 0.19611613513818402), (2944, 0.09805806756909201), (2945, 0.18257418583505533), (2946, 0.2041241452319315), (2947, 0.0), (2948, 0.0), (2949, 0.11180339887498948), (2950, 0.09128709291752767), (2951, 0.0944911182523068), (2952, 0.10206207261596575), (2953, 0.12499999999999997), (2954, 0.14433756729740646), (2955, 0.0944911182523068), (2956, 0.22360679774997896), (2957, 0.2357022603955158), (2958, 0.09805806756909201), (2959, 0.0), (2960, 0.22360679774997896), (2961, 0.273861278752583), (2962, 0.10206207261596575), (2963, 0.10660035817780521), (2964, 0.0), (2965, 0.0), (2966, 0.21320071635561041), (2967, 0.17149858514250882), (2968, 0.14433756729740646), (2969, 0.1178511301977579), (2970, 0.2041241452319315), (2971, 0.40089186286863654), (2972, 0.0), (2973, 0.0), (2974, 0.0), (2975, 0.0), (2976, 0.30618621784789724), (2977, 0.2357022603955158), (2978, 0.09805806756909201), (2979, 0.13363062095621217), (2980, 0.2041241452319315), (2981, 0.11180339887498948), (2982, 0.0), (2983, 0.2041241452319315), (2984, 0.0), (2985, 0.0), (2986, 0.21320071635561041), (2987, 0.0), (2988, 0.0), (2989, 0.0), (2990, 0.0), (2991, 0.0), (2992, 0.09128709291752767), (2993, 0.0), (2994, 0.18257418583505533), (2995, 0.3198010745334156), (2996, 0.0), (2997, 0.0), (2998, 0.0), (2999, 0.39223227027636803), (3000, 0.1178511301977579), (3001, 0.08574929257125441), (3002, 0.1889822365046136), (3003, 0.21320071635561041), (3004, 0.09805806756909201), (3005, 0.1889822365046136), (3006, 0.28347335475692037), (3007, 0.0), (3008, 0.12499999999999997), (3009, 0.0), (3010, 0.11180339887498948), (3011, 0.08838834764831843), (3012, 0.21320071635561041), (3013, 0.11180339887498948), (3014, 0.09805806756909201), (3015, 0.19611613513818402), (3016, 0.0), (3017, 0.1178511301977579), (3018, 0.0), (3019, 0.1889822365046136), (3020, 0.10206207261596575), (3021, 0.0), (3022, 0.0), (3023, 0.1178511301977579), (3024, 0.11180339887498948), (3025, 0.0), (3026, 0.3198010745334156), (3027, 0.24999999999999994), (3028, 0.12499999999999997), (3029, 0.08111071056538126), (3030, 0.09805806756909201), (3031, 0.10206207261596575), (3032, 0.08111071056538126), (3033, 0.1178511301977579), (3034, 0.0), (3035, 0.0), (3036, 0.0), (3037, 0.08838834764831843), (3038, 0.2357022603955158), (3039, 0.13363062095621217), (3040, 0.0), (3041, 0.408248290463863), (3042, 0.0), (3043, 0.22360679774997896), (3044, 0.0), (3045, 0.21320071635561041), (3046, 0.13363062095621217), (3047, 0.0), (3048, 0.10206207261596575), (3049, 0.12499999999999997), (3050, 0.0), (3051, 0.0), (3052, 0.19611613513818402), (3053, 0.09128709291752767), (3054, 0.21320071635561041), (3055, 0.16666666666666666), (3056, 0.09805806756909201), (3057, 0.12499999999999997), (3058, 0.10206207261596575), (3059, 0.11180339887498948), (3060, 0.273861278752583), (3061, 0.13363062095621217), (3062, 0.0), (3063, 0.10660035817780521), (3064, 0.0), (3065, 0.0), (3066, 0.0), (3067, 0.0), (3068, 0.10206207261596575), (3069, 0.11180339887498948), (3070, 0.11180339887498948), (3071, 0.0), (3072, 0.1178511301977579), (3073, 0.0), (3074, 0.0944911182523068), (3075, 0.10660035817780521), (3076, 0.0), (3077, 0.0), (3078, 0.09805806756909201), (3079, 0.09128709291752767), (3080, 0.10660035817780521), (3081, 0.0), (3082, 0.26726124191242434), (3083, 0.0), (3084, 0.08838834764831843), (3085, 0.13363062095621217), (3086, 0.1178511301977579), (3087, 0.11180339887498948), (3088, 0.0), (3089, 0.0), (3090, 0.10206207261596575), (3091, 0.10206207261596575), (3092, 0.17149858514250882), (3093, 0.0), (3094, 0.21320071635561041), (3095, 0.11180339887498948), (3096, 0.10660035817780521), (3097, 0.09805806756909201), (3098, 0.0), (3099, 0.11180339887498948), (3100, 0.0), (3101, 0.12499999999999997), (3102, 0.14433756729740646), (3103, 0.10206207261596575), (3104, 0.12499999999999997), (3105, 0.11180339887498948), (3106, 0.19611613513818402), (3107, 0.0), (3108, 0.25), (3109, 0.10660035817780521), (3110, 0.0), (3111, 0.0), (3112, 0.10660035817780521), (3113, 0.09805806756909201), (3114, 0.10206207261596575), (3115, 0.10660035817780521), (3116, 0.0), (3117, 0.0), (3118, 0.14744195615489714), (3119, 0.10206207261596575), (3120, 0.09805806756909201), (3121, 0.0), (3122, 0.11180339887498948), (3123, 0.0), (3124, 0.40089186286863654), (3125, 0.10660035817780521), (3126, 0.0), (3127, 0.09805806756909201), (3128, 0.294174202707276), (3129, 0.1178511301977579), (3130, 0.0), (3131, 0.10660035817780521), (3132, 0.10660035817780521), (3133, 0.0944911182523068), (3134, 0.0), (3135, 0.2357022603955158), (3136, 0.08574929257125441), (3137, 0.0), (3138, 0.294174202707276), (3139, 0.0), (3140, 0.0), (3141, 0.0), (3142, 0.10660035817780521), (3143, 0.1178511301977579), (3144, 0.19611613513818402), (3145, 0.24999999999999994), (3146, 0.0), (3147, 0.28347335475692037), (3148, 0.21320071635561041), (3149, 0.12499999999999997), (3150, 0.07715167498104596), (3151, 0.1178511301977579), (3152, 0.18257418583505533), (3153, 0.21320071635561041), (3154, 0.0), (3155, 0.0), (3156, 0.0), (3157, 0.0944911182523068), (3158, 0.0), (3159, 0.0), (3160, 0.11180339887498948), (3161, 0.0), (3162, 0.22360679774997896), (3163, 0.10206207261596575), (3164, 0.18257418583505533), (3165, 0.09128709291752767), (3166, 0.0), (3167, 0.19611613513818402), (3168, 0.0), (3169, 0.12499999999999997), (3170, 0.28347335475692037), (3171, 0.0), (3172, 0.09128709291752767), (3173, 0.21320071635561041), (3174, 0.2357022603955158), (3175, 0.12499999999999997), (3176, 0.10660035817780521), (3177, 0.0), (3178, 0.08111071056538126), (3179, 0.2357022603955158), (3180, 0.10660035817780521), (3181, 0.13363062095621217), (3182, 0.4714045207910316), (3183, 0.0), (3184, 0.0), (3185, 0.22360679774997896), (3186, 0.22360679774997896), (3187, 0.21320071635561041), (3188, 0.0944911182523068), (3189, 0.0753778361444409), (3190, 0.09128709291752767), (3191, 0.15811388300841894), (3192, 0.08574929257125441), (3193, 0.0), (3194, 0.10206207261596575), (3195, 0.0), (3196, 0.0), (3197, 0.0), (3198, 0.0), (3199, 0.0), (3200, 0.0), (3201, 0.09805806756909201), (3202, 0.0), (3203, 0.0), (3204, 0.0), (3205, 0.12499999999999997), (3206, 0.0), (3207, 0.0), (3208, 0.11180339887498948), (3209, 0.21320071635561041), (3210, 0.1178511301977579), (3211, 0.0), (3212, 0.1178511301977579), (3213, 0.17149858514250882), (3214, 0.0944911182523068), (3215, 0.0), (3216, 0.0), (3217, 0.24999999999999994), (3218, 0.3198010745334156), (3219, 0.21213203435596426), (3220, 0.08838834764831843), (3221, 0.09805806756909201), (3222, 0.2357022603955158), (3223, 0.0), (3224, 0.10206207261596575), (3225, 0.0), (3226, 0.1178511301977579), (3227, 0.0944911182523068), (3228, 0.09805806756909201), (3229, 0.0944911182523068), (3230, 0.11180339887498948), (3231, 0.0), (3232, 0.08838834764831843), (3233, 0.17677669529663687), (3234, 0.24333213169614376), (3235, 0.23145502494313785), (3236, 0.0), (3237, 0.09805806756909201), (3238, 0.2041241452319315), (3239, 0.11180339887498948), (3240, 0.13363062095621217), (3241, 0.0944911182523068), (3242, 0.11180339887498948), (3243, 0.0), (3244, 0.1178511301977579), (3245, 0.0), (3246, 0.12499999999999997), (3247, 0.0), (3248, 0.0), (3249, 0.12499999999999997), (3250, 0.09805806756909201), (3251, 0.07372097807744857), (3252, 0.08838834764831843), (3253, 0.19611613513818402), (3254, 0.0), (3255, 0.0944911182523068), (3256, 0.25), (3257, 0.0), (3258, 0.09805806756909201), (3259, 0.0), (3260, 0.10206207261596575), (3261, 0.0), (3262, 0.10660035817780521), (3263, 0.10660035817780521), (3264, 0.10206207261596575), (3265, 0.17149858514250882), (3266, 0.1889822365046136), (3267, 0.3749999999999999), (3268, 0.12499999999999997), (3269, 0.11180339887498948), (3270, 0.17149858514250882), (3271, 0.22360679774997896), (3272, 0.07715167498104596), (3273, 0.07905694150420947), (3274, 0.0), (3275, 0.2041241452319315), (3276, 0.16666666666666666), (3277, 0.14433756729740646), (3278, 0.07905694150420947), (3279, 0.0), (3280, 0.10660035817780521), (3281, 0.08111071056538126), (3282, 0.21320071635561041), (3283, 0.15811388300841894), (3284, 0.08838834764831843), (3285, 0.0), (3286, 0.10206207261596575), (3287, 0.22360679774997896), (3288, 0.0), (3289, 0.0944911182523068), (3290, 0.0), (3291, 0.0), (3292, 0.11180339887498948), (3293, 0.17677669529663687), (3294, 0.0), (3295, 0.0), (3296, 0.0), (3297, 0.0), (3298, 0.0), (3299, 0.21320071635561041), (3300, 0.17149858514250882), (3301, 0.0), (3302, 0.10660035817780521), (3303, 0.0), (3304, 0.0), (3305, 0.0944911182523068), (3306, 0.1178511301977579), (3307, 0.13363062095621217), (3308, 0.08333333333333333), (3309, 0.0), (3310, 0.0), (3311, 0.0), (3312, 0.09128709291752767), (3313, 0.10206207261596575), (3314, 0.11180339887498948), (3315, 0.10660035817780521), (3316, 0.0944911182523068), (3317, 0.3198010745334156), (3318, 0.2041241452319315), (3319, 0.1178511301977579), (3320, 0.2886751345948129), (3321, 0.21320071635561041), (3322, 0.21320071635561041), (3323, 0.11180339887498948), (3324, 0.0), (3325, 0.21320071635561041), (3326, 0.2357022603955158), (3327, 0.10206207261596575), (3328, 0.1178511301977579), (3329, 0.08574929257125441), (3330, 0.09805806756909201), (3331, 0.18257418583505533), (3332, 0.11180339887498948), (3333, 0.30618621784789724), (3334, 0.21320071635561041), (3335, 0.14433756729740646), (3336, 0.12499999999999997), (3337, 0.1178511301977579), (3338, 0.11180339887498948), (3339, 0.10660035817780521), (3340, 0.0), (3341, 0.14433756729740646), (3342, 0.21320071635561041), (3343, 0.0), (3344, 0.22360679774997896), (3345, 0.09128709291752767), (3346, 0.1178511301977579), (3347, 0.2357022603955158), (3348, 0.09805806756909201), (3349, 0.0), (3350, 0.0), (3351, 0.10660035817780521), (3352, 0.10206207261596575), (3353, 0.13363062095621217), (3354, 0.33541019662496846), (3355, 0.0), (3356, 0.11180339887498948), (3357, 0.1889822365046136), (3358, 0.11180339887498948), (3359, 0.14433756729740646), (3360, 0.273861278752583), (3361, 0.08838834764831843), (3362, 0.0), (3363, 0.0), (3364, 0.24999999999999994), (3365, 0.0), (3366, 0.0), (3367, 0.0), (3368, 0.10660035817780521), (3369, 0.10206207261596575), (3370, 0.2357022603955158), (3371, 0.18257418583505533), (3372, 0.11180339887498948), (3373, 0.09805806756909201), (3374, 0.08838834764831843), (3375, 0.0), (3376, 0.13363062095621217), (3377, 0.0), (3378, 0.0), (3379, 0.0), (3380, 0.09128709291752767), (3381, 0.1178511301977579), (3382, 0.22360679774997896), (3383, 0.30618621784789724), (3384, 0.08111071056538126), (3385, 0.10660035817780521), (3386, 0.10660035817780521), (3387, 0.15811388300841894), (3388, 0.08333333333333333), (3389, 0.1178511301977579), (3390, 0.2041241452319315), (3391, 0.09805806756909201), (3392, 0.26726124191242434), (3393, 0.22360679774997896), (3394, 0.13363062095621217), (3395, 0.08111071056538126), (3396, 0.16666666666666666), (3397, 0.09805806756909201), (3398, 0.294174202707276), (3399, 0.30618621784789724), (3400, 0.17677669529663687), (3401, 0.21320071635561041), (3402, 0.0944911182523068), (3403, 0.0), (3404, 0.10660035817780521), (3405, 0.0), (3406, 0.0), (3407, 0.10660035817780521), (3408, 0.12499999999999997), (3409, 0.19611613513818402), (3410, 0.10660035817780521), (3411, 0.10206207261596575), (3412, 0.28347335475692037), (3413, 0.0), (3414, 0.0), (3415, 0.19611613513818402), (3416, 0.11180339887498948), (3417, 0.24999999999999994), (3418, 0.0), (3419, 0.09805806756909201), (3420, 0.0), (3421, 0.11180339887498948), (3422, 0.09128709291752767), (3423, 0.13363062095621217), (3424, 0.0), (3425, 0.2041241452319315), (3426, 0.08574929257125441), (3427, 0.0), (3428, 0.2041241452319315), (3429, 0.0), (3430, 0.11180339887498948), (3431, 0.0), (3432, 0.0), (3433, 0.35355339059327373), (3434, 0.18257418583505533), (3435, 0.0), (3436, 0.0), (3437, 0.11180339887498948), (3438, 0.11180339887498948), (3439, 0.0), (3440, 0.0), (3441, 0.0), (3442, 0.22360679774997896), (3443, 0.3198010745334156), (3444, 0.09128709291752767), (3445, 0.0), (3446, 0.10206207261596575), (3447, 0.12499999999999997), (3448, 0.0), (3449, 0.0), (3450, 0.0), (3451, 0.10206207261596575), (3452, 0.0), (3453, 0.2041241452319315), (3454, 0.0), (3455, 0.0), (3456, 0.25), (3457, 0.10660035817780521), (3458, 0.09805806756909201), (3459, 0.09805806756909201), (3460, 0.12499999999999997), (3461, 0.0), (3462, 0.0), (3463, 0.0), (3464, 0.1889822365046136), (3465, 0.11180339887498948), (3466, 0.13363062095621217), (3467, 0.09128709291752767), (3468, 0.09805806756909201), (3469, 0.0), (3470, 0.12499999999999997), (3471, 0.0), (3472, 0.0), (3473, 0.0), (3474, 0.2041241452319315), (3475, 0.3198010745334156), (3476, 0.10206207261596575), (3477, 0.2041241452319315), (3478, 0.3198010745334156), (3479, 0.2041241452319315), (3480, 0.19611613513818402), (3481, 0.0), (3482, 0.0), (3483, 0.0), (3484, 0.09805806756909201), (3485, 0.08333333333333333), (3486, 0.21320071635561041), (3487, 0.12499999999999997), (3488, 0.1178511301977579), (3489, 0.0944911182523068), (3490, 0.35355339059327373), (3491, 0.22360679774997896), (3492, 0.16222142113076252), (3493, 0.0), (3494, 0.0), (3495, 0.1889822365046136), (3496, 0.0), (3497, 0.1178511301977579), (3498, 0.1889822365046136), (3499, 0.2041241452319315), (3500, 0.28347335475692037), (3501, 0.0), (3502, 0.0), (3503, 0.2211629342323457), (3504, 0.10660035817780521), (3505, 0.0), (3506, 0.1178511301977579), (3507, 0.2041241452319315), (3508, 0.12499999999999997), (3509, 0.11180339887498948), (3510, 0.30618621784789724), (3511, 0.10660035817780521), (3512, 0.0), (3513, 0.13363062095621217), (3514, 0.0), (3515, 0.15811388300841894), (3516, 0.0), (3517, 0.16666666666666666), (3518, 0.08574929257125441), (3519, 0.11180339887498948), (3520, 0.1543033499620919), (3521, 0.0944911182523068), (3522, 0.0), (3523, 0.10660035817780521), (3524, 0.10660035817780521), (3525, 0.09128709291752767), (3526, 0.14433756729740646), (3527, 0.08838834764831843), (3528, 0.0), (3529, 0.18257418583505533), (3530, 0.0), (3531, 0.2357022603955158), (3532, 0.0), (3533, 0.14433756729740646), (3534, 0.0), (3535, 0.09805806756909201), (3536, 0.1889822365046136), (3537, 0.07905694150420947), (3538, 0.2041241452319315), (3539, 0.10660035817780521), (3540, 0.0), (3541, 0.35355339059327373), (3542, 0.0), (3543, 0.0), (3544, 0.0), (3545, 0.21320071635561041), (3546, 0.14433756729740646), (3547, 0.0), (3548, 0.0), (3549, 0.11180339887498948), (3550, 0.2357022603955158), (3551, 0.12499999999999997), (3552, 0.28347335475692037), (3553, 0.0), (3554, 0.13363062095621217), (3555, 0.35355339059327373), (3556, 0.0), (3557, 0.09805806756909201), (3558, 0.0), (3559, 0.0), (3560, 0.1178511301977579), (3561, 0.08838834764831843), (3562, 0.2886751345948129), (3563, 0.1889822365046136), (3564, 0.10660035817780521), (3565, 0.13363062095621217), (3566, 0.09128709291752767), (3567, 0.14433756729740646), (3568, 0.11180339887498948), (3569, 0.10660035817780521), (3570, 0.0944911182523068), (3571, 0.0), (3572, 0.21320071635561041), (3573, 0.0), (3574, 0.21320071635561041), (3575, 0.14433756729740646), (3576, 0.09805806756909201), (3577, 0.1178511301977579), (3578, 0.0), (3579, 0.0), (3580, 0.12499999999999997), (3581, 0.0), (3582, 0.2357022603955158), (3583, 0.0), (3584, 0.13363062095621217), (3585, 0.2357022603955158), (3586, 0.12499999999999997), (3587, 0.28347335475692037), (3588, 0.3779644730092272), (3589, 0.11180339887498948), (3590, 0.1178511301977579), (3591, 0.11180339887498948), (3592, 0.0), (3593, 0.10206207261596575), (3594, 0.08838834764831843), (3595, 0.11180339887498948), (3596, 0.24999999999999994), (3597, 0.0), (3598, 0.0), (3599, 0.2041241452319315), (3600, 0.13363062095621217), (3601, 0.11180339887498948), (3602, 0.11180339887498948), (3603, 0.07905694150420947), (3604, 0.10206207261596575), (3605, 0.0), (3606, 0.0), (3607, 0.1178511301977579), (3608, 0.0), (3609, 0.28347335475692037), (3610, 0.3749999999999999), (3611, 0.0), (3612, 0.0), (3613, 0.0944911182523068), (3614, 0.0), (3615, 0.2041241452319315), (3616, 0.0), (3617, 0.0), (3618, 0.10660035817780521), (3619, 0.2041241452319315), (3620, 0.11180339887498948), (3621, 0.09128709291752767), (3622, 0.33541019662496846), (3623, 0.09128709291752767), (3624, 0.0), (3625, 0.13363062095621217), (3626, 0.07715167498104596), (3627, 0.0), (3628, 0.0944911182523068), (3629, 0.0), (3630, 0.09805806756909201), (3631, 0.10206207261596575), (3632, 0.3779644730092272), (3633, 0.09128709291752767), (3634, 0.0), (3635, 0.1178511301977579), (3636, 0.0), (3637, 0.11180339887498948), (3638, 0.21320071635561041), (3639, 0.0), (3640, 0.0), (3641, 0.12499999999999997), (3642, 0.2357022603955158), (3643, 0.22360679774997896), (3644, 0.19611613513818402), (3645, 0.12499999999999997), (3646, 0.0), (3647, 0.19611613513818402), (3648, 0.0), (3649, 0.0), (3650, 0.10660035817780521), (3651, 0.13363062095621217), (3652, 0.0), (3653, 0.1178511301977579), (3654, 0.0), (3655, 0.12499999999999997), (3656, 0.24999999999999994), (3657, 0.10660035817780521), (3658, 0.0), (3659, 0.2041241452319315), (3660, 0.10660035817780521), (3661, 0.1178511301977579), (3662, 0.19611613513818402), (3663, 0.0), (3664, 0.14433756729740646), (3665, 0.22360679774997896), (3666, 0.0), (3667, 0.08333333333333333), (3668, 0.13363062095621217), (3669, 0.0), (3670, 0.0), (3671, 0.11180339887498948), (3672, 0.30618621784789724), (3673, 0.1178511301977579), (3674, 0.10206207261596575), (3675, 0.10660035817780521), (3676, 0.1178511301977579), (3677, 0.08838834764831843), (3678, 0.10660035817780521), (3679, 0.09805806756909201), (3680, 0.19611613513818402), (3681, 0.11180339887498948), (3682, 0.09805806756909201), (3683, 0.21320071635561041), (3684, 0.0), (3685, 0.1178511301977579), (3686, 0.0), (3687, 0.0944911182523068), (3688, 0.0), (3689, 0.0944911182523068), (3690, 0.0944911182523068), (3691, 0.0), (3692, 0.0), (3693, 0.0), (3694, 0.10660035817780521), (3695, 0.0), (3696, 0.0), (3697, 0.0), (3698, 0.0), (3699, 0.2357022603955158), (3700, 0.10660035817780521), (3701, 0.0), (3702, 0.10660035817780521), (3703, 0.0), (3704, 0.10660035817780521), (3705, 0.0), (3706, 0.0), (3707, 0.22360679774997896), (3708, 0.0), (3709, 0.0), (3710, 0.11180339887498948), (3711, 0.0), (3712, 0.0), (3713, 0.0), (3714, 0.0), (3715, 0.1889822365046136), (3716, 0.0), (3717, 0.1178511301977579), (3718, 0.0), (3719, 0.0), (3720, 0.0), (3721, 0.09805806756909201), (3722, 0.0), (3723, 0.2041241452319315), (3724, 0.0), (3725, 0.0), (3726, 0.08574929257125441), (3727, 0.22360679774997896), (3728, 0.0), (3729, 0.2357022603955158), (3730, 0.1178511301977579), (3731, 0.0), (3732, 0.10206207261596575), (3733, 0.21320071635561041), (3734, 0.0), (3735, 0.3198010745334156), (3736, 0.21320071635561041), (3737, 0.09805806756909201), (3738, 0.25724787771376323), (3739, 0.10660035817780521), (3740, 0.0), (3741, 0.09805806756909201), (3742, 0.0), (3743, 0.0), (3744, 0.0), (3745, 0.13363062095621217), (3746, 0.09128709291752767), (3747, 0.26726124191242434), (3748, 0.19611613513818402), (3749, 0.1178511301977579), (3750, 0.25724787771376323), (3751, 0.2041241452319315), (3752, 0.0), (3753, 0.0), (3754, 0.0), (3755, 0.11180339887498948), (3756, 0.09805806756909201), (3757, 0.12499999999999997), (3758, 0.273861278752583), (3759, 0.1178511301977579), (3760, 0.2041241452319315), (3761, 0.2041241452319315), (3762, 0.0), (3763, 0.08574929257125441), (3764, 0.1889822365046136), (3765, 0.08838834764831843), (3766, 0.0), (3767, 0.0), (3768, 0.0), (3769, 0.0), (3770, 0.12499999999999997), (3771, 0.18257418583505533), (3772, 0.0), (3773, 0.0), (3774, 0.10660035817780521), (3775, 0.0), (3776, 0.13363062095621217), (3777, 0.0), (3778, 0.1178511301977579), (3779, 0.35355339059327373), (3780, 0.11180339887498948), (3781, 0.11180339887498948), (3782, 0.0), (3783, 0.19611613513818402), (3784, 0.30618621784789724), (3785, 0.2041241452319315), (3786, 0.10206207261596575), (3787, 0.10206207261596575), (3788, 0.09805806756909201), (3789, 0.12499999999999997), (3790, 0.0), (3791, 0.0), (3792, 0.1178511301977579), (3793, 0.0), (3794, 0.13363062095621217), (3795, 0.1178511301977579), (3796, 0.0), (3797, 0.12499999999999997), (3798, 0.13363062095621217), (3799, 0.11180339887498948), (3800, 0.10660035817780521), (3801, 0.0), (3802, 0.1178511301977579), (3803, 0.0), (3804, 0.0), (3805, 0.0), (3806, 0.0), (3807, 0.0), (3808, 0.0), (3809, 0.0), (3810, 0.11180339887498948), (3811, 0.0), (3812, 0.0), (3813, 0.0), (3814, 0.0), (3815, 0.0), (3816, 0.0), (3817, 0.0), (3818, 0.0), (3819, 0.0), (3820, 0.0), (3821, 0.24999999999999994), (3822, 0.15811388300841894), (3823, 0.08838834764831843), (3824, 0.0), (3825, 0.10660035817780521), (3826, 0.13363062095621217), (3827, 0.0), (3828, 0.12499999999999997), (3829, 0.11180339887498948), (3830, 0.0), (3831, 0.24999999999999994), (3832, 0.0), (3833, 0.08111071056538126), (3834, 0.2041241452319315), (3835, 0.09128709291752767), (3836, 0.11180339887498948), (3837, 0.18257418583505533), (3838, 0.25724787771376323), (3839, 0.2357022603955158), (3840, 0.19611613513818402), (3841, 0.0), (3842, 0.1889822365046136), (3843, 0.2357022603955158), (3844, 0.0), (3845, 0.0), (3846, 0.1178511301977579), (3847, 0.0), (3848, 0.10206207261596575), (3849, 0.0), (3850, 0.0), (3851, 0.0), (3852, 0.0), (3853, 0.12499999999999997), (3854, 0.11180339887498948), (3855, 0.11180339887498948), (3856, 0.0), (3857, 0.10206207261596575), (3858, 0.08333333333333333), (3859, 0.08838834764831843), (3860, 0.2041241452319315), (3861, 0.11180339887498948), (3862, 0.24999999999999994), (3863, 0.09805806756909201), (3864, 0.13363062095621217), (3865, 0.10660035817780521), (3866, 0.09128709291752767), (3867, 0.11180339887498948), (3868, 0.0), (3869, 0.0), (3870, 0.10206207261596575), (3871, 0.21320071635561041), (3872, 0.10660035817780521), (3873, 0.0), (3874, 0.22360679774997896), (3875, 0.11180339887498948), (3876, 0.11180339887498948), (3877, 0.0), (3878, 0.0), (3879, 0.14433756729740646), (3880, 0.0), (3881, 0.13363062095621217), (3882, 0.11180339887498948), (3883, 0.10206207261596575), (3884, 0.0), (3885, 0.4999999999999999), (3886, 0.0), (3887, 0.10206207261596575), (3888, 0.0), (3889, 0.14433756729740646), (3890, 0.24999999999999994), (3891, 0.0), (3892, 0.21320071635561041), (3893, 0.21320071635561041), (3894, 0.1178511301977579), (3895, 0.12499999999999997), (3896, 0.21320071635561041), (3897, 0.0), (3898, 0.0), (3899, 0.0), (3900, 0.0), (3901, 0.0), (3902, 0.12499999999999997), (3903, 0.10206207261596575), (3904, 0.08574929257125441), (3905, 0.0), (3906, 0.0), (3907, 0.1889822365046136), (3908, 0.0), (3909, 0.11180339887498948), (3910, 0.0), (3911, 0.0), (3912, 0.0), (3913, 0.0), (3914, 0.14433756729740646), (3915, 0.22360679774997896), (3916, 0.12499999999999997), (3917, 0.11180339887498948), (3918, 0.11180339887498948), (3919, 0.09805806756909201), (3920, 0.14433756729740646), (3921, 0.0), (3922, 0.1178511301977579), (3923, 0.0), (3924, 0.0), (3925, 0.2041241452319315), (3926, 0.12499999999999997), (3927, 0.10660035817780521), (3928, 0.0), (3929, 0.11180339887498948), (3930, 0.30618621784789724), (3931, 0.1178511301977579), (3932, 0.0), (3933, 0.10660035817780521), (3934, 0.2357022603955158), (3935, 0.11180339887498948), (3936, 0.33541019662496846), (3937, 0.0), (3938, 0.10206207261596575), (3939, 0.1178511301977579), (3940, 0.0), (3941, 0.0), (3942, 0.12499999999999997), (3943, 0.0), (3944, 0.0), (3945, 0.10206207261596575), (3946, 0.11180339887498948), (3947, 0.13363062095621217), (3948, 0.09805806756909201), (3949, 0.0), (3950, 0.0), (3951, 0.0), (3952, 0.10206207261596575), (3953, 0.0), (3954, 0.0), (3955, 0.22360679774997896), (3956, 0.21320071635561041), (3957, 0.0), (3958, 0.0), (3959, 0.0), (3960, 0.10660035817780521), (3961, 0.0), (3962, 0.0), (3963, 0.0), (3964, 0.11180339887498948), (3965, 0.0), (3966, 0.10206207261596575), (3967, 0.0), (3968, 0.13363062095621217), (3969, 0.09128709291752767), (3970, 0.1178511301977579), (3971, 0.10206207261596575), (3972, 0.0944911182523068), (3973, 0.2041241452319315), (3974, 0.12499999999999997), (3975, 0.09805806756909201), (3976, 0.21320071635561041), (3977, 0.2041241452319315), (3978, 0.0), (3979, 0.09805806756909201), (3980, 0.273861278752583), (3981, 0.10660035817780521), (3982, 0.07905694150420947), (3983, 0.2357022603955158), (3984, 0.13363062095621217), (3985, 0.0), (3986, 0.0), (3987, 0.294174202707276), (3988, 0.13363062095621217), (3989, 0.0), (3990, 0.08333333333333333), (3991, 0.36514837167011066), (3992, 0.0), (3993, 0.21320071635561041), (3994, 0.10206207261596575), (3995, 0.0), (3996, 0.0), (3997, 0.0), (3998, 0.25), (3999, 0.0), (4000, 0.10660035817780521), (4001, 0.10660035817780521), (4002, 0.0), (4003, 0.1889822365046136), (4004, 0.0), (4005, 0.2357022603955158), (4006, 0.10660035817780521), (4007, 0.0), (4008, 0.1178511301977579), (4009, 0.21320071635561041), (4010, 0.0), (4011, 0.0), (4012, 0.33541019662496846), (4013, 0.09805806756909201), (4014, 0.33541019662496846), (4015, 0.1178511301977579), (4016, 0.0), (4017, 0.08838834764831843), (4018, 0.11180339887498948), (4019, 0.0), (4020, 0.09805806756909201), (4021, 0.0), (4022, 0.0), (4023, 0.0), (4024, 0.10660035817780521), (4025, 0.0), (4026, 0.10206207261596575), (4027, 0.0), (4028, 0.0), (4029, 0.0944911182523068), (4030, 0.0), (4031, 0.2041241452319315), (4032, 0.0), (4033, 0.2357022603955158), (4034, 0.0), (4035, 0.0), (4036, 0.0), (4037, 0.0), (4038, 0.17677669529663687), (4039, 0.0), (4040, 0.33541019662496846), (4041, 0.3198010745334156), (4042, 0.24999999999999994), (4043, 0.0), (4044, 0.18257418583505533), (4045, 0.15811388300841894), (4046, 0.0), (4047, 0.09805806756909201), (4048, 0.0), (4049, 0.0944911182523068), (4050, 0.12499999999999997), (4051, 0.26726124191242434), (4052, 0.0), (4053, 0.11180339887498948), (4054, 0.10206207261596575), (4055, 0.0), (4056, 0.19611613513818402), (4057, 0.2886751345948129), (4058, 0.10660035817780521), (4059, 0.12499999999999997), (4060, 0.10660035817780521), (4061, 0.0), (4062, 0.10206207261596575), (4063, 0.0), (4064, 0.0), (4065, 0.12499999999999997), (4066, 0.0), (4067, 0.0), (4068, 0.0), (4069, 0.09128709291752767), (4070, 0.08574929257125441), (4071, 0.0), (4072, 0.0), (4073, 0.0944911182523068), (4074, 0.0), (4075, 0.10660035817780521), (4076, 0.10206207261596575), (4077, 0.1178511301977579), (4078, 0.13363062095621217), (4079, 0.0), (4080, 0.12499999999999997), (4081, 0.14433756729740646), (4082, 0.1889822365046136), (4083, 0.16222142113076252), (4084, 0.10660035817780521), (4085, 0.0), (4086, 0.2357022603955158), (4087, 0.10660035817780521), (4088, 0.0), (4089, 0.11180339887498948), (4090, 0.22360679774997896), (4091, 0.09128709291752767), (4092, 0.15811388300841894), (4093, 0.1178511301977579), (4094, 0.13363062095621217), (4095, 0.0), (4096, 0.0), (4097, 0.0), (4098, 0.0), (4099, 0.2357022603955158), (4100, 0.09805806756909201), (4101, 0.0), (4102, 0.13363062095621217), (4103, 0.0), (4104, 0.19611613513818402), (4105, 0.21320071635561041), (4106, 0.294174202707276), (4107, 0.0), (4108, 0.0944911182523068), (4109, 0.0), (4110, 0.11180339887498948), (4111, 0.0), (4112, 0.10660035817780521), (4113, 0.0), (4114, 0.0), (4115, 0.10206207261596575), (4116, 0.10206207261596575), (4117, 0.0), (4118, 0.14433756729740646), (4119, 0.09805806756909201), (4120, 0.0), (4121, 0.22360679774997896), (4122, 0.08838834764831843), (4123, 0.12499999999999997), (4124, 0.22360679774997896), (4125, 0.24999999999999994), (4126, 0.0944911182523068), (4127, 0.11180339887498948), (4128, 0.0), (4129, 0.2357022603955158), (4130, 0.09128709291752767), (4131, 0.0), (4132, 0.0944911182523068), (4133, 0.0), (4134, 0.11180339887498948), (4135, 0.21320071635561041), (4136, 0.17677669529663687), (4137, 0.05521576303742327), (4138, 0.0), (4139, 0.0), (4140, 0.10660035817780521), (4141, 0.10206207261596575), (4142, 0.0), (4143, 0.0), (4144, 0.0), (4145, 0.0), (4146, 0.11180339887498948), (4147, 0.0), (4148, 0.0), (4149, 0.0), (4150, 0.21320071635561041), (4151, 0.26726124191242434), (4152, 0.25724787771376323), (4153, 0.19611613513818402), (4154, 0.0), (4155, 0.12499999999999997), (4156, 0.0944911182523068), (4157, 0.273861278752583), (4158, 0.21320071635561041), (4159, 0.2041241452319315), (4160, 0.0), (4161, 0.0), (4162, 0.0), (4163, 0.0), (4164, 0.19611613513818402), (4165, 0.1178511301977579), (4166, 0.0), (4167, 0.0), (4168, 0.0), (4169, 0.10206207261596575), (4170, 0.0), (4171, 0.1178511301977579), (4172, 0.0), (4173, 0.30618621784789724), (4174, 0.0), (4175, 0.09805806756909201), (4176, 0.10206207261596575), (4177, 0.1178511301977579), (4178, 0.08333333333333333), (4179, 0.0), (4180, 0.0), (4181, 0.18257418583505533), (4182, 0.18257418583505533), (4183, 0.0), (4184, 0.1178511301977579), (4185, 0.1178511301977579), (4186, 0.2041241452319315), (4187, 0.0), (4188, 0.12499999999999997), (4189, 0.0), (4190, 0.09805806756909201), (4191, 0.21320071635561041), (4192, 0.0), (4193, 0.0944911182523068), (4194, 0.0944911182523068), (4195, 0.0), (4196, 0.0), (4197, 0.08333333333333333), (4198, 0.10206207261596575), (4199, 0.11180339887498948), (4200, 0.294174202707276), (4201, 0.0), (4202, 0.0), (4203, 0.0), (4204, 0.0), (4205, 0.1178511301977579), (4206, 0.22360679774997896), (4207, 0.13363062095621217), (4208, 0.22360679774997896), (4209, 0.19611613513818402), (4210, 0.0944911182523068), (4211, 0.1178511301977579), (4212, 0.08838834764831843), (4213, 0.09805806756909201), (4214, 0.0), (4215, 0.0), (4216, 0.0), (4217, 0.0), (4218, 0.19611613513818402), (4219, 0.0944911182523068), (4220, 0.10660035817780521), (4221, 0.0), (4222, 0.2357022603955158), (4223, 0.10206207261596575), (4224, 0.0), (4225, 0.13363062095621217), (4226, 0.11180339887498948), (4227, 0.10660035817780521), (4228, 0.273861278752583), (4229, 0.08333333333333333), (4230, 0.26726124191242434), (4231, 0.21320071635561041), (4232, 0.2357022603955158), (4233, 0.09128709291752767), (4234, 0.24999999999999994), (4235, 0.08333333333333333), (4236, 0.0), (4237, 0.10206207261596575), (4238, 0.0), (4239, 0.0), (4240, 0.0), (4241, 0.19611613513818402), (4242, 0.18257418583505533), (4243, 0.0), (4244, 0.11180339887498948), (4245, 0.0944911182523068), (4246, 0.0), (4247, 0.30618621784789724), (4248, 0.0), (4249, 0.12499999999999997), (4250, 0.09805806756909201), (4251, 0.0), (4252, 0.0), (4253, 0.22360679774997896), (4254, 0.19611613513818402), (4255, 0.0), (4256, 0.14433756729740646), (4257, 0.1178511301977579), (4258, 0.0), (4259, 0.12499999999999997), (4260, 0.09805806756909201), (4261, 0.30618621784789724), (4262, 0.18257418583505533), (4263, 0.0), (4264, 0.0), (4265, 0.1178511301977579), (4266, 0.2357022603955158), (4267, 0.11180339887498948), (4268, 0.11180339887498948), (4269, 0.13363062095621217), (4270, 0.0), (4271, 0.1178511301977579), (4272, 0.294174202707276), (4273, 0.10660035817780521), (4274, 0.0), (4275, 0.0944911182523068), (4276, 0.0), (4277, 0.1178511301977579), (4278, 0.0944911182523068), (4279, 0.09805806756909201), (4280, 0.09805806756909201), (4281, 0.09805806756909201), (4282, 0.09805806756909201), (4283, 0.1178511301977579), (4284, 0.0), (4285, 0.0), (4286, 0.0), (4287, 0.0), (4288, 0.2357022603955158), (4289, 0.3779644730092272), (4290, 0.1889822365046136), (4291, 0.09805806756909201), (4292, 0.14433756729740646), (4293, 0.0), (4294, 0.2357022603955158), (4295, 0.24999999999999994), (4296, 0.0), (4297, 0.0), (4298, 0.13363062095621217), (4299, 0.0), (4300, 0.11180339887498948), (4301, 0.10660035817780521), (4302, 0.2357022603955158), (4303, 0.0), (4304, 0.22360679774997896), (4305, 0.0), (4306, 0.09805806756909201), (4307, 0.0), (4308, 0.19611613513818402), (4309, 0.35355339059327373), (4310, 0.0), (4311, 0.0), (4312, 0.294174202707276), (4313, 0.0), (4314, 0.10660035817780521), (4315, 0.26726124191242434), (4316, 0.1178511301977579), (4317, 0.13363062095621217), (4318, 0.11180339887498948), (4319, 0.10660035817780521), (4320, 0.0), (4321, 0.12499999999999997), (4322, 0.10660035817780521), (4323, 0.0), (4324, 0.0), (4325, 0.21320071635561041), (4326, 0.10206207261596575), (4327, 0.10660035817780521), (4328, 0.0), (4329, 0.10206207261596575), (4330, 0.1889822365046136), (4331, 0.2357022603955158), (4332, 0.19611613513818402), (4333, 0.0), (4334, 0.07071067811865475), (4335, 0.13363062095621217), (4336, 0.10660035817780521), (4337, 0.1178511301977579), (4338, 0.0), (4339, 0.1178511301977579), (4340, 0.0), (4341, 0.0944911182523068), (4342, 0.0), (4343, 0.2041241452319315), (4344, 0.30618621784789724), (4345, 0.0), (4346, 0.0), (4347, 0.0), (4348, 0.0944911182523068), (4349, 0.12499999999999997), (4350, 0.08838834764831843), (4351, 0.1889822365046136), (4352, 0.12499999999999997), (4353, 0.22360679774997896), (4354, 0.0), (4355, 0.16222142113076252), (4356, 0.10660035817780521), (4357, 0.16666666666666666), (4358, 0.08111071056538126), (4359, 0.0), (4360, 0.13363062095621217), (4361, 0.1178511301977579), (4362, 0.11180339887498948), (4363, 0.0), (4364, 0.07905694150420947), (4365, 0.19611613513818402), (4366, 0.0), (4367, 0.0), (4368, 0.0), (4369, 0.0), (4370, 0.08838834764831843), (4371, 0.0), (4372, 0.11180339887498948), (4373, 0.39223227027636803), (4374, 0.3749999999999999), (4375, 0.0), (4376, 0.10206207261596575), (4377, 0.22360679774997896), (4378, 0.08111071056538126), (4379, 0.0), (4380, 0.0), (4381, 0.0944911182523068), (4382, 0.1178511301977579), (4383, 0.0), (4384, 0.21320071635561041), (4385, 0.28347335475692037), (4386, 0.0), (4387, 0.1178511301977579), (4388, 0.0), (4389, 0.0944911182523068), (4390, 0.0), (4391, 0.1178511301977579), (4392, 0.11180339887498948), (4393, 0.0), (4394, 0.0), (4395, 0.30618621784789724), (4396, 0.12499999999999997), (4397, 0.0), (4398, 0.2041241452319315), (4399, 0.0), (4400, 0.10206207261596575), (4401, 0.08574929257125441), (4402, 0.1178511301977579), (4403, 0.11180339887498948), (4404, 0.2357022603955158), (4405, 0.1178511301977579), (4406, 0.25724787771376323), (4407, 0.10206207261596575), (4408, 0.22360679774997896), (4409, 0.0), (4410, 0.13363062095621217), (4411, 0.0), (4412, 0.0944911182523068), (4413, 0.08333333333333333), (4414, 0.21320071635561041), (4415, 0.11180339887498948), (4416, 0.0), (4417, 0.12499999999999997), (4418, 0.2357022603955158), (4419, 0.0), (4420, 0.10206207261596575), (4421, 0.10660035817780521), (4422, 0.2651650429449553), (4423, 0.0), (4424, 0.0), (4425, 0.11180339887498948), (4426, 0.2041241452319315), (4427, 0.10660035817780521), (4428, 0.21320071635561041), (4429, 0.0), (4430, 0.0), (4431, 0.12499999999999997), (4432, 0.18257418583505533), (4433, 0.2357022603955158), (4434, 0.0), (4435, 0.11180339887498948), (4436, 0.0), (4437, 0.0), (4438, 0.22360679774997896), (4439, 0.3749999999999999), (4440, 0.0), (4441, 0.22360679774997896), (4442, 0.0), (4443, 0.11180339887498948), (4444, 0.12499999999999997), (4445, 0.0), (4446, 0.10660035817780521), (4447, 0.11180339887498948), (4448, 0.0), (4449, 0.0), (4450, 0.10660035817780521), (4451, 0.2357022603955158), (4452, 0.0), (4453, 0.1178511301977579), (4454, 0.0), (4455, 0.0), (4456, 0.0), (4457, 0.0), (4458, 0.0), (4459, 0.0), (4460, 0.24999999999999994), (4461, 0.12499999999999997), (4462, 0.2041241452319315), (4463, 0.0), (4464, 0.3198010745334156), (4465, 0.0), (4466, 0.0), (4467, 0.0), (4468, 0.2041241452319315), (4469, 0.21320071635561041), (4470, 0.13363062095621217), (4471, 0.0), (4472, 0.09128709291752767), (4473, 0.10206207261596575), (4474, 0.09128709291752767), (4475, 0.3198010745334156), (4476, 0.19611613513818402), (4477, 0.0), (4478, 0.08838834764831843), (4479, 0.0), (4480, 0.1889822365046136), (4481, 0.0), (4482, 0.12499999999999997), (4483, 0.08838834764831843), (4484, 0.0), (4485, 0.09805806756909201), (4486, 0.3198010745334156), (4487, 0.09805806756909201), (4488, 0.11180339887498948), (4489, 0.11180339887498948), (4490, 0.0), (4491, 0.0), (4492, 0.0), (4493, 0.0), (4494, 0.11180339887498948), (4495, 0.1178511301977579), (4496, 0.11180339887498948), (4497, 0.2357022603955158), (4498, 0.09805806756909201), (4499, 0.09805806756909201), (4500, 0.10660035817780521), (4501, 0.09128709291752767), (4502, 0.0), (4503, 0.11180339887498948), (4504, 0.22360679774997896), (4505, 0.0), (4506, 0.1178511301977579), (4507, 0.10206207261596575), (4508, 0.13363062095621217), (4509, 0.0), (4510, 0.0), (4511, 0.12499999999999997), (4512, 0.0), (4513, 0.1178511301977579), (4514, 0.26726124191242434), (4515, 0.24999999999999994), (4516, 0.10206207261596575), (4517, 0.11180339887498948), (4518, 0.0), (4519, 0.08111071056538126), (4520, 0.22360679774997896), (4521, 0.0), (4522, 0.17677669529663687), (4523, 0.10660035817780521), (4524, 0.0), (4525, 0.10660035817780521), (4526, 0.11180339887498948), (4527, 0.24999999999999994), (4528, 0.0), (4529, 0.0), (4530, 0.3162277660168379), (4531, 0.0), (4532, 0.1178511301977579), (4533, 0.0), (4534, 0.10206207261596575), (4535, 0.0), (4536, 0.0), (4537, 0.0), (4538, 0.08838834764831843), (4539, 0.0), (4540, 0.0), (4541, 0.0), (4542, 0.10206207261596575), (4543, 0.0), (4544, 0.10660035817780521), (4545, 0.08838834764831843), (4546, 0.0), (4547, 0.0), (4548, 0.11180339887498948), (4549, 0.10206207261596575), (4550, 0.11180339887498948), (4551, 0.14433756729740646), (4552, 0.0), (4553, 0.1178511301977579), (4554, 0.0), (4555, 0.0), (4556, 0.16222142113076252), (4557, 0.16666666666666666), (4558, 0.22360679774997896), (4559, 0.0), (4560, 0.0), (4561, 0.09128709291752767), (4562, 0.0), (4563, 0.2041241452319315), (4564, 0.0), (4565, 0.13363062095621217), (4566, 0.09128709291752767), (4567, 0.10206207261596575), (4568, 0.10206207261596575), (4569, 0.35355339059327373), (4570, 0.13363062095621217), (4571, 0.10660035817780521), (4572, 0.1178511301977579), (4573, 0.0), (4574, 0.0), (4575, 0.24999999999999994), (4576, 0.294174202707276), (4577, 0.22360679774997896), (4578, 0.19611613513818402), (4579, 0.0), (4580, 0.15811388300841894), (4581, 0.24999999999999994), (4582, 0.0), (4583, 0.0), (4584, 0.0944911182523068), (4585, 0.12499999999999997), (4586, 0.1178511301977579), (4587, 0.0), (4588, 0.0), (4589, 0.2041241452319315), (4590, 0.0944911182523068), (4591, 0.2357022603955158), (4592, 0.0), (4593, 0.14433756729740646), (4594, 0.1178511301977579), (4595, 0.10660035817780521), (4596, 0.0), (4597, 0.0), (4598, 0.0), (4599, 0.1178511301977579), (4600, 0.22360679774997896), (4601, 0.22360679774997896), (4602, 0.10206207261596575), (4603, 0.10660035817780521), (4604, 0.0), (4605, 0.33541019662496846), (4606, 0.0), (4607, 0.1178511301977579), (4608, 0.0), (4609, 0.0), (4610, 0.0), (4611, 0.0), (4612, 0.11180339887498948), (4613, 0.07216878364870323), (4614, 0.19611613513818402), (4615, 0.1178511301977579), (4616, 0.0), (4617, 0.0), (4618, 0.0), (4619, 0.10206207261596575), (4620, 0.0944911182523068), (4621, 0.08838834764831843), (4622, 0.11180339887498948), (4623, 0.0), (4624, 0.11180339887498948), (4625, 0.12499999999999997), (4626, 0.11180339887498948), (4627, 0.0), (4628, 0.21320071635561041), (4629, 0.0), (4630, 0.2357022603955158), (4631, 0.0), (4632, 0.10206207261596575), (4633, 0.13363062095621217), (4634, 0.0), (4635, 0.0), (4636, 0.0), (4637, 0.0), (4638, 0.09128709291752767), (4639, 0.2041241452319315), (4640, 0.10660035817780521), (4641, 0.0), (4642, 0.0), (4643, 0.0), (4644, 0.1178511301977579), (4645, 0.14433756729740646), (4646, 0.0), (4647, 0.1178511301977579), (4648, 0.33541019662496846), (4649, 0.0), (4650, 0.0), (4651, 0.0), (4652, 0.09805806756909201), (4653, 0.0), (4654, 0.0), (4655, 0.10206207261596575), (4656, 0.0), (4657, 0.0), (4658, 0.12499999999999997), (4659, 0.22360679774997896), (4660, 0.0), (4661, 0.0), (4662, 0.0), (4663, 0.0), (4664, 0.0), (4665, 0.12499999999999997), (4666, 0.0), (4667, 0.0), (4668, 0.11180339887498948), (4669, 0.294174202707276), (4670, 0.10206207261596575), (4671, 0.0), (4672, 0.10660035817780521), (4673, 0.15811388300841894), (4674, 0.12499999999999997), (4675, 0.11180339887498948), (4676, 0.10660035817780521), (4677, 0.1178511301977579), (4678, 0.0), (4679, 0.0), (4680, 0.0), (4681, 0.17149858514250882), (4682, 0.0), (4683, 0.26726124191242434), (4684, 0.2886751345948129), (4685, 0.0), (4686, 0.2041241452319315), (4687, 0.0), (4688, 0.21320071635561041), (4689, 0.0), (4690, 0.0), (4691, 0.11180339887498948), (4692, 0.10206207261596575), (4693, 0.0), (4694, 0.0), (4695, 0.0), (4696, 0.1178511301977579), (4697, 0.0), (4698, 0.10660035817780521), (4699, 0.0), (4700, 0.11180339887498948), (4701, 0.0), (4702, 0.0), (4703, 0.11180339887498948), (4704, 0.0), (4705, 0.22360679774997896), (4706, 0.0), (4707, 0.09805806756909201), (4708, 0.30618621784789724), (4709, 0.35355339059327373), (4710, 0.0), (4711, 0.0), (4712, 0.10206207261596575), (4713, 0.0), (4714, 0.0), (4715, 0.10206207261596575), (4716, 0.0), (4717, 0.10206207261596575), (4718, 0.0), (4719, 0.0), (4720, 0.09805806756909201), (4721, 0.0), (4722, 0.0), (4723, 0.0), (4724, 0.19611613513818402), (4725, 0.0), (4726, 0.10206207261596575), (4727, 0.0), (4728, 0.22360679774997896), (4729, 0.07071067811865475), (4730, 0.10206207261596575), (4731, 0.11180339887498948), (4732, 0.12499999999999997), (4733, 0.2357022603955158), (4734, 0.0), (4735, 0.0944911182523068), (4736, 0.0), (4737, 0.1889822365046136), (4738, 0.08574929257125441), (4739, 0.28347335475692037), (4740, 0.0), (4741, 0.0944911182523068), (4742, 0.1178511301977579), (4743, 0.10660035817780521), (4744, 0.0), (4745, 0.0), (4746, 0.1178511301977579), (4747, 0.10206207261596575), (4748, 0.12499999999999997), (4749, 0.21320071635561041), (4750, 0.0), (4751, 0.10206207261596575), (4752, 0.10660035817780521), (4753, 0.0), (4754, 0.13363062095621217), (4755, 0.0), (4756, 0.10206207261596575), (4757, 0.11180339887498948), (4758, 0.1178511301977579), (4759, 0.0), (4760, 0.0), (4761, 0.09805806756909201), (4762, 0.0), (4763, 0.22360679774997896), (4764, 0.11180339887498948), (4765, 0.0), (4766, 0.0), (4767, 0.0), (4768, 0.0), (4769, 0.07715167498104596), (4770, 0.22360679774997896), (4771, 0.1178511301977579), (4772, 0.0), (4773, 0.13363062095621217), (4774, 0.07905694150420947), (4775, 0.24999999999999994), (4776, 0.0), (4777, 0.0), (4778, 0.22360679774997896), (4779, 0.09805806756909201), (4780, 0.0), (4781, 0.26726124191242434), (4782, 0.15811388300841894), (4783, 0.13363062095621217), (4784, 0.11180339887498948), (4785, 0.1178511301977579), (4786, 0.0), (4787, 0.0), (4788, 0.16666666666666666), (4789, 0.0), (4790, 0.0), (4791, 0.0), (4792, 0.06804138174397717), (4793, 0.10206207261596575), (4794, 0.1178511301977579), (4795, 0.13363062095621217), (4796, 0.18257418583505533), (4797, 0.08838834764831843), (4798, 0.0), (4799, 0.0), (4800, 0.0), (4801, 0.09805806756909201), (4802, 0.0), (4803, 0.0), (4804, 0.0), (4805, 0.0), (4806, 0.0), (4807, 0.0), (4808, 0.21320071635561041), (4809, 0.19611613513818402), (4810, 0.1178511301977579), (4811, 0.0), (4812, 0.10206207261596575), (4813, 0.21320071635561041), (4814, 0.0), (4815, 0.12499999999999997), (4816, 0.0), (4817, 0.0), (4818, 0.0), (4819, 0.22360679774997896), (4820, 0.12499999999999997), (4821, 0.0), (4822, 0.0), (4823, 0.0), (4824, 0.12499999999999997), (4825, 0.10660035817780521), (4826, 0.0), (4827, 0.0), (4828, 0.2357022603955158), (4829, 0.24999999999999994), (4830, 0.0), (4831, 0.11180339887498948), (4832, 0.15811388300841894), (4833, 0.0), (4834, 0.0), (4835, 0.13363062095621217), (4836, 0.08333333333333333), (4837, 0.07715167498104596), (4838, 0.10660035817780521), (4839, 0.0), (4840, 0.12499999999999997), (4841, 0.0), (4842, 0.0), (4843, 0.0), (4844, 0.2357022603955158), (4845, 0.12499999999999997), (4846, 0.0), (4847, 0.0), (4848, 0.0), (4849, 0.0), (4850, 0.0), (4851, 0.21320071635561041), (4852, 0.11180339887498948), (4853, 0.22360679774997896), (4854, 0.11180339887498948), (4855, 0.0), (4856, 0.0), (4857, 0.14433756729740646), (4858, 0.0), (4859, 0.0), (4860, 0.11180339887498948), (4861, 0.11180339887498948), (4862, 0.3162277660168379), (4863, 0.1178511301977579), (4864, 0.22360679774997896), (4865, 0.0), (4866, 0.14433756729740646), (4867, 0.0), (4868, 0.1178511301977579), (4869, 0.0), (4870, 0.0), (4871, 0.0), (4872, 0.0), (4873, 0.2886751345948129), (4874, 0.0), (4875, 0.0), (4876, 0.11180339887498948), (4877, 0.0), (4878, 0.0), (4879, 0.0), (4880, 0.24999999999999994), (4881, 0.10206207261596575), (4882, 0.1178511301977579), (4883, 0.0), (4884, 0.11180339887498948), (4885, 0.08838834764831843), (4886, 0.26726124191242434), (4887, 0.10660035817780521), (4888, 0.0), (4889, 0.24999999999999994), (4890, 0.11180339887498948), (4891, 0.10660035817780521), (4892, 0.1178511301977579), (4893, 0.0), (4894, 0.0), (4895, 0.11180339887498948), (4896, 0.0), (4897, 0.10660035817780521), (4898, 0.2886751345948129), (4899, 0.19611613513818402), (4900, 0.11180339887498948), (4901, 0.09805806756909201), (4902, 0.0), (4903, 0.2041241452319315), (4904, 0.0), (4905, 0.09805806756909201), (4906, 0.0), (4907, 0.0), (4908, 0.09128709291752767), (4909, 0.08111071056538126), (4910, 0.10660035817780521), (4911, 0.10206207261596575), (4912, 0.0), (4913, 0.1178511301977579), (4914, 0.0), (4915, 0.11180339887498948), (4916, 0.09805806756909201), (4917, 0.0), (4918, 0.0), (4919, 0.0), (4920, 0.0), (4921, 0.30618621784789724), (4922, 0.0), (4923, 0.11180339887498948), (4924, 0.0), (4925, 0.0), (4926, 0.0), (4927, 0.0), (4928, 0.0), (4929, 0.0), (4930, 0.0), (4931, 0.13363062095621217), (4932, 0.10660035817780521), (4933, 0.10206207261596575), (4934, 0.11180339887498948), (4935, 0.12499999999999997), (4936, 0.24999999999999994), (4937, 0.2041241452319315), (4938, 0.10206207261596575), (4939, 0.1178511301977579), (4940, 0.0), (4941, 0.12499999999999997), (4942, 0.10660035817780521), (4943, 0.0), (4944, 0.19611613513818402), (4945, 0.24999999999999994), (4946, 0.11180339887498948), (4947, 0.0), (4948, 0.12499999999999997), (4949, 0.3198010745334156), (4950, 0.0), (4951, 0.0), (4952, 0.0), (4953, 0.22360679774997896), (4954, 0.1178511301977579), (4955, 0.0), (4956, 0.10660035817780521), (4957, 0.0), (4958, 0.25724787771376323), (4959, 0.12499999999999997), (4960, 0.24999999999999994), (4961, 0.21320071635561041), (4962, 0.0), (4963, 0.1178511301977579), (4964, 0.11180339887498948), (4965, 0.12499999999999997), (4966, 0.0), (4967, 0.0), (4968, 0.0), (4969, 0.1178511301977579), (4970, 0.0), (4971, 0.1889822365046136), (4972, 0.2357022603955158), (4973, 0.13363062095621217), (4974, 0.0), (4975, 0.12499999999999997), (4976, 0.0), (4977, 0.09805806756909201), (4978, 0.12499999999999997), (4979, 0.09128709291752767), (4980, 0.10660035817780521), (4981, 0.0), (4982, 0.0), (4983, 0.0944911182523068), (4984, 0.0), (4985, 0.0), (4986, 0.0), (4987, 0.0), (4988, 0.2041241452319315), (4989, 0.0), (4990, 0.1178511301977579), (4991, 0.0), (4992, 0.10206207261596575), (4993, 0.21320071635561041), (4994, 0.14433756729740646), (4995, 0.1178511301977579), (4996, 0.1178511301977579), (4997, 0.21320071635561041), (4998, 0.0), (4999, 0.10206207261596575), (5000, 0.1178511301977579), (5001, 0.0), (5002, 0.1178511301977579), (5003, 0.09805806756909201), (5004, 0.10660035817780521), (5005, 0.1178511301977579), (5006, 0.0), (5007, 0.10660035817780521), (5008, 0.12499999999999997), (5009, 0.19611613513818402), (5010, 0.0944911182523068), (5011, 0.1889822365046136), (5012, 0.11180339887498948), (5013, 0.0), (5014, 0.12499999999999997), (5015, 0.15811388300841894), (5016, 0.14433756729740646), (5017, 0.15811388300841894), (5018, 0.0), (5019, 0.25724787771376323), (5020, 0.10660035817780521), (5021, 0.0), (5022, 0.26726124191242434), (5023, 0.0), (5024, 0.0), (5025, 0.0), (5026, 0.0), (5027, 0.0), (5028, 0.10660035817780521), (5029, 0.0), (5030, 0.19611613513818402), (5031, 0.3749999999999999), (5032, 0.0753778361444409), (5033, 0.10206207261596575), (5034, 0.22360679774997896), (5035, 0.0), (5036, 0.0), (5037, 0.0944911182523068), (5038, 0.0), (5039, 0.35355339059327373), (5040, 0.17149858514250882), (5041, 0.21320071635561041), (5042, 0.0944911182523068), (5043, 0.0), (5044, 0.0), (5045, 0.13363062095621217), (5046, 0.0), (5047, 0.12499999999999997), (5048, 0.09805806756909201), (5049, 0.0), (5050, 0.1178511301977579), (5051, 0.2041241452319315), (5052, 0.0), (5053, 0.09805806756909201), (5054, 0.0), (5055, 0.24999999999999994), (5056, 0.2357022603955158), (5057, 0.0), (5058, 0.09805806756909201), (5059, 0.11180339887498948), (5060, 0.0), (5061, 0.09805806756909201), (5062, 0.11180339887498948), (5063, 0.1178511301977579), (5064, 0.07715167498104596), (5065, 0.12499999999999997), (5066, 0.0), (5067, 0.12499999999999997), (5068, 0.0), (5069, 0.0), (5070, 0.10660035817780521), (5071, 0.13363062095621217), (5072, 0.0), (5073, 0.0), (5074, 0.0), (5075, 0.11180339887498948), (5076, 0.1178511301977579), (5077, 0.22360679774997896), (5078, 0.0), (5079, 0.09128709291752767), (5080, 0.0944911182523068), (5081, 0.0), (5082, 0.12499999999999997), (5083, 0.13363062095621217), (5084, 0.13363062095621217), (5085, 0.10660035817780521), (5086, 0.10206207261596575), (5087, 0.13363062095621217), (5088, 0.22360679774997896), (5089, 0.2041241452319315), (5090, 0.0), (5091, 0.0), (5092, 0.22360679774997896), (5093, 0.0), (5094, 0.12499999999999997), (5095, 0.09805806756909201), (5096, 0.0944911182523068), (5097, 0.10206207261596575), (5098, 0.0), (5099, 0.09128709291752767), (5100, 0.0), (5101, 0.10206207261596575), (5102, 0.0), (5103, 0.0), (5104, 0.11180339887498948), (5105, 0.11180339887498948), (5106, 0.09128709291752767), (5107, 0.14433756729740646), (5108, 0.0), (5109, 0.0), (5110, 0.0), (5111, 0.0), (5112, 0.0), (5113, 0.0), (5114, 0.2041241452319315), (5115, 0.08333333333333333), (5116, 0.0), (5117, 0.09805806756909201), (5118, 0.0), (5119, 0.17149858514250882), (5120, 0.2041241452319315), (5121, 0.0), (5122, 0.0), (5123, 0.0), (5124, 0.0), (5125, 0.0944911182523068), (5126, 0.1178511301977579), (5127, 0.0), (5128, 0.0), (5129, 0.12499999999999997), (5130, 0.19611613513818402), (5131, 0.0), (5132, 0.10660035817780521), (5133, 0.17149858514250882), (5134, 0.1178511301977579), (5135, 0.0), (5136, 0.0), (5137, 0.0), (5138, 0.10660035817780521), (5139, 0.10206207261596575), (5140, 0.0), (5141, 0.10206207261596575), (5142, 0.13363062095621217), (5143, 0.0), (5144, 0.0), (5145, 0.21320071635561041), (5146, 0.0), (5147, 0.0), (5148, 0.1178511301977579), (5149, 0.0), (5150, 0.0), (5151, 0.10206207261596575), (5152, 0.10660035817780521), (5153, 0.0), (5154, 0.0), (5155, 0.10660035817780521), (5156, 0.13363062095621217), (5157, 0.12499999999999997), (5158, 0.0), (5159, 0.0), (5160, 0.0), (5161, 0.0), (5162, 0.0), (5163, 0.0), (5164, 0.21320071635561041), (5165, 0.0), (5166, 0.1178511301977579), (5167, 0.0), (5168, 0.17149858514250882), (5169, 0.0), (5170, 0.0), (5171, 0.09128709291752767), (5172, 0.09128709291752767), (5173, 0.0), (5174, 0.24999999999999994), (5175, 0.0), (5176, 0.28347335475692037), (5177, 0.12499999999999997), (5178, 0.13363062095621217), (5179, 0.12499999999999997), (5180, 0.0), (5181, 0.10660035817780521), (5182, 0.0), (5183, 0.0), (5184, 0.0), (5185, 0.22360679774997896), (5186, 0.12499999999999997), (5187, 0.10206207261596575), (5188, 0.11180339887498948), (5189, 0.0), (5190, 0.11180339887498948), (5191, 0.0), (5192, 0.08111071056538126), (5193, 0.0), (5194, 0.0), (5195, 0.12499999999999997), (5196, 0.273861278752583), (5197, 0.0), (5198, 0.0), (5199, 0.0), (5200, 0.10660035817780521), (5201, 0.0), (5202, 0.10206207261596575), (5203, 0.1178511301977579), (5204, 0.11180339887498948), (5205, 0.08838834764831843), (5206, 0.13363062095621217), (5207, 0.2357022603955158), (5208, 0.0), (5209, 0.1178511301977579), (5210, 0.13363062095621217), (5211, 0.0), (5212, 0.0), (5213, 0.0), (5214, 0.0), (5215, 0.1178511301977579), (5216, 0.0944911182523068), (5217, 0.1889822365046136), (5218, 0.0), (5219, 0.09805806756909201), (5220, 0.21320071635561041), (5221, 0.0), (5222, 0.17677669529663687), (5223, 0.12499999999999997), (5224, 0.0), (5225, 0.0), (5226, 0.24999999999999994), (5227, 0.1178511301977579), (5228, 0.0), (5229, 0.13363062095621217), (5230, 0.25724787771376323), (5231, 0.0), (5232, 0.2041241452319315), (5233, 0.14433756729740646), (5234, 0.1178511301977579), (5235, 0.0), (5236, 0.0), (5237, 0.11180339887498948), (5238, 0.09128709291752767), (5239, 0.1178511301977579), (5240, 0.0944911182523068), (5241, 0.10660035817780521), (5242, 0.0), (5243, 0.0), (5244, 0.0), (5245, 0.0), (5246, 0.0), (5247, 0.22360679774997896), (5248, 0.09805806756909201), (5249, 0.09805806756909201), (5250, 0.09128709291752767), (5251, 0.0), (5252, 0.10206207261596575), (5253, 0.22360679774997896), (5254, 0.10660035817780521), (5255, 0.0), (5256, 0.12499999999999997), (5257, 0.11180339887498948), (5258, 0.0), (5259, 0.0), (5260, 0.0), (5261, 0.0), (5262, 0.0), (5263, 0.22360679774997896), (5264, 0.0), (5265, 0.10206207261596575), (5266, 0.21320071635561041), (5267, 0.24999999999999994), (5268, 0.13363062095621217), (5269, 0.2357022603955158), (5270, 0.0), (5271, 0.13363062095621217), (5272, 0.0), (5273, 0.0), (5274, 0.0), (5275, 0.11180339887498948), (5276, 0.0), (5277, 0.1178511301977579), (5278, 0.0), (5279, 0.0), (5280, 0.0), (5281, 0.0), (5282, 0.22360679774997896), (5283, 0.0), (5284, 0.13363062095621217), (5285, 0.08574929257125441), (5286, 0.0), (5287, 0.14433756729740646), (5288, 0.08838834764831843), (5289, 0.2041241452319315), (5290, 0.22360679774997896), (5291, 0.0), (5292, 0.0), (5293, 0.10660035817780521), (5294, 0.11180339887498948), (5295, 0.0), (5296, 0.0), (5297, 0.0), (5298, 0.1178511301977579), (5299, 0.0), (5300, 0.0944911182523068), (5301, 0.24999999999999994), (5302, 0.0), (5303, 0.0), (5304, 0.12499999999999997), (5305, 0.13363062095621217), (5306, 0.11180339887498948), (5307, 0.0), (5308, 0.0), (5309, 0.0), (5310, 0.2041241452319315), (5311, 0.0), (5312, 0.0), (5313, 0.10206207261596575), (5314, 0.14433756729740646), (5315, 0.11180339887498948), (5316, 0.0), (5317, 0.0), (5318, 0.1178511301977579), (5319, 0.0944911182523068), (5320, 0.10660035817780521), (5321, 0.13363062095621217), (5322, 0.0), (5323, 0.13363062095621217), (5324, 0.2357022603955158), (5325, 0.0), (5326, 0.13363062095621217), (5327, 0.0), (5328, 0.1178511301977579), (5329, 0.0), (5330, 0.12499999999999997), (5331, 0.0), (5332, 0.07905694150420947), (5333, 0.0), (5334, 0.14433756729740646), (5335, 0.24999999999999994), (5336, 0.0), (5337, 0.26726124191242434), (5338, 0.16666666666666666), (5339, 0.0), (5340, 0.0), (5341, 0.0), (5342, 0.22360679774997896), (5343, 0.0), (5344, 0.0), (5345, 0.17149858514250882), (5346, 0.13363062095621217), (5347, 0.1178511301977579), (5348, 0.0), (5349, 0.0), (5350, 0.1178511301977579), (5351, 0.13363062095621217), (5352, 0.09805806756909201), (5353, 0.10660035817780521), (5354, 0.1178511301977579), (5355, 0.21320071635561041), (5356, 0.0), (5357, 0.0), (5358, 0.1178511301977579), (5359, 0.1889822365046136), (5360, 0.0), (5361, 0.1178511301977579), (5362, 0.11180339887498948), (5363, 0.12499999999999997), (5364, 0.0), (5365, 0.17149858514250882), (5366, 0.09805806756909201), (5367, 0.11180339887498948), (5368, 0.24999999999999994), (5369, 0.26726124191242434), (5370, 0.36514837167011066), (5371, 0.294174202707276), (5372, 0.0), (5373, 0.0), (5374, 0.11180339887498948), (5375, 0.10206207261596575), (5376, 0.0), (5377, 0.0), (5378, 0.0), (5379, 0.0), (5380, 0.0), (5381, 0.18257418583505533), (5382, 0.10206207261596575), (5383, 0.08838834764831843), (5384, 0.0), (5385, 0.0), (5386, 0.08838834764831843), (5387, 0.0), (5388, 0.10660035817780521), (5389, 0.1889822365046136), (5390, 0.25), (5391, 0.1178511301977579), (5392, 0.0), (5393, 0.21320071635561041), (5394, 0.10206207261596575), (5395, 0.10660035817780521), (5396, 0.09128709291752767), (5397, 0.13363062095621217), (5398, 0.2041241452319315), (5399, 0.0), (5400, 0.0), (5401, 0.0), (5402, 0.0), (5403, 0.10206207261596575), (5404, 0.0), (5405, 0.12499999999999997), (5406, 0.09805806756909201), (5407, 0.13363062095621217), (5408, 0.0), (5409, 0.0), (5410, 0.1178511301977579), (5411, 0.2357022603955158), (5412, 0.1178511301977579), (5413, 0.12499999999999997), (5414, 0.14433756729740646), (5415, 0.07715167498104596), (5416, 0.1889822365046136), (5417, 0.10206207261596575), (5418, 0.0), (5419, 0.0), (5420, 0.11180339887498948), (5421, 0.1178511301977579), (5422, 0.1889822365046136), (5423, 0.24999999999999994), (5424, 0.22360679774997896), (5425, 0.11180339887498948), (5426, 0.0), (5427, 0.0), (5428, 0.1178511301977579), (5429, 0.12499999999999997), (5430, 0.12499999999999997), (5431, 0.11180339887498948), (5432, 0.2357022603955158), (5433, 0.0), (5434, 0.0), (5435, 0.10660035817780521), (5436, 0.09128709291752767), (5437, 0.10660035817780521), (5438, 0.10660035817780521), (5439, 0.3162277660168379), (5440, 0.13363062095621217), (5441, 0.0), (5442, 0.0), (5443, 0.294174202707276), (5444, 0.0), (5445, 0.0), (5446, 0.0), (5447, 0.0), (5448, 0.14433756729740646), (5449, 0.1178511301977579), (5450, 0.0), (5451, 0.0), (5452, 0.0), (5453, 0.12499999999999997), (5454, 0.08838834764831843), (5455, 0.09805806756909201), (5456, 0.0), (5457, 0.10660035817780521), (5458, 0.2357022603955158), (5459, 0.18257418583505533), (5460, 0.1178511301977579), (5461, 0.0944911182523068), (5462, 0.0), (5463, 0.12499999999999997), (5464, 0.1178511301977579), (5465, 0.0), (5466, 0.26726124191242434), (5467, 0.13363062095621217), (5468, 0.0), (5469, 0.22360679774997896), (5470, 0.10206207261596575), (5471, 0.0), (5472, 0.10660035817780521), (5473, 0.10660035817780521), (5474, 0.0), (5475, 0.0), (5476, 0.0), (5477, 0.0), (5478, 0.0), (5479, 0.1178511301977579), (5480, 0.1178511301977579), (5481, 0.0), (5482, 0.10660035817780521), (5483, 0.09128709291752767), (5484, 0.08574929257125441), (5485, 0.0944911182523068), (5486, 0.21320071635561041), (5487, 0.24999999999999994), (5488, 0.08838834764831843), (5489, 0.2357022603955158), (5490, 0.0), (5491, 0.10660035817780521), (5492, 0.11180339887498948), (5493, 0.0), (5494, 0.24999999999999994), (5495, 0.1889822365046136), (5496, 0.0), (5497, 0.0), (5498, 0.24999999999999994), (5499, 0.0), (5500, 0.0), (5501, 0.13363062095621217), (5502, 0.11180339887498948), (5503, 0.10206207261596575), (5504, 0.10660035817780521), (5505, 0.0), (5506, 0.11180339887498948), (5507, 0.26726124191242434), (5508, 0.0), (5509, 0.13363062095621217), (5510, 0.14433756729740646), (5511, 0.0), (5512, 0.0), (5513, 0.0), (5514, 0.0), (5515, 0.11180339887498948), (5516, 0.24999999999999994), (5517, 0.12499999999999997), (5518, 0.0), (5519, 0.0), (5520, 0.11180339887498948), (5521, 0.11180339887498948), (5522, 0.09805806756909201), (5523, 0.0), (5524, 0.0), (5525, 0.14433756729740646), (5526, 0.0), (5527, 0.0), (5528, 0.14433756729740646), (5529, 0.09805806756909201), (5530, 0.0), (5531, 0.1178511301977579), (5532, 0.1178511301977579), (5533, 0.1178511301977579), (5534, 0.0), (5535, 0.17677669529663687), (5536, 0.0), (5537, 0.12499999999999997), (5538, 0.1178511301977579), (5539, 0.09805806756909201), (5540, 0.3749999999999999), (5541, 0.33541019662496846), (5542, 0.0), (5543, 0.19611613513818402), (5544, 0.13363062095621217), (5545, 0.0), (5546, 0.0), (5547, 0.1889822365046136), (5548, 0.0), (5549, 0.24999999999999994), (5550, 0.14433756729740646), (5551, 0.1178511301977579), (5552, 0.0), (5553, 0.0), (5554, 0.0), (5555, 0.09805806756909201), (5556, 0.11180339887498948), (5557, 0.11180339887498948), (5558, 0.0), (5559, 0.0), (5560, 0.0), (5561, 0.10660035817780521), (5562, 0.11180339887498948), (5563, 0.0), (5564, 0.0), (5565, 0.0), (5566, 0.11180339887498948), (5567, 0.1178511301977579), (5568, 0.2357022603955158), (5569, 0.0), (5570, 0.11180339887498948), (5571, 0.1178511301977579), (5572, 0.10206207261596575), (5573, 0.1178511301977579), (5574, 0.0), (5575, 0.0), (5576, 0.0), (5577, 0.273861278752583), (5578, 0.0), (5579, 0.13363062095621217), (5580, 0.0), (5581, 0.12499999999999997), (5582, 0.1178511301977579), (5583, 0.0), (5584, 0.10660035817780521), (5585, 0.0), (5586, 0.0), (5587, 0.1889822365046136), (5588, 0.12499999999999997), (5589, 0.1178511301977579), (5590, 0.0944911182523068), (5591, 0.14433756729740646), (5592, 0.08838834764831843), (5593, 0.1178511301977579), (5594, 0.1178511301977579), (5595, 0.08574929257125441), (5596, 0.10660035817780521), (5597, 0.0), (5598, 0.0), (5599, 0.0), (5600, 0.0), (5601, 0.11180339887498948), (5602, 0.10660035817780521), (5603, 0.09805806756909201), (5604, 0.0), (5605, 0.11180339887498948), (5606, 0.0), (5607, 0.09805806756909201), (5608, 0.11180339887498948), (5609, 0.1178511301977579), (5610, 0.0), (5611, 0.0), (5612, 0.35355339059327373), (5613, 0.10206207261596575), (5614, 0.0), (5615, 0.12499999999999997), (5616, 0.0), (5617, 0.11180339887498948), (5618, 0.0), (5619, 0.0), (5620, 0.408248290463863), (5621, 0.0), (5622, 0.0), (5623, 0.35355339059327373), (5624, 0.13363062095621217), (5625, 0.0), (5626, 0.10206207261596575), (5627, 0.13363062095621217), (5628, 0.13363062095621217), (5629, 0.0), (5630, 0.0), (5631, 0.14433756729740646), (5632, 0.2357022603955158), (5633, 0.09128709291752767), (5634, 0.12499999999999997), (5635, 0.17677669529663687), (5636, 0.13363062095621217), (5637, 0.0), (5638, 0.0), (5639, 0.0944911182523068), (5640, 0.10660035817780521), (5641, 0.11180339887498948), (5642, 0.09128709291752767), (5643, 0.11180339887498948), (5644, 0.35355339059327373), (5645, 0.0), (5646, 0.1889822365046136), (5647, 0.1178511301977579), (5648, 0.12499999999999997), (5649, 0.10660035817780521), (5650, 0.10206207261596575), (5651, 0.14433756729740646), (5652, 0.24999999999999994), (5653, 0.0), (5654, 0.1178511301977579), (5655, 0.08333333333333333), (5656, 0.2357022603955158), (5657, 0.10206207261596575), (5658, 0.0), (5659, 0.15811388300841894), (5660, 0.0), (5661, 0.0), (5662, 0.22360679774997896), (5663, 0.09805806756909201), (5664, 0.10660035817780521), (5665, 0.0), (5666, 0.0), (5667, 0.1178511301977579), (5668, 0.0), (5669, 0.1178511301977579), (5670, 0.13363062095621217), (5671, 0.0), (5672, 0.2041241452319315), (5673, 0.0), (5674, 0.0), (5675, 0.11180339887498948), (5676, 0.0), (5677, 0.22360679774997896), (5678, 0.12499999999999997), (5679, 0.0944911182523068), (5680, 0.10206207261596575), (5681, 0.0), (5682, 0.0), (5683, 0.10660035817780521), (5684, 0.0), (5685, 0.12499999999999997), (5686, 0.10660035817780521), (5687, 0.11180339887498948), (5688, 0.0944911182523068), (5689, 0.09805806756909201), (5690, 0.13363062095621217), (5691, 0.12499999999999997), (5692, 0.11180339887498948), (5693, 0.11180339887498948), (5694, 0.2041241452319315), (5695, 0.1889822365046136), (5696, 0.0), (5697, 0.0), (5698, 0.08111071056538126), (5699, 0.19611613513818402), (5700, 0.0), (5701, 0.0), (5702, 0.24999999999999994), (5703, 0.1889822365046136), (5704, 0.12499999999999997), (5705, 0.0), (5706, 0.0), (5707, 0.0), (5708, 0.0), (5709, 0.0), (5710, 0.0), (5711, 0.0), (5712, 0.0), (5713, 0.0), (5714, 0.0), (5715, 0.17677669529663687), (5716, 0.0), (5717, 0.10206207261596575), (5718, 0.0), (5719, 0.0), (5720, 0.11180339887498948), (5721, 0.0), (5722, 0.21320071635561041), (5723, 0.0), (5724, 0.0), (5725, 0.0), (5726, 0.16666666666666666), (5727, 0.11180339887498948), (5728, 0.11180339887498948), (5729, 0.0), (5730, 0.2357022603955158), (5731, 0.11180339887498948), (5732, 0.0), (5733, 0.0), (5734, 0.0), (5735, 0.0), (5736, 0.21320071635561041), (5737, 0.0), (5738, 0.10206207261596575), (5739, 0.0), (5740, 0.0), (5741, 0.12499999999999997), (5742, 0.13363062095621217), (5743, 0.0), (5744, 0.0), (5745, 0.12499999999999997), (5746, 0.08838834764831843), (5747, 0.21320071635561041), (5748, 0.11180339887498948), (5749, 0.0), (5750, 0.0944911182523068), (5751, 0.0), (5752, 0.13363062095621217), (5753, 0.13363062095621217), (5754, 0.28347335475692037), (5755, 0.0), (5756, 0.26726124191242434), (5757, 0.10660035817780521), (5758, 0.08838834764831843), (5759, 0.08333333333333333), (5760, 0.26726124191242434), (5761, 0.0), (5762, 0.21320071635561041), (5763, 0.0), (5764, 0.10660035817780521), (5765, 0.12499999999999997), (5766, 0.09805806756909201), (5767, 0.0), (5768, 0.12499999999999997), (5769, 0.12499999999999997), (5770, 0.0), (5771, 0.09805806756909201), (5772, 0.12499999999999997), (5773, 0.0944911182523068), (5774, 0.09805806756909201), (5775, 0.10660035817780521), (5776, 0.12499999999999997), (5777, 0.0), (5778, 0.09805806756909201), (5779, 0.0), (5780, 0.11180339887498948), (5781, 0.21320071635561041), (5782, 0.0), (5783, 0.0), (5784, 0.13363062095621217), (5785, 0.09128709291752767), (5786, 0.11180339887498948), (5787, 0.0), (5788, 0.0), (5789, 0.09805806756909201), (5790, 0.2041241452319315), (5791, 0.19611613513818402), (5792, 0.10660035817780521), (5793, 0.10206207261596575), (5794, 0.11180339887498948), (5795, 0.0), (5796, 0.0), (5797, 0.0), (5798, 0.0), (5799, 0.09805806756909201), (5800, 0.11180339887498948), (5801, 0.14433756729740646), (5802, 0.1543033499620919), (5803, 0.10206207261596575), (5804, 0.15811388300841894), (5805, 0.0), (5806, 0.11180339887498948), (5807, 0.0), (5808, 0.08838834764831843), (5809, 0.18257418583505533), (5810, 0.0), (5811, 0.0), (5812, 0.10206207261596575), (5813, 0.0), (5814, 0.0), (5815, 0.11180339887498948), (5816, 0.0), (5817, 0.0), (5818, 0.26726124191242434), (5819, 0.0), (5820, 0.0), (5821, 0.0), (5822, 0.1178511301977579), (5823, 0.13363062095621217), (5824, 0.09805806756909201), (5825, 0.1178511301977579), (5826, 0.0), (5827, 0.11180339887498948), (5828, 0.10206207261596575), (5829, 0.1178511301977579), (5830, 0.0), (5831, 0.0), (5832, 0.11180339887498948), (5833, 0.12499999999999997), (5834, 0.0), (5835, 0.21320071635561041), (5836, 0.11180339887498948), (5837, 0.0), (5838, 0.0), (5839, 0.0), (5840, 0.2357022603955158), (5841, 0.10206207261596575), (5842, 0.17677669529663687), (5843, 0.0), (5844, 0.0), (5845, 0.10660035817780521), (5846, 0.0), (5847, 0.13363062095621217), (5848, 0.33541019662496846), (5849, 0.13363062095621217), (5850, 0.0), (5851, 0.09805806756909201), (5852, 0.0), (5853, 0.09805806756909201), (5854, 0.0), (5855, 0.0944911182523068), (5856, 0.10660035817780521), (5857, 0.12499999999999997), (5858, 0.0), (5859, 0.12499999999999997), (5860, 0.12499999999999997), (5861, 0.15811388300841894), (5862, 0.12499999999999997), (5863, 0.12499999999999997), (5864, 0.12499999999999997), (5865, 0.09805806756909201), (5866, 0.1178511301977579), (5867, 0.0), (5868, 0.0), (5869, 0.1178511301977579), (5870, 0.0), (5871, 0.0), (5872, 0.1178511301977579), (5873, 0.1178511301977579), (5874, 0.0), (5875, 0.0), (5876, 0.0), (5877, 0.1178511301977579), (5878, 0.1178511301977579), (5879, 0.0), (5880, 0.0), (5881, 0.2041241452319315), (5882, 0.0), (5883, 0.1178511301977579), (5884, 0.0), (5885, 0.0), (5886, 0.0), (5887, 0.13363062095621217), (5888, 0.0), (5889, 0.19611613513818402), (5890, 0.0), (5891, 0.0), (5892, 0.12499999999999997), (5893, 0.0), (5894, 0.0), (5895, 0.19611613513818402), (5896, 0.0), (5897, 0.0), (5898, 0.0), (5899, 0.0), (5900, 0.0), (5901, 0.0), (5902, 0.11180339887498948), (5903, 0.14433756729740646), (5904, 0.0), (5905, 0.12499999999999997), (5906, 0.0), (5907, 0.21320071635561041), (5908, 0.0), (5909, 0.0), (5910, 0.0), (5911, 0.1178511301977579), (5912, 0.12499999999999997), (5913, 0.0), (5914, 0.0), (5915, 0.10660035817780521), (5916, 0.0), (5917, 0.0), (5918, 0.0), (5919, 0.0), (5920, 0.30618621784789724), (5921, 0.0944911182523068), (5922, 0.10660035817780521), (5923, 0.39223227027636803), (5924, 0.1178511301977579), (5925, 0.24999999999999994), (5926, 0.0), (5927, 0.10660035817780521), (5928, 0.2211629342323457), (5929, 0.19611613513818402), (5930, 0.12499999999999997), (5931, 0.0), (5932, 0.0), (5933, 0.0), (5934, 0.1178511301977579), (5935, 0.15811388300841894), (5936, 0.0), (5937, 0.11180339887498948), (5938, 0.10206207261596575), (5939, 0.0), (5940, 0.0), (5941, 0.11180339887498948), (5942, 0.21320071635561041), (5943, 0.0), (5944, 0.08574929257125441), (5945, 0.0), (5946, 0.14433756729740646), (5947, 0.0), (5948, 0.11180339887498948), (5949, 0.10660035817780521), (5950, 0.0), (5951, 0.0), (5952, 0.0), (5953, 0.0), (5954, 0.10206207261596575), (5955, 0.19611613513818402), (5956, 0.10660035817780521), (5957, 0.0), (5958, 0.22360679774997896), (5959, 0.0), (5960, 0.1178511301977579), (5961, 0.0), (5962, 0.0), (5963, 0.0), (5964, 0.12499999999999997), (5965, 0.16222142113076252), (5966, 0.0), (5967, 0.0), (5968, 0.10660035817780521), (5969, 0.0), (5970, 0.0), (5971, 0.12499999999999997), (5972, 0.0), (5973, 0.14433756729740646), (5974, 0.1178511301977579), (5975, 0.35355339059327373), (5976, 0.0), (5977, 0.11180339887498948), (5978, 0.24999999999999994), (5979, 0.12499999999999997), (5980, 0.0), (5981, 0.12499999999999997), (5982, 0.0), (5983, 0.0), (5984, 0.15811388300841894), (5985, 0.11180339887498948), (5986, 0.10660035817780521), (5987, 0.11180339887498948), (5988, 0.0), (5989, 0.0), (5990, 0.0), (5991, 0.0), (5992, 0.0), (5993, 0.0), (5994, 0.09128709291752767), (5995, 0.12499999999999997), (5996, 0.11180339887498948), (5997, 0.0), (5998, 0.0), (5999, 0.0), (6000, 0.11180339887498948), (6001, 0.08333333333333333), (6002, 0.0), (6003, 0.11180339887498948), (6004, 0.11180339887498948), (6005, 0.0), (6006, 0.11180339887498948), (6007, 0.0), (6008, 0.11180339887498948), (6009, 0.0), (6010, 0.15811388300841894), (6011, 0.0), (6012, 0.15811388300841894), (6013, 0.0), (6014, 0.12499999999999997), (6015, 0.14433756729740646), (6016, 0.1178511301977579), (6017, 0.0), (6018, 0.0), (6019, 0.0), (6020, 0.0), (6021, 0.0), (6022, 0.0), (6023, 0.0), (6024, 0.0), (6025, 0.0), (6026, 0.0), (6027, 0.0753778361444409), (6028, 0.12499999999999997), (6029, 0.0), (6030, 0.0), (6031, 0.19611613513818402), (6032, 0.0), (6033, 0.0), (6034, 0.1178511301977579), (6035, 0.21320071635561041), (6036, 0.13363062095621217), (6037, 0.0), (6038, 0.1178511301977579), (6039, 0.19611613513818402), (6040, 0.12499999999999997), (6041, 0.10206207261596575), (6042, 0.19611613513818402), (6043, 0.0944911182523068), (6044, 0.22360679774997896), (6045, 0.2357022603955158), (6046, 0.22360679774997896), (6047, 0.24999999999999994), (6048, 0.26726124191242434), (6049, 0.14433756729740646), (6050, 0.2041241452319315), (6051, 0.2357022603955158), (6052, 0.10660035817780521), (6053, 0.1178511301977579), (6054, 0.09128709291752767), (6055, 0.06565321642986127), (6056, 0.10206207261596575), (6057, 0.1543033499620919), (6058, 0.06454972243679027), (6059, 0.22360679774997896), (6060, 0.2357022603955158), (6061, 0.0), (6062, 0.10660035817780521), (6063, 0.1178511301977579), (6064, 0.30618621784789724), (6065, 0.14433756729740646), (6066, 0.0), (6067, 0.1178511301977579), (6068, 0.0), (6069, 0.0), (6070, 0.0), (6071, 0.0944911182523068), (6072, 0.0), (6073, 0.08574929257125441), (6074, 0.0944911182523068), (6075, 0.0), (6076, 0.1178511301977579), (6077, 0.2357022603955158), (6078, 0.0), (6079, 0.0), (6080, 0.14744195615489714), (6081, 0.0), (6082, 0.10660035817780521), (6083, 0.0), (6084, 0.0), (6085, 0.10660035817780521), (6086, 0.21320071635561041), (6087, 0.12499999999999997), (6088, 0.0), (6089, 0.0944911182523068), (6090, 0.12499999999999997), (6091, 0.0), (6092, 0.0), (6093, 0.12499999999999997), (6094, 0.09805806756909201), (6095, 0.0), (6096, 0.0), (6097, 0.11180339887498948), (6098, 0.0), (6099, 0.12499999999999997), (6100, 0.0), (6101, 0.13363062095621217), (6102, 0.26726124191242434), (6103, 0.2357022603955158), (6104, 0.0), (6105, 0.0), (6106, 0.1178511301977579), (6107, 0.0), (6108, 0.0), (6109, 0.0), (6110, 0.13363062095621217), (6111, 0.0), (6112, 0.0), (6113, 0.11180339887498948), (6114, 0.0), (6115, 0.0), (6116, 0.10660035817780521), (6117, 0.0), (6118, 0.0), (6119, 0.0), (6120, 0.10660035817780521), (6121, 0.0), (6122, 0.0944911182523068), (6123, 0.11180339887498948), (6124, 0.0), (6125, 0.0), (6126, 0.10206207261596575), (6127, 0.0), (6128, 0.0), (6129, 0.0), (6130, 0.21320071635561041), (6131, 0.12499999999999997), (6132, 0.0944911182523068), (6133, 0.11180339887498948), (6134, 0.26726124191242434), (6135, 0.13363062095621217), (6136, 0.1178511301977579), (6137, 0.13363062095621217), (6138, 0.0), (6139, 0.0), (6140, 0.0), (6141, 0.0), (6142, 0.0), (6143, 0.0), (6144, 0.0), (6145, 0.0), (6146, 0.0), (6147, 0.0), (6148, 0.0), (6149, 0.13363062095621217), (6150, 0.10660035817780521), (6151, 0.1178511301977579), (6152, 0.1178511301977579), (6153, 0.1178511301977579), (6154, 0.0), (6155, 0.0), (6156, 0.0), (6157, 0.0), (6158, 0.0), (6159, 0.0), (6160, 0.0), (6161, 0.13363062095621217), (6162, 0.13363062095621217), (6163, 0.0), (6164, 0.0), (6165, 0.13363062095621217), (6166, 0.12499999999999997), (6167, 0.10206207261596575), (6168, 0.10660035817780521), (6169, 0.0), (6170, 0.12499999999999997), (6171, 0.0), (6172, 0.0), (6173, 0.14433756729740646), (6174, 0.10660035817780521), (6175, 0.0), (6176, 0.0), (6177, 0.0), (6178, 0.0), (6179, 0.13363062095621217), (6180, 0.0), (6181, 0.11180339887498948), (6182, 0.09805806756909201), (6183, 0.2357022603955158), (6184, 0.0), (6185, 0.0), (6186, 0.21320071635561041), (6187, 0.14433756729740646), (6188, 0.09805806756909201), (6189, 0.0), (6190, 0.0), (6191, 0.0), (6192, 0.0), (6193, 0.1178511301977579), (6194, 0.10660035817780521), (6195, 0.13363062095621217), (6196, 0.24999999999999994), (6197, 0.3198010745334156), (6198, 0.15811388300841894), (6199, 0.11180339887498948), (6200, 0.09805806756909201), (6201, 0.0), (6202, 0.0), (6203, 0.0), (6204, 0.0), (6205, 0.0), (6206, 0.2041241452319315), (6207, 0.1178511301977579), (6208, 0.0), (6209, 0.0), (6210, 0.09128709291752767), (6211, 0.0), (6212, 0.0), (6213, 0.0), (6214, 0.0), (6215, 0.0), (6216, 0.0), (6217, 0.0), (6218, 0.0), (6219, 0.0), (6220, 0.0), (6221, 0.0), (6222, 0.10206207261596575), (6223, 0.0), (6224, 0.0), (6225, 0.0), (6226, 0.12499999999999997), (6227, 0.2041241452319315), (6228, 0.0), (6229, 0.18257418583505533), (6230, 0.0), (6231, 0.0), (6232, 0.09805806756909201), (6233, 0.0), (6234, 0.11180339887498948), (6235, 0.0944911182523068), (6236, 0.35355339059327373), (6237, 0.0944911182523068), (6238, 0.0), (6239, 0.0), (6240, 0.10206207261596575), (6241, 0.0), (6242, 0.1178511301977579), (6243, 0.18257418583505533), (6244, 0.10660035817780521), (6245, 0.0), (6246, 0.0), (6247, 0.10660035817780521), (6248, 0.0), (6249, 0.0), (6250, 0.13363062095621217), (6251, 0.0), (6252, 0.11180339887498948), (6253, 0.0), (6254, 0.30618621784789724), (6255, 0.0), (6256, 0.08574929257125441), (6257, 0.14433756729740646), (6258, 0.0), (6259, 0.12499999999999997), (6260, 0.0), (6261, 0.0), (6262, 0.0), (6263, 0.0), (6264, 0.3779644730092272), (6265, 0.10660035817780521), (6266, 0.0), (6267, 0.10660035817780521), (6268, 0.0), (6269, 0.0), (6270, 0.0), (6271, 0.0), (6272, 0.2357022603955158), (6273, 0.0), (6274, 0.0), (6275, 0.1178511301977579), (6276, 0.26726124191242434), (6277, 0.0), (6278, 0.12499999999999997), (6279, 0.0), (6280, 0.0), (6281, 0.10660035817780521), (6282, 0.0), (6283, 0.1178511301977579), (6284, 0.0), (6285, 0.0), (6286, 0.17677669529663687), (6287, 0.0), (6288, 0.0), (6289, 0.0), (6290, 0.0), (6291, 0.0), (6292, 0.0), (6293, 0.13363062095621217), (6294, 0.0), (6295, 0.0), (6296, 0.0), (6297, 0.0944911182523068), (6298, 0.0), (6299, 0.11180339887498948), (6300, 0.0), (6301, 0.0), (6302, 0.08333333333333333), (6303, 0.24999999999999994), (6304, 0.13363062095621217), (6305, 0.2041241452319315), (6306, 0.0), (6307, 0.0), (6308, 0.0), (6309, 0.0), (6310, 0.0), (6311, 0.0), (6312, 0.1178511301977579), (6313, 0.0), (6314, 0.11180339887498948), (6315, 0.17149858514250882), (6316, 0.2041241452319315), (6317, 0.0), (6318, 0.0), (6319, 0.0), (6320, 0.0), (6321, 0.10206207261596575), (6322, 0.0), (6323, 0.0), (6324, 0.13363062095621217), (6325, 0.12499999999999997), (6326, 0.19611613513818402), (6327, 0.0), (6328, 0.0), (6329, 0.13363062095621217), (6330, 0.0), (6331, 0.0), (6332, 0.13363062095621217), (6333, 0.15811388300841894), (6334, 0.0), (6335, 0.0), (6336, 0.0), (6337, 0.22360679774997896), (6338, 0.0), (6339, 0.0), (6340, 0.08574929257125441), (6341, 0.0), (6342, 0.33541019662496846), (6343, 0.0), (6344, 0.12499999999999997), (6345, 0.0), (6346, 0.12499999999999997), (6347, 0.0), (6348, 0.22360679774997896), (6349, 0.0), (6350, 0.08574929257125441), (6351, 0.15811388300841894), (6352, 0.0), (6353, 0.0), (6354, 0.10660035817780521), (6355, 0.0), (6356, 0.0944911182523068), (6357, 0.0), (6358, 0.10206207261596575), (6359, 0.08838834764831843), (6360, 0.0), (6361, 0.10660035817780521), (6362, 0.0), (6363, 0.14433756729740646), (6364, 0.11180339887498948), (6365, 0.0), (6366, 0.0), (6367, 0.10206207261596575), (6368, 0.0), (6369, 0.0), (6370, 0.1178511301977579), (6371, 0.0), (6372, 0.0), (6373, 0.0), (6374, 0.0), (6375, 0.19611613513818402), (6376, 0.0), (6377, 0.0), (6378, 0.0), (6379, 0.0), (6380, 0.0), (6381, 0.0), (6382, 0.1178511301977579), (6383, 0.0), (6384, 0.19611613513818402), (6385, 0.10660035817780521), (6386, 0.14433756729740646), (6387, 0.1178511301977579), (6388, 0.0), (6389, 0.19611613513818402), (6390, 0.1386750490563073), (6391, 0.12499999999999997), (6392, 0.0), (6393, 0.0), (6394, 0.0), (6395, 0.0), (6396, 0.11180339887498948), (6397, 0.0), (6398, 0.0), (6399, 0.09128709291752767), (6400, 0.0), (6401, 0.0), (6402, 0.0), (6403, 0.0), (6404, 0.10206207261596575), (6405, 0.14433756729740646), (6406, 0.0), (6407, 0.0), (6408, 0.2357022603955158), (6409, 0.11180339887498948), (6410, 0.0), (6411, 0.0), (6412, 0.0), (6413, 0.10660035817780521), (6414, 0.0), (6415, 0.0), (6416, 0.1178511301977579), (6417, 0.08333333333333333), (6418, 0.0), (6419, 0.28347335475692037), (6420, 0.2357022603955158), (6421, 0.0), (6422, 0.0), (6423, 0.12499999999999997), (6424, 0.0), (6425, 0.0), (6426, 0.0), (6427, 0.12499999999999997), (6428, 0.19611613513818402), (6429, 0.0), (6430, 0.0), (6431, 0.0), (6432, 0.0), (6433, 0.2041241452319315), (6434, 0.14433756729740646), (6435, 0.273861278752583), (6436, 0.1178511301977579), (6437, 0.12499999999999997), (6438, 0.0), (6439, 0.0), (6440, 0.0), (6441, 0.0), (6442, 0.0), (6443, 0.0), (6444, 0.0), (6445, 0.0), (6446, 0.0944911182523068), (6447, 0.12499999999999997), (6448, 0.0), (6449, 0.12499999999999997), (6450, 0.21320071635561041), (6451, 0.26726124191242434), (6452, 0.08838834764831843), (6453, 0.0), (6454, 0.09805806756909201), (6455, 0.0), (6456, 0.09805806756909201), (6457, 0.1178511301977579), (6458, 0.0), (6459, 0.0), (6460, 0.09128709291752767), (6461, 0.0), (6462, 0.0), (6463, 0.0), (6464, 0.0), (6465, 0.15811388300841894), (6466, 0.0), (6467, 0.12499999999999997), (6468, 0.0), (6469, 0.12499999999999997), (6470, 0.12499999999999997), (6471, 0.0), (6472, 0.1178511301977579), (6473, 0.10206207261596575), (6474, 0.0944911182523068), (6475, 0.0), (6476, 0.0), (6477, 0.0), (6478, 0.0), (6479, 0.21320071635561041), (6480, 0.0), (6481, 0.09805806756909201), (6482, 0.0), (6483, 0.1178511301977579), (6484, 0.14433756729740646), (6485, 0.0944911182523068), (6486, 0.10660035817780521), (6487, 0.09128709291752767), (6488, 0.10660035817780521), (6489, 0.12499999999999997), (6490, 0.0), (6491, 0.0944911182523068), (6492, 0.0), (6493, 0.09128709291752767), (6494, 0.1178511301977579), (6495, 0.0), (6496, 0.0), (6497, 0.0), (6498, 0.0), (6499, 0.0), (6500, 0.12499999999999997), (6501, 0.11180339887498948), (6502, 0.1178511301977579), (6503, 0.1178511301977579), (6504, 0.0), (6505, 0.21320071635561041), (6506, 0.2651650429449553), (6507, 0.0), (6508, 0.0), (6509, 0.0), (6510, 0.08838834764831843), (6511, 0.0), (6512, 0.0), (6513, 0.0), (6514, 0.0), (6515, 0.10660035817780521), (6516, 0.0), (6517, 0.0), (6518, 0.11180339887498948), (6519, 0.0), (6520, 0.13363062095621217), (6521, 0.0), (6522, 0.13363062095621217), (6523, 0.0), (6524, 0.0), (6525, 0.14433756729740646), (6526, 0.24999999999999994), (6527, 0.11180339887498948), (6528, 0.0), (6529, 0.0), (6530, 0.0), (6531, 0.12499999999999997), (6532, 0.0), (6533, 0.0), (6534, 0.0), (6535, 0.0), (6536, 0.0), (6537, 0.12499999999999997), (6538, 0.11180339887498948), (6539, 0.0), (6540, 0.09128709291752767), (6541, 0.0), (6542, 0.0), (6543, 0.0), (6544, 0.0), (6545, 0.0), (6546, 0.0), (6547, 0.0), (6548, 0.11180339887498948), (6549, 0.0), (6550, 0.0), (6551, 0.0), (6552, 0.0), (6553, 0.12499999999999997), (6554, 0.0), (6555, 0.25724787771376323), (6556, 0.0), (6557, 0.0), (6558, 0.15811388300841894), (6559, 0.0), (6560, 0.0), (6561, 0.09128709291752767), (6562, 0.0), (6563, 0.10206207261596575), (6564, 0.11180339887498948), (6565, 0.0), (6566, 0.0), (6567, 0.0), (6568, 0.0), (6569, 0.0), (6570, 0.0), (6571, 0.0), (6572, 0.0), (6573, 0.0), (6574, 0.0), (6575, 0.0), (6576, 0.0), (6577, 0.0), (6578, 0.0), (6579, 0.09128709291752767), (6580, 0.10660035817780521), (6581, 0.13363062095621217), (6582, 0.0), (6583, 0.0), (6584, 0.10206207261596575), (6585, 0.1889822365046136), (6586, 0.13363062095621217), (6587, 0.0), (6588, 0.0), (6589, 0.0), (6590, 0.0), (6591, 0.0), (6592, 0.10206207261596575), (6593, 0.26726124191242434), (6594, 0.0), (6595, 0.0944911182523068), (6596, 0.08574929257125441), (6597, 0.0), (6598, 0.0), (6599, 0.0), (6600, 0.0), (6601, 0.22360679774997896), (6602, 0.07905694150420947), (6603, 0.0), (6604, 0.1178511301977579), (6605, 0.0), (6606, 0.13363062095621217), (6607, 0.0), (6608, 0.0), (6609, 0.0), (6610, 0.10206207261596575), (6611, 0.13363062095621217), (6612, 0.08333333333333333), (6613, 0.0), (6614, 0.0), (6615, 0.0), (6616, 0.0), (6617, 0.0), (6618, 0.0), (6619, 0.0), (6620, 0.0), (6621, 0.10660035817780521), (6622, 0.0), (6623, 0.09128709291752767), (6624, 0.0), (6625, 0.0), (6626, 0.10660035817780521), (6627, 0.0), (6628, 0.11180339887498948), (6629, 0.14433756729740646), (6630, 0.0), (6631, 0.10206207261596575), (6632, 0.0), (6633, 0.0), (6634, 0.11180339887498948), (6635, 0.0), (6636, 0.0), (6637, 0.0), (6638, 0.2357022603955158), (6639, 0.2357022603955158), (6640, 0.0), (6641, 0.0), (6642, 0.0), (6643, 0.13363062095621217), (6644, 0.0), (6645, 0.0), (6646, 0.0), (6647, 0.15811388300841894), (6648, 0.0), (6649, 0.10660035817780521), (6650, 0.10660035817780521), (6651, 0.13363062095621217), (6652, 0.11180339887498948), (6653, 0.2357022603955158), (6654, 0.0), (6655, 0.0), (6656, 0.1178511301977579), (6657, 0.0), (6658, 0.14433756729740646), (6659, 0.0), (6660, 0.0), (6661, 0.0), (6662, 0.0), (6663, 0.0), (6664, 0.10206207261596575), (6665, 0.12499999999999997), (6666, 0.13363062095621217), (6667, 0.10660035817780521), (6668, 0.0), (6669, 0.0), (6670, 0.0), (6671, 0.0), (6672, 0.09805806756909201), (6673, 0.19611613513818402), (6674, 0.0944911182523068), (6675, 0.0), (6676, 0.14433756729740646), (6677, 0.273861278752583), (6678, 0.12499999999999997), (6679, 0.0), (6680, 0.0), (6681, 0.0), (6682, 0.11180339887498948), (6683, 0.0), (6684, 0.0), (6685, 0.1178511301977579), (6686, 0.0), (6687, 0.0), (6688, 0.0), (6689, 0.0), (6690, 0.0), (6691, 0.0), (6692, 0.0), (6693, 0.0), (6694, 0.0), (6695, 0.0), (6696, 0.0), (6697, 0.0), (6698, 0.09805806756909201), (6699, 0.0), (6700, 0.10206207261596575), (6701, 0.14433756729740646), (6702, 0.0), (6703, 0.294174202707276), (6704, 0.0), (6705, 0.0), (6706, 0.0), (6707, 0.0), (6708, 0.0), (6709, 0.30618621784789724), (6710, 0.0), (6711, 0.0), (6712, 0.0), (6713, 0.0), (6714, 0.0), (6715, 0.13363062095621217), (6716, 0.0), (6717, 0.0), (6718, 0.0), (6719, 0.1178511301977579), (6720, 0.0), (6721, 0.0), (6722, 0.21320071635561041), (6723, 0.08574929257125441), (6724, 0.09805806756909201), (6725, 0.0), (6726, 0.0), (6727, 0.0), (6728, 0.0), (6729, 0.0), (6730, 0.10660035817780521), (6731, 0.10660035817780521), (6732, 0.0), (6733, 0.0), (6734, 0.0), (6735, 0.0), (6736, 0.0), (6737, 0.26726124191242434), (6738, 0.0), (6739, 0.0), (6740, 0.24999999999999994), (6741, 0.0), (6742, 0.0), (6743, 0.11180339887498948), (6744, 0.0), (6745, 0.1178511301977579), (6746, 0.0), (6747, 0.0), (6748, 0.11180339887498948), (6749, 0.0), (6750, 0.0), (6751, 0.10660035817780521), (6752, 0.14433756729740646), (6753, 0.0), (6754, 0.15811388300841894), (6755, 0.0), (6756, 0.0), (6757, 0.0), (6758, 0.0), (6759, 0.0), (6760, 0.0), (6761, 0.09128709291752767), (6762, 0.0), (6763, 0.0), (6764, 0.21320071635561041), (6765, 0.0), (6766, 0.13363062095621217), (6767, 0.0), (6768, 0.0), (6769, 0.13363062095621217), (6770, 0.0), (6771, 0.0), (6772, 0.0), (6773, 0.13363062095621217), (6774, 0.0), (6775, 0.0), (6776, 0.0), (6777, 0.0), (6778, 0.0), (6779, 0.0), (6780, 0.09805806756909201), (6781, 0.10206207261596575), (6782, 0.0), (6783, 0.0), (6784, 0.0), (6785, 0.0), (6786, 0.0), (6787, 0.0), (6788, 0.2357022603955158), (6789, 0.11180339887498948), (6790, 0.0), (6791, 0.0), (6792, 0.0), (6793, 0.22360679774997896), (6794, 0.0), (6795, 0.12499999999999997), (6796, 0.0), (6797, 0.0), (6798, 0.0), (6799, 0.0), (6800, 0.2886751345948129), (6801, 0.0), (6802, 0.0), (6803, 0.10660035817780521), (6804, 0.22360679774997896), (6805, 0.09805806756909201), (6806, 0.18257418583505533), (6807, 0.0), (6808, 0.1178511301977579), (6809, 0.0), (6810, 0.0), (6811, 0.0), (6812, 0.13363062095621217), (6813, 0.0), (6814, 0.22360679774997896), (6815, 0.0), (6816, 0.0), (6817, 0.14433756729740646), (6818, 0.0), (6819, 0.11180339887498948), (6820, 0.0), (6821, 0.0), (6822, 0.0), (6823, 0.2041241452319315), (6824, 0.0), (6825, 0.09805806756909201), (6826, 0.0), (6827, 0.1178511301977579), (6828, 0.0), (6829, 0.0), (6830, 0.0), (6831, 0.0), (6832, 0.0), (6833, 0.1178511301977579), (6834, 0.0), (6835, 0.11180339887498948), (6836, 0.0), (6837, 0.0), (6838, 0.13363062095621217), (6839, 0.09805806756909201), (6840, 0.0), (6841, 0.11180339887498948), (6842, 0.0), (6843, 0.0), (6844, 0.0), (6845, 0.0), (6846, 0.11180339887498948), (6847, 0.0), (6848, 0.0), (6849, 0.0), (6850, 0.40089186286863654), (6851, 0.0), (6852, 0.1178511301977579), (6853, 0.0), (6854, 0.0), (6855, 0.1178511301977579), (6856, 0.15811388300841894), (6857, 0.0), (6858, 0.12499999999999997), (6859, 0.11180339887498948), (6860, 0.0), (6861, 0.12499999999999997), (6862, 0.0), (6863, 0.0), (6864, 0.0), (6865, 0.0), (6866, 0.0), (6867, 0.0), (6868, 0.14433756729740646), (6869, 0.0), (6870, 0.0), (6871, 0.0), (6872, 0.0), (6873, 0.0), (6874, 0.11180339887498948), (6875, 0.0), (6876, 0.0), (6877, 0.0), (6878, 0.10206207261596575), (6879, 0.12499999999999997), (6880, 0.0), (6881, 0.0), (6882, 0.0), (6883, 0.0), (6884, 0.14433756729740646), (6885, 0.0), (6886, 0.0), (6887, 0.0), (6888, 0.14433756729740646), (6889, 0.0), (6890, 0.0), (6891, 0.0), (6892, 0.22360679774997896), (6893, 0.0), (6894, 0.0), (6895, 0.1178511301977579), (6896, 0.0), (6897, 0.0), (6898, 0.0), (6899, 0.0), (6900, 0.0), (6901, 0.0), (6902, 0.0), (6903, 0.0), (6904, 0.0), (6905, 0.0), (6906, 0.0), (6907, 0.0), (6908, 0.13363062095621217), (6909, 0.0), (6910, 0.0), (6911, 0.0), (6912, 0.0), (6913, 0.0), (6914, 0.10660035817780521), (6915, 0.0), (6916, 0.0), (6917, 0.0), (6918, 0.0), (6919, 0.0), (6920, 0.0), (6921, 0.0), (6922, 0.0), (6923, 0.0), (6924, 0.0), (6925, 0.0), (6926, 0.0), (6927, 0.0), (6928, 0.0), (6929, 0.0), (6930, 0.0), (6931, 0.0), (6932, 0.0), (6933, 0.18257418583505533), (6934, 0.11180339887498948), (6935, 0.0), (6936, 0.08838834764831843), (6937, 0.0), (6938, 0.0), (6939, 0.11180339887498948), (6940, 0.0), (6941, 0.13363062095621217), (6942, 0.0), (6943, 0.15811388300841894), (6944, 0.0), (6945, 0.12499999999999997), (6946, 0.0), (6947, 0.10660035817780521), (6948, 0.0), (6949, 0.0), (6950, 0.0), (6951, 0.0), (6952, 0.0), (6953, 0.0), (6954, 0.14433756729740646), (6955, 0.0), (6956, 0.0), (6957, 0.09805806756909201), (6958, 0.0), (6959, 0.0), (6960, 0.0), (6961, 0.12499999999999997), (6962, 0.0), (6963, 0.10660035817780521), (6964, 0.10206207261596575), (6965, 0.0), (6966, 0.0), (6967, 0.0), (6968, 0.0), (6969, 0.0), (6970, 0.0), (6971, 0.13363062095621217), (6972, 0.1178511301977579), (6973, 0.0), (6974, 0.0), (6975, 0.0), (6976, 0.21320071635561041), (6977, 0.0), (6978, 0.0), (6979, 0.0), (6980, 0.0), (6981, 0.0), (6982, 0.0), (6983, 0.0), (6984, 0.0), (6985, 0.0), (6986, 0.0944911182523068), (6987, 0.0), (6988, 0.0), (6989, 0.09805806756909201), (6990, 0.0), (6991, 0.11180339887498948), (6992, 0.1178511301977579), (6993, 0.0), (6994, 0.0), (6995, 0.0), (6996, 0.0), (6997, 0.0), (6998, 0.0), (6999, 0.0), (7000, 0.0), (7001, 0.0), (7002, 0.1178511301977579), (7003, 0.0), (7004, 0.10206207261596575), (7005, 0.0), (7006, 0.0), (7007, 0.0), (7008, 0.14433756729740646), (7009, 0.0), (7010, 0.0), (7011, 0.11180339887498948), (7012, 0.10206207261596575), (7013, 0.0), (7014, 0.1178511301977579), (7015, 0.10660035817780521), (7016, 0.1178511301977579), (7017, 0.0), (7018, 0.0), (7019, 0.0), (7020, 0.12499999999999997), (7021, 0.0), (7022, 0.0), (7023, 0.2041241452319315), (7024, 0.0), (7025, 0.0), (7026, 0.0), (7027, 0.0), (7028, 0.0), (7029, 0.0), (7030, 0.0), (7031, 0.0), (7032, 0.0), (7033, 0.0), (7034, 0.0), (7035, 0.0), (7036, 0.13363062095621217), (7037, 0.0), (7038, 0.0), (7039, 0.0), (7040, 0.0), (7041, 0.0), (7042, 0.0), (7043, 0.0), (7044, 0.0), (7045, 0.13363062095621217), (7046, 0.17677669529663687), (7047, 0.0), (7048, 0.0), (7049, 0.09805806756909201), (7050, 0.0), (7051, 0.0), (7052, 0.0), (7053, 0.14433756729740646), (7054, 0.12499999999999997), (7055, 0.12499999999999997), (7056, 0.14433756729740646), (7057, 0.14433756729740646), (7058, 0.0), (7059, 0.11180339887498948), (7060, 0.0), (7061, 0.12499999999999997), (7062, 0.0), (7063, 0.0), (7064, 0.10660035817780521), (7065, 0.08574929257125441), (7066, 0.0), (7067, 0.0), (7068, 0.10660035817780521), (7069, 0.0), (7070, 0.0), (7071, 0.18257418583505533), (7072, 0.21320071635561041), (7073, 0.26726124191242434), (7074, 0.0), (7075, 0.13363062095621217), (7076, 0.0), (7077, 0.0), (7078, 0.0), (7079, 0.0), (7080, 0.0), (7081, 0.0), (7082, 0.0), (7083, 0.13363062095621217), (7084, 0.0), (7085, 0.0), (7086, 0.0), (7087, 0.0), (7088, 0.0), (7089, 0.0), (7090, 0.11180339887498948), (7091, 0.0), (7092, 0.11180339887498948), (7093, 0.3198010745334156), (7094, 0.0), (7095, 0.0), (7096, 0.0), (7097, 0.0), (7098, 0.0), (7099, 0.0), (7100, 0.0), (7101, 0.11180339887498948), (7102, 0.0), (7103, 0.0), (7104, 0.0), (7105, 0.0), (7106, 0.2357022603955158), (7107, 0.12499999999999997), (7108, 0.0), (7109, 0.0), (7110, 0.0), (7111, 0.13363062095621217), (7112, 0.11180339887498948), (7113, 0.09128709291752767), (7114, 0.0), (7115, 0.1178511301977579), (7116, 0.0), (7117, 0.2357022603955158), (7118, 0.2357022603955158), (7119, 0.3086066999241838), (7120, 0.0), (7121, 0.1178511301977579), (7122, 0.13363062095621217), (7123, 0.0), (7124, 0.0), (7125, 0.19611613513818402), (7126, 0.0), (7127, 0.0), (7128, 0.0), (7129, 0.0), (7130, 0.0), (7131, 0.0), (7132, 0.0), (7133, 0.0), (7134, 0.0), (7135, 0.0), (7136, 0.0), (7137, 0.0), (7138, 0.0), (7139, 0.11180339887498948), (7140, 0.0), (7141, 0.0), (7142, 0.0), (7143, 0.0), (7144, 0.0), (7145, 0.0), (7146, 0.0), (7147, 0.0), (7148, 0.11180339887498948), (7149, 0.0), (7150, 0.0), (7151, 0.0), (7152, 0.0), (7153, 0.0), (7154, 0.0), (7155, 0.0), (7156, 0.22360679774997896), (7157, 0.0), (7158, 0.0), (7159, 0.10206207261596575), (7160, 0.0), (7161, 0.0), (7162, 0.0), (7163, 0.0), (7164, 0.0), (7165, 0.12499999999999997), (7166, 0.13363062095621217), (7167, 0.2357022603955158), (7168, 0.0), (7169, 0.0), (7170, 0.0), (7171, 0.0), (7172, 0.0), (7173, 0.0), (7174, 0.0), (7175, 0.0), (7176, 0.0), (7177, 0.19611613513818402), (7178, 0.0), (7179, 0.0), (7180, 0.13363062095621217), (7181, 0.0), (7182, 0.0), (7183, 0.0), (7184, 0.0), (7185, 0.0), (7186, 0.11180339887498948), (7187, 0.0), (7188, 0.0), (7189, 0.0), (7190, 0.0), (7191, 0.0), (7192, 0.14433756729740646), (7193, 0.0944911182523068), (7194, 0.14744195615489714), (7195, 0.10206207261596575), (7196, 0.0), (7197, 0.0), (7198, 0.0), (7199, 0.0), (7200, 0.0), (7201, 0.12499999999999997), (7202, 0.0944911182523068), (7203, 0.0), (7204, 0.0), (7205, 0.0), (7206, 0.13363062095621217), (7207, 0.0), (7208, 0.0), (7209, 0.0), (7210, 0.0), (7211, 0.0), (7212, 0.0), (7213, 0.0), (7214, 0.0), (7215, 0.0), (7216, 0.0), (7217, 0.0), (7218, 0.0), (7219, 0.10660035817780521), (7220, 0.1178511301977579), (7221, 0.0), (7222, 0.0), (7223, 0.1178511301977579), (7224, 0.0), (7225, 0.0), (7226, 0.15811388300841894), (7227, 0.0), (7228, 0.2041241452319315), (7229, 0.10660035817780521), (7230, 0.0), (7231, 0.12499999999999997), (7232, 0.0), (7233, 0.0), (7234, 0.2357022603955158), (7235, 0.0), (7236, 0.0), (7237, 0.0), (7238, 0.13363062095621217), (7239, 0.1178511301977579), (7240, 0.2357022603955158), (7241, 0.0), (7242, 0.0), (7243, 0.0), (7244, 0.35355339059327373), (7245, 0.10660035817780521), (7246, 0.0), (7247, 0.0), (7248, 0.0), (7249, 0.0), (7250, 0.0), (7251, 0.0), (7252, 0.0), (7253, 0.0), (7254, 0.0), (7255, 0.0), (7256, 0.0), (7257, 0.0), (7258, 0.0), (7259, 0.0), (7260, 0.10206207261596575), (7261, 0.11180339887498948), (7262, 0.0), (7263, 0.11180339887498948), (7264, 0.0), (7265, 0.15811388300841894), (7266, 0.0), (7267, 0.0), (7268, 0.0), (7269, 0.0), (7270, 0.0), (7271, 0.0), (7272, 0.10206207261596575), (7273, 0.0), (7274, 0.0), (7275, 0.0), (7276, 0.0), (7277, 0.0), (7278, 0.17149858514250882), (7279, 0.0), (7280, 0.0), (7281, 0.17677669529663687), (7282, 0.0), (7283, 0.0), (7284, 0.0), (7285, 0.1178511301977579), (7286, 0.0), (7287, 0.0), (7288, 0.0), (7289, 0.0), (7290, 0.17677669529663687), (7291, 0.0), (7292, 0.0), (7293, 0.0), (7294, 0.0), (7295, 0.0), (7296, 0.0), (7297, 0.0), (7298, 0.0), (7299, 0.0), (7300, 0.0), (7301, 0.0), (7302, 0.0), (7303, 0.0), (7304, 0.11180339887498948), (7305, 0.0), (7306, 0.0), (7307, 0.0), (7308, 0.0), (7309, 0.24999999999999994), (7310, 0.0), (7311, 0.0), (7312, 0.0), (7313, 0.0), (7314, 0.0), (7315, 0.0), (7316, 0.0), (7317, 0.0), (7318, 0.0), (7319, 0.0), (7320, 0.0), (7321, 0.0), (7322, 0.0), (7323, 0.0), (7324, 0.0), (7325, 0.0), (7326, 0.0), (7327, 0.0), (7328, 0.0), (7329, 0.0), (7330, 0.0), (7331, 0.0), (7332, 0.0), (7333, 0.0), (7334, 0.0), (7335, 0.0), (7336, 0.0), (7337, 0.0), (7338, 0.0), (7339, 0.14433756729740646), (7340, 0.0), (7341, 0.0), (7342, 0.26726124191242434), (7343, 0.30618621784789724), (7344, 0.0), (7345, 0.08111071056538126), (7346, 0.0), (7347, 0.0), (7348, 0.0), (7349, 0.0), (7350, 0.21320071635561041), (7351, 0.0), (7352, 0.0), (7353, 0.0), (7354, 0.26726124191242434), (7355, 0.09128709291752767), (7356, 0.0), (7357, 0.0), (7358, 0.0), (7359, 0.1178511301977579), (7360, 0.0), (7361, 0.1178511301977579), (7362, 0.0), (7363, 0.0), (7364, 0.0), (7365, 0.0), (7366, 0.0), (7367, 0.0), (7368, 0.0), (7369, 0.0), (7370, 0.0), (7371, 0.15811388300841894), (7372, 0.0), (7373, 0.14433756729740646), (7374, 0.0), (7375, 0.1178511301977579), (7376, 0.1178511301977579), (7377, 0.21320071635561041), (7378, 0.0), (7379, 0.0), (7380, 0.0), (7381, 0.0), (7382, 0.0), (7383, 0.0), (7384, 0.0), (7385, 0.0), (7386, 0.0), (7387, 0.0), (7388, 0.22360679774997896), (7389, 0.0), (7390, 0.0), (7391, 0.0), (7392, 0.10660035817780521), (7393, 0.21320071635561041), (7394, 0.1178511301977579), (7395, 0.0), (7396, 0.0), (7397, 0.0), (7398, 0.0), (7399, 0.0), (7400, 0.0), (7401, 0.0), (7402, 0.0), (7403, 0.0), (7404, 0.0), (7405, 0.0), (7406, 0.24999999999999994), (7407, 0.0), (7408, 0.0), (7409, 0.15811388300841894), (7410, 0.0), (7411, 0.0), (7412, 0.0), (7413, 0.0), (7414, 0.0), (7415, 0.0), (7416, 0.0), (7417, 0.0), (7418, 0.0), (7419, 0.0), (7420, 0.0), (7421, 0.10206207261596575), (7422, 0.0), (7423, 0.0), (7424, 0.10660035817780521), (7425, 0.0), (7426, 0.0), (7427, 0.0), (7428, 0.0), (7429, 0.0), (7430, 0.0), (7431, 0.0), (7432, 0.0), (7433, 0.0), (7434, 0.0), (7435, 0.0), (7436, 0.0), (7437, 0.0), (7438, 0.1178511301977579), (7439, 0.11180339887498948), (7440, 0.0), (7441, 0.12499999999999997), (7442, 0.0), (7443, 0.08838834764831843), (7444, 0.1178511301977579), (7445, 0.11180339887498948), (7446, 0.14433756729740646), (7447, 0.12499999999999997), (7448, 0.10206207261596575), (7449, 0.1178511301977579), (7450, 0.1178511301977579), (7451, 0.24999999999999994), (7452, 0.2886751345948129), (7453, 0.0), (7454, 0.0), (7455, 0.0), (7456, 0.0), (7457, 0.0), (7458, 0.0), (7459, 0.12499999999999997), (7460, 0.0), (7461, 0.0), (7462, 0.0), (7463, 0.0), (7464, 0.24999999999999994), (7465, 0.0), (7466, 0.0), (7467, 0.0), (7468, 0.0), (7469, 0.11180339887498948), (7470, 0.0), (7471, 0.0), (7472, 0.0), (7473, 0.0), (7474, 0.0), (7475, 0.0), (7476, 0.0), (7477, 0.0), (7478, 0.0), (7479, 0.1178511301977579), (7480, 0.0), (7481, 0.0), (7482, 0.0), (7483, 0.0), (7484, 0.1178511301977579), (7485, 0.0), (7486, 0.0), (7487, 0.0), (7488, 0.0), (7489, 0.0), (7490, 0.0), (7491, 0.0944911182523068), (7492, 0.0), (7493, 0.0), (7494, 0.14433756729740646), (7495, 0.0), (7496, 0.0), (7497, 0.0), (7498, 0.0), (7499, 0.11180339887498948), (7500, 0.0), (7501, 0.0), (7502, 0.0), (7503, 0.0), (7504, 0.0), (7505, 0.0), (7506, 0.0), (7507, 0.0), (7508, 0.0), (7509, 0.0), (7510, 0.0), (7511, 0.0), (7512, 0.1178511301977579), (7513, 0.0), (7514, 0.0), (7515, 0.0), (7516, 0.0), (7517, 0.0), (7518, 0.0), (7519, 0.0), (7520, 0.15811388300841894), (7521, 0.0), (7522, 0.0), (7523, 0.21320071635561041), (7524, 0.0), (7525, 0.0), (7526, 0.0), (7527, 0.0), (7528, 0.26726124191242434), (7529, 0.0), (7530, 0.0), (7531, 0.0), (7532, 0.10660035817780521), (7533, 0.0), (7534, 0.0), (7535, 0.0), (7536, 0.08838834764831843), (7537, 0.0), (7538, 0.0), (7539, 0.0), (7540, 0.0), (7541, 0.0), (7542, 0.10206207261596575), (7543, 0.0), (7544, 0.0), (7545, 0.0), (7546, 0.0), (7547, 0.0), (7548, 0.0), (7549, 0.0), (7550, 0.0), (7551, 0.0), (7552, 0.0), (7553, 0.0), (7554, 0.0), (7555, 0.0), (7556, 0.0), (7557, 0.0), (7558, 0.0), (7559, 0.0), (7560, 0.0), (7561, 0.14433756729740646), (7562, 0.15811388300841894), (7563, 0.0), (7564, 0.0), (7565, 0.0), (7566, 0.0), (7567, 0.0), (7568, 0.0944911182523068), (7569, 0.0), (7570, 0.0), (7571, 0.0), (7572, 0.12499999999999997), (7573, 0.0), (7574, 0.0), (7575, 0.0), (7576, 0.0), (7577, 0.0), (7578, 0.0), (7579, 0.1178511301977579), (7580, 0.13363062095621217), (7581, 0.0), (7582, 0.0), (7583, 0.0), (7584, 0.0), (7585, 0.0), (7586, 0.0), (7587, 0.0), (7588, 0.13363062095621217), (7589, 0.0), (7590, 0.0), (7591, 0.0), (7592, 0.0), (7593, 0.0), (7594, 0.0), (7595, 0.0), (7596, 0.0), (7597, 0.1178511301977579), (7598, 0.0), (7599, 0.0), (7600, 0.0), (7601, 0.0), (7602, 0.0), (7603, 0.0), (7604, 0.0), (7605, 0.12499999999999997), (7606, 0.0), (7607, 0.0), (7608, 0.0), (7609, 0.0), (7610, 0.0), (7611, 0.0), (7612, 0.0), (7613, 0.0), (7614, 0.0), (7615, 0.0), (7616, 0.0), (7617, 0.13363062095621217), (7618, 0.0), (7619, 0.0), (7620, 0.0), (7621, 0.0), (7622, 0.14433756729740646), (7623, 0.0), (7624, 0.10206207261596575), (7625, 0.0), (7626, 0.17677669529663687), (7627, 0.0), (7628, 0.0), (7629, 0.0), (7630, 0.0), (7631, 0.0), (7632, 0.13363062095621217), (7633, 0.0), (7634, 0.0), (7635, 0.09805806756909201), (7636, 0.0), (7637, 0.0), (7638, 0.0), (7639, 0.14433756729740646), (7640, 0.0), (7641, 0.0), (7642, 0.0), (7643, 0.0), (7644, 0.0), (7645, 0.0), (7646, 0.0), (7647, 0.0), (7648, 0.0), (7649, 0.0), (7650, 0.0), (7651, 0.0), (7652, 0.0), (7653, 0.0), (7654, 0.0), (7655, 0.12499999999999997), (7656, 0.0), (7657, 0.0), (7658, 0.0), (7659, 0.1178511301977579), (7660, 0.0), (7661, 0.0), (7662, 0.0), (7663, 0.0), (7664, 0.0), (7665, 0.0), (7666, 0.0), (7667, 0.0), (7668, 0.0), (7669, 0.0), (7670, 0.0), (7671, 0.0), (7672, 0.0), (7673, 0.0), (7674, 0.0), (7675, 0.0), (7676, 0.0), (7677, 0.1178511301977579), (7678, 0.0), (7679, 0.0), (7680, 0.0), (7681, 0.12499999999999997), (7682, 0.0), (7683, 0.12499999999999997), (7684, 0.0), (7685, 0.0), (7686, 0.09805806756909201), (7687, 0.0), (7688, 0.0), (7689, 0.0), (7690, 0.0), (7691, 0.0), (7692, 0.0), (7693, 0.0), (7694, 0.10206207261596575), (7695, 0.0), (7696, 0.0), (7697, 0.0), (7698, 0.0), (7699, 0.0), (7700, 0.0), (7701, 0.0), (7702, 0.0), (7703, 0.0), (7704, 0.0), (7705, 0.15811388300841894), (7706, 0.0), (7707, 0.0), (7708, 0.0), (7709, 0.0), (7710, 0.0), (7711, 0.0), (7712, 0.0), (7713, 0.0), (7714, 0.0), (7715, 0.0), (7716, 0.0), (7717, 0.0), (7718, 0.0), (7719, 0.0), (7720, 0.0), (7721, 0.0), (7722, 0.0), (7723, 0.0), (7724, 0.0), (7725, 0.0), (7726, 0.0), (7727, 0.0), (7728, 0.0), (7729, 0.0), (7730, 0.0), (7731, 0.0), (7732, 0.0), (7733, 0.0), (7734, 0.0), (7735, 0.0), (7736, 0.0), (7737, 0.0), (7738, 0.0), (7739, 0.0), (7740, 0.0), (7741, 0.0), (7742, 0.0), (7743, 0.13363062095621217), (7744, 0.0944911182523068), (7745, 0.0), (7746, 0.0), (7747, 0.0), (7748, 0.0), (7749, 0.0), (7750, 0.0), (7751, 0.0), (7752, 0.0), (7753, 0.0), (7754, 0.0), (7755, 0.0), (7756, 0.0), (7757, 0.0), (7758, 0.0), (7759, 0.0), (7760, 0.0), (7761, 0.0), (7762, 0.1178511301977579), (7763, 0.0), (7764, 0.0), (7765, 0.0), (7766, 0.14433756729740646), (7767, 0.0), (7768, 0.0), (7769, 0.0), (7770, 0.0), (7771, 0.0), (7772, 0.0), (7773, 0.0), (7774, 0.0), (7775, 0.0), (7776, 0.0), (7777, 0.0), (7778, 0.0), (7779, 0.0), (7780, 0.10660035817780521), (7781, 0.0), (7782, 0.0), (7783, 0.0), (7784, 0.0944911182523068), (7785, 0.14433756729740646), (7786, 0.0), (7787, 0.0), (7788, 0.0), (7789, 0.0), (7790, 0.0), (7791, 0.0), (7792, 0.0), (7793, 0.12499999999999997), (7794, 0.0), (7795, 0.0), (7796, 0.0), (7797, 0.0), (7798, 0.0), (7799, 0.0), (7800, 0.0), (7801, 0.0), (7802, 0.0), (7803, 0.0), (7804, 0.0), (7805, 0.0), (7806, 0.0), (7807, 0.0), (7808, 0.0), (7809, 0.0), (7810, 0.0), (7811, 0.0), (7812, 0.0), (7813, 0.0), (7814, 0.12499999999999997), (7815, 0.0), (7816, 0.0), (7817, 0.0), (7818, 0.0), (7819, 0.0), (7820, 0.0), (7821, 0.0), (7822, 0.0), (7823, 0.0), (7824, 0.13363062095621217), (7825, 0.0), (7826, 0.0), (7827, 0.0), (7828, 0.0), (7829, 0.0), (7830, 0.0), (7831, 0.0), (7832, 0.0), (7833, 0.0), (7834, 0.0), (7835, 0.0), (7836, 0.0), (7837, 0.21320071635561041), (7838, 0.0), (7839, 0.13363062095621217), (7840, 0.0), (7841, 0.0), (7842, 0.0), (7843, 0.0), (7844, 0.0), (7845, 0.0), (7846, 0.0), (7847, 0.0), (7848, 0.0), (7849, 0.0), (7850, 0.0), (7851, 0.0), (7852, 0.14433756729740646), (7853, 0.0), (7854, 0.0), (7855, 0.0), (7856, 0.0), (7857, 0.0), (7858, 0.0), (7859, 0.0), (7860, 0.0), (7861, 0.0), (7862, 0.11180339887498948), (7863, 0.0), (7864, 0.14433756729740646), (7865, 0.15811388300841894), (7866, 0.14433756729740646), (7867, 0.14433756729740646), (7868, 0.0), (7869, 0.0), (7870, 0.0), (7871, 0.0), (7872, 0.0), (7873, 0.0), (7874, 0.0), (7875, 0.2041241452319315), (7876, 0.21320071635561041), (7877, 0.2357022603955158), (7878, 0.2886751345948129), (7879, 0.1178511301977579), (7880, 0.0), (7881, 0.0), (7882, 0.0), (7883, 0.10206207261596575), (7884, 0.0), (7885, 0.1178511301977579), (7886, 0.0), (7887, 0.0), (7888, 0.18257418583505533), (7889, 0.24999999999999994), (7890, 0.0), (7891, 0.2357022603955158), (7892, 0.13363062095621217), (7893, 0.1178511301977579), (7894, 0.0), (7895, 0.2041241452319315), (7896, 0.0), (7897, 0.0), (7898, 0.0), (7899, 0.0), (7900, 0.0), (7901, 0.0), (7902, 0.0), (7903, 0.0), (7904, 0.0), (7905, 0.12499999999999997), (7906, 0.0), (7907, 0.0), (7908, 0.12499999999999997), (7909, 0.14433756729740646), (7910, 0.0), (7911, 0.0), (7912, 0.0), (7913, 0.0), (7914, 0.0), (7915, 0.0), (7916, 0.0), (7917, 0.11180339887498948), (7918, 0.1178511301977579), (7919, 0.0), (7920, 0.24999999999999994), (7921, 0.0), (7922, 0.14433756729740646), (7923, 0.15811388300841894), (7924, 0.15811388300841894), (7925, 0.24999999999999994), (7926, 0.0), (7927, 0.21320071635561041), (7928, 0.0), (7929, 0.0), (7930, 0.15811388300841894), (7931, 0.15811388300841894), (7932, 0.1178511301977579), (7933, 0.0), (7934, 0.0), (7935, 0.0), (7936, 0.0), (7937, 0.0), (7938, 0.14433756729740646), (7939, 0.0), (7940, 0.0), (7941, 0.0), (7942, 0.10206207261596575), (7943, 0.0), (7944, 0.14433756729740646), (7945, 0.0), (7946, 0.0), (7947, 0.0), (7948, 0.0), (7949, 0.0), (7950, 0.24999999999999994), (7951, 0.0), (7952, 0.24999999999999994), (7953, 0.14433756729740646), (7954, 0.15811388300841894), (7955, 0.0), (7956, 0.0), (7957, 0.0), (7958, 0.0), (7959, 0.0), (7960, 0.0), (7961, 0.0), (7962, 0.1178511301977579), (7963, 0.0), (7964, 0.1178511301977579), (7965, 0.21320071635561041), (7966, 0.0), (7967, 0.0), (7968, 0.0), (7969, 0.1178511301977579), (7970, 0.0), (7971, 0.0), (7972, 0.0), (7973, 0.0), (7974, 0.07715167498104596), (7975, 0.0), (7976, 0.0), (7977, 0.0), (7978, 0.13363062095621217), (7979, 0.0), (7980, 0.0), (7981, 0.13363062095621217), (7982, 0.0), (7983, 0.13363062095621217), (7984, 0.13363062095621217), (7985, 0.0), (7986, 0.14433756729740646), (7987, 0.0), (7988, 0.0), (7989, 0.12499999999999997), (7990, 0.14433756729740646), (7991, 0.0), (7992, 0.0), (7993, 0.0), (7994, 0.0), (7995, 0.0), (7996, 0.13363062095621217), (7997, 0.10206207261596575), (7998, 0.0), (7999, 0.0), (8000, 0.0), (8001, 0.0), (8002, 0.13363062095621217), (8003, 0.0), (8004, 0.10206207261596575), (8005, 0.0), (8006, 0.15811388300841894), (8007, 0.0), (8008, 0.0), (8009, 0.11180339887498948), (8010, 0.0), (8011, 0.15811388300841894), (8012, 0.0), (8013, 0.0), (8014, 0.22360679774997896), (8015, 0.0), (8016, 0.0), (8017, 0.0), (8018, 0.0), (8019, 0.13363062095621217), (8020, 0.0), (8021, 0.0), (8022, 0.0), (8023, 0.0), (8024, 0.0), (8025, 0.0), (8026, 0.22360679774997896), (8027, 0.0), (8028, 0.09128709291752767), (8029, 0.0), (8030, 0.0), (8031, 0.10660035817780521), (8032, 0.0), (8033, 0.13363062095621217), (8034, 0.13363062095621217), (8035, 0.13363062095621217), (8036, 0.12499999999999997), (8037, 0.0), (8038, 0.0), (8039, 0.0), (8040, 0.0), (8041, 0.0), (8042, 0.14433756729740646), (8043, 0.0), (8044, 0.2886751345948129), (8045, 0.10660035817780521), (8046, 0.0), (8047, 0.0), (8048, 0.0), (8049, 0.0), (8050, 0.11180339887498948), (8051, 0.0), (8052, 0.0), (8053, 0.14433756729740646), (8054, 0.11180339887498948), (8055, 0.11180339887498948), (8056, 0.0), (8057, 0.0), (8058, 0.14433756729740646), (8059, 0.0), (8060, 0.22360679774997896), (8061, 0.09805806756909201), (8062, 0.0), (8063, 0.0), (8064, 0.0), (8065, 0.0), (8066, 0.0), (8067, 0.0), (8068, 0.14433756729740646), (8069, 0.18257418583505533), (8070, 0.10206207261596575), (8071, 0.26726124191242434), (8072, 0.26726124191242434), (8073, 0.0), (8074, 0.10660035817780521), (8075, 0.0), (8076, 0.0), (8077, 0.10660035817780521), (8078, 0.0), (8079, 0.0), (8080, 0.13363062095621217), (8081, 0.0), (8082, 0.0), (8083, 0.15811388300841894), (8084, 0.10660035817780521), (8085, 0.13363062095621217), (8086, 0.13363062095621217), (8087, 0.13363062095621217), (8088, 0.0), (8089, 0.2886751345948129), (8090, 0.0), (8091, 0.0), (8092, 0.1178511301977579), (8093, 0.0), (8094, 0.0), (8095, 0.0), (8096, 0.0), (8097, 0.0), (8098, 0.0), (8099, 0.0), (8100, 0.0), (8101, 0.0), (8102, 0.0), (8103, 0.0), (8104, 0.0), (8105, 0.0), (8106, 0.0), (8107, 0.0), (8108, 0.1178511301977579), (8109, 0.0), (8110, 0.0), (8111, 0.0), (8112, 0.0), (8113, 0.11180339887498948), (8114, 0.0), (8115, 0.08574929257125441), (8116, 0.2651650429449553), (8117, 0.09805806756909201), (8118, 0.0), (8119, 0.0), (8120, 0.0), (8121, 0.10660035817780521), (8122, 0.11180339887498948), (8123, 0.12499999999999997), (8124, 0.14433756729740646), (8125, 0.14433756729740646), (8126, 0.40089186286863654), (8127, 0.3198010745334156), (8128, 0.0), (8129, 0.0), (8130, 0.0), (8131, 0.22360679774997896), (8132, 0.0), (8133, 0.1178511301977579), (8134, 0.10660035817780521), (8135, 0.0), (8136, 0.0), (8137, 0.0), (8138, 0.0), (8139, 0.10206207261596575), (8140, 0.10660035817780521), (8141, 0.12499999999999997), (8142, 0.0), (8143, 0.1178511301977579), (8144, 0.21320071635561041), (8145, 0.14433756729740646), (8146, 0.0), (8147, 0.1178511301977579), (8148, 0.0), (8149, 0.0), (8150, 0.13363062095621217), (8151, 0.13363062095621217), (8152, 0.14433756729740646), (8153, 0.26726124191242434), (8154, 0.0), (8155, 0.24999999999999994), (8156, 0.0), (8157, 0.0), (8158, 0.15811388300841894), (8159, 0.0), (8160, 0.3162277660168379), (8161, 0.0), (8162, 0.0), (8163, 0.0), (8164, 0.12499999999999997), (8165, 0.12499999999999997), (8166, 0.1178511301977579), (8167, 0.294174202707276), (8168, 0.0), (8169, 0.13363062095621217), (8170, 0.10660035817780521), (8171, 0.0), (8172, 0.0), (8173, 0.12499999999999997), (8174, 0.10660035817780521), (8175, 0.14433756729740646), (8176, 0.0), (8177, 0.0), (8178, 0.0), (8179, 0.0), (8180, 0.0), (8181, 0.0), (8182, 0.1178511301977579), (8183, 0.0944911182523068), (8184, 0.3162277660168379), (8185, 0.0), (8186, 0.0), (8187, 0.0), (8188, 0.0), (8189, 0.0), (8190, 0.0), (8191, 0.15811388300841894), (8192, 0.0), (8193, 0.17677669529663687), (8194, 0.3162277660168379), (8195, 0.0), (8196, 0.14433756729740646), (8197, 0.13363062095621217), (8198, 0.0), (8199, 0.11180339887498948), (8200, 0.0), (8201, 0.12499999999999997), (8202, 0.0), (8203, 0.0), (8204, 0.0), (8205, 0.0), (8206, 0.0), (8207, 0.0), (8208, 0.0), (8209, 0.0), (8210, 0.0), (8211, 0.0), (8212, 0.0), (8213, 0.0), (8214, 0.0), (8215, 0.10660035817780521), (8216, 0.12499999999999997), (8217, 0.12499999999999997), (8218, 0.0), (8219, 0.11180339887498948), (8220, 0.14433756729740646), (8221, 0.0), (8222, 0.0), (8223, 0.15811388300841894), (8224, 0.13363062095621217), (8225, 0.0), (8226, 0.0), (8227, 0.10206207261596575), (8228, 0.0), (8229, 0.0), (8230, 0.0), (8231, 0.0), (8232, 0.0), (8233, 0.0), (8234, 0.15811388300841894), (8235, 0.14433756729740646), (8236, 0.13363062095621217), (8237, 0.12499999999999997), (8238, 0.10660035817780521), (8239, 0.13363062095621217), (8240, 0.0), (8241, 0.0), (8242, 0.0), (8243, 0.40089186286863654), (8244, 0.17677669529663687), (8245, 0.09128709291752767), (8246, 0.0), (8247, 0.14433756729740646), (8248, 0.0), (8249, 0.0), (8250, 0.0), (8251, 0.0), (8252, 0.0), (8253, 0.0), (8254, 0.0), (8255, 0.0), (8256, 0.0), (8257, 0.2357022603955158), (8258, 0.0), (8259, 0.2357022603955158), (8260, 0.13363062095621217), (8261, 0.0), (8262, 0.17149858514250882), (8263, 0.2357022603955158), (8264, 0.11180339887498948), (8265, 0.0), (8266, 0.15811388300841894), (8267, 0.0), (8268, 0.12499999999999997), (8269, 0.0), (8270, 0.0), (8271, 0.0), (8272, 0.1178511301977579), (8273, 0.13363062095621217), (8274, 0.0), (8275, 0.0), (8276, 0.0), (8277, 0.24999999999999994), (8278, 0.0), (8279, 0.0), (8280, 0.1178511301977579), (8281, 0.0), (8282, 0.0), (8283, 0.13363062095621217), (8284, 0.0), (8285, 0.10206207261596575), (8286, 0.0), (8287, 0.10660035817780521), (8288, 0.0), (8289, 0.0), (8290, 0.0), (8291, 0.0), (8292, 0.0), (8293, 0.10660035817780521), (8294, 0.0), (8295, 0.14433756729740646), (8296, 0.22360679774997896), (8297, 0.10660035817780521), (8298, 0.0), (8299, 0.0), (8300, 0.0), (8301, 0.13363062095621217), (8302, 0.0), (8303, 0.10206207261596575), (8304, 0.0), (8305, 0.0), (8306, 0.0), (8307, 0.0), (8308, 0.1178511301977579), (8309, 0.0), (8310, 0.0), (8311, 0.0), (8312, 0.12499999999999997), (8313, 0.0), (8314, 0.0), (8315, 0.0), (8316, 0.0), (8317, 0.21320071635561041), (8318, 0.12499999999999997), (8319, 0.24999999999999994), (8320, 0.12499999999999997), (8321, 0.2886751345948129), (8322, 0.3162277660168379), (8323, 0.13363062095621217), (8324, 0.35355339059327373), (8325, 0.2886751345948129), (8326, 0.1178511301977579), (8327, 0.0), (8328, 0.0), (8329, 0.0), (8330, 0.0), (8331, 0.0), (8332, 0.0), (8333, 0.0), (8334, 0.0), (8335, 0.0), (8336, 0.0), (8337, 0.13363062095621217), (8338, 0.0), (8339, 0.16666666666666666), (8340, 0.0), (8341, 0.0944911182523068), (8342, 0.26726124191242434), (8343, 0.14433756729740646), (8344, 0.2041241452319315), (8345, 0.14433756729740646), (8346, 0.15811388300841894), (8347, 0.0), (8348, 0.0), (8349, 0.22360679774997896), (8350, 0.1178511301977579), (8351, 0.0), (8352, 0.11180339887498948), (8353, 0.0), (8354, 0.08838834764831843), (8355, 0.10660035817780521), (8356, 0.14433756729740646), (8357, 0.0), (8358, 0.0), (8359, 0.0), (8360, 0.0), (8361, 0.13363062095621217), (8362, 0.0), (8363, 0.0), (8364, 0.17677669529663687), (8365, 0.0), (8366, 0.14433756729740646), (8367, 0.0), (8368, 0.0), (8369, 0.24999999999999994), (8370, 0.26726124191242434), (8371, 0.0), (8372, 0.0), (8373, 0.0), (8374, 0.0), (8375, 0.1178511301977579), (8376, 0.0), (8377, 0.0), (8378, 0.0), (8379, 0.0), (8380, 0.0), (8381, 0.0), (8382, 0.0), (8383, 0.0), (8384, 0.0), (8385, 0.0), (8386, 0.0), (8387, 0.0), (8388, 0.15811388300841894), (8389, 0.0), (8390, 0.10660035817780521), (8391, 0.0), (8392, 0.0), (8393, 0.0), (8394, 0.0), (8395, 0.2041241452319315), (8396, 0.2041241452319315), (8397, 0.2886751345948129), (8398, 0.0), (8399, 0.0), (8400, 0.0), (8401, 0.0), (8402, 0.13363062095621217), (8403, 0.13363062095621217), (8404, 0.15811388300841894), (8405, 0.35355339059327373), (8406, 0.0), (8407, 0.13363062095621217), (8408, 0.0), (8409, 0.0), (8410, 0.0), (8411, 0.17677669529663687), (8412, 0.0), (8413, 0.0), (8414, 0.0), (8415, 0.17677669529663687), (8416, 0.0), (8417, 0.1178511301977579), (8418, 0.0), (8419, 0.14433756729740646), (8420, 0.2357022603955158), (8421, 0.15811388300841894), (8422, 0.3198010745334156), (8423, 0.0), (8424, 0.40089186286863654), (8425, 0.0), (8426, 0.0), (8427, 0.0), (8428, 0.26726124191242434), (8429, 0.0), (8430, 0.12499999999999997), (8431, 0.11180339887498948), (8432, 0.0), (8433, 0.0), (8434, 0.0), (8435, 0.0), (8436, 0.09805806756909201), (8437, 0.12499999999999997), (8438, 0.0), (8439, 0.13363062095621217), (8440, 0.0), (8441, 0.1178511301977579), (8442, 0.14433756729740646), (8443, 0.1178511301977579), (8444, 0.0), (8445, 0.0), (8446, 0.0), (8447, 0.0), (8448, 0.10660035817780521), (8449, 0.0), (8450, 0.0), (8451, 0.11180339887498948), (8452, 0.1178511301977579), (8453, 0.0), (8454, 0.0), (8455, 0.3749999999999999), (8456, 0.0), (8457, 0.0), (8458, 0.0), (8459, 0.0), (8460, 0.0), (8461, 0.0), (8462, 0.0), (8463, 0.0), (8464, 0.0), (8465, 0.0), (8466, 0.0), (8467, 0.0), (8468, 0.0), (8469, 0.09128709291752767), (8470, 0.22360679774997896), (8471, 0.0), (8472, 0.14433756729740646), (8473, 0.12499999999999997), (8474, 0.12499999999999997), (8475, 0.11180339887498948), (8476, 0.0), (8477, 0.0), (8478, 0.0), (8479, 0.1178511301977579), (8480, 0.21320071635561041), (8481, 0.15811388300841894), (8482, 0.0), (8483, 0.14433756729740646), (8484, 0.0), (8485, 0.0), (8486, 0.0), (8487, 0.15811388300841894), (8488, 0.1178511301977579), (8489, 0.0), (8490, 0.11180339887498948), (8491, 0.0), (8492, 0.13363062095621217), (8493, 0.0), (8494, 0.0), (8495, 0.0), (8496, 0.17677669529663687), (8497, 0.0), (8498, 0.0), (8499, 0.0), (8500, 0.0), (8501, 0.12499999999999997), (8502, 0.0), (8503, 0.19611613513818402), (8504, 0.14433756729740646), (8505, 0.13363062095621217), (8506, 0.0), (8507, 0.0), (8508, 0.0), (8509, 0.0), (8510, 0.0), (8511, 0.0), (8512, 0.0), (8513, 0.0), (8514, 0.0), (8515, 0.14433756729740646), (8516, 0.0), (8517, 0.13363062095621217), (8518, 0.0), (8519, 0.12499999999999997), (8520, 0.1178511301977579), (8521, 0.25), (8522, 0.12499999999999997), (8523, 0.0), (8524, 0.0), (8525, 0.0), (8526, 0.0), (8527, 0.3162277660168379), (8528, 0.1178511301977579), (8529, 0.0), (8530, 0.12499999999999997), (8531, 0.12499999999999997), (8532, 0.12499999999999997), (8533, 0.1178511301977579), (8534, 0.0), (8535, 0.1178511301977579), (8536, 0.14433756729740646), (8537, 0.13363062095621217), (8538, 0.0), (8539, 0.0), (8540, 0.19611613513818402), (8541, 0.0), (8542, 0.2041241452319315), (8543, 0.14433756729740646), (8544, 0.0), (8545, 0.14433756729740646), (8546, 0.0), (8547, 0.13363062095621217), (8548, 0.0), (8549, 0.0), (8550, 0.0), (8551, 0.0), (8552, 0.12499999999999997), (8553, 0.11180339887498948), (8554, 0.10660035817780521), (8555, 0.0), (8556, 0.13363062095621217), (8557, 0.10206207261596575), (8558, 0.12499999999999997), (8559, 0.0), (8560, 0.12499999999999997), (8561, 0.0), (8562, 0.0), (8563, 0.10660035817780521), (8564, 0.0), (8565, 0.13363062095621217), (8566, 0.15811388300841894), (8567, 0.12499999999999997), (8568, 0.12499999999999997), (8569, 0.13363062095621217), (8570, 0.10660035817780521), (8571, 0.0), (8572, 0.0), (8573, 0.0), (8574, 0.09805806756909201), (8575, 0.15811388300841894), (8576, 0.0), (8577, 0.0), (8578, 0.0), (8579, 0.15811388300841894), (8580, 0.0), (8581, 0.13363062095621217), (8582, 0.2886751345948129), (8583, 0.0), (8584, 0.0), (8585, 0.0), (8586, 0.0), (8587, 0.0), (8588, 0.0), (8589, 0.0), (8590, 0.0), (8591, 0.0), (8592, 0.0), (8593, 0.0), (8594, 0.0), (8595, 0.11180339887498948), (8596, 0.1178511301977579), (8597, 0.0), (8598, 0.17677669529663687), (8599, 0.0), (8600, 0.0), (8601, 0.0), (8602, 0.0), (8603, 0.14433756729740646), (8604, 0.14433756729740646), (8605, 0.10660035817780521), (8606, 0.0), (8607, 0.0), (8608, 0.0), (8609, 0.11180339887498948), (8610, 0.0), (8611, 0.0), (8612, 0.0), (8613, 0.10660035817780521), (8614, 0.0), (8615, 0.12499999999999997), (8616, 0.0), (8617, 0.0), (8618, 0.10206207261596575), (8619, 0.3198010745334156), (8620, 0.0), (8621, 0.24999999999999994), (8622, 0.1178511301977579), (8623, 0.0), (8624, 0.13363062095621217), (8625, 0.12499999999999997), (8626, 0.0), (8627, 0.0), (8628, 0.07715167498104596), (8629, 0.12499999999999997), (8630, 0.0), (8631, 0.1889822365046136), (8632, 0.0), (8633, 0.0), (8634, 0.15811388300841894), (8635, 0.0), (8636, 0.0), (8637, 0.0), (8638, 0.0), (8639, 0.0), (8640, 0.0), (8641, 0.0), (8642, 0.0), (8643, 0.0), (8644, 0.0), (8645, 0.0), (8646, 0.0), (8647, 0.10660035817780521), (8648, 0.1178511301977579), (8649, 0.0), (8650, 0.0), (8651, 0.0), (8652, 0.09128709291752767), (8653, 0.12499999999999997), (8654, 0.0), (8655, 0.0), (8656, 0.0), (8657, 0.0), (8658, 0.08838834764831843), (8659, 0.0), (8660, 0.0), (8661, 0.0), (8662, 0.0), (8663, 0.19611613513818402), (8664, 0.1178511301977579), (8665, 0.14433756729740646), (8666, 0.0), (8667, 0.0), (8668, 0.0), (8669, 0.24999999999999994), (8670, 0.0), (8671, 0.15811388300841894), (8672, 0.0), (8673, 0.0), (8674, 0.17677669529663687), (8675, 0.3198010745334156), (8676, 0.0), (8677, 0.15811388300841894), (8678, 0.0), (8679, 0.0), (8680, 0.0), (8681, 0.1178511301977579), (8682, 0.0), (8683, 0.0), (8684, 0.0), (8685, 0.0), (8686, 0.1178511301977579), (8687, 0.12499999999999997), (8688, 0.1178511301977579), (8689, 0.10660035817780521), (8690, 0.12499999999999997), (8691, 0.0), (8692, 0.11180339887498948), (8693, 0.0), (8694, 0.0), (8695, 0.0), (8696, 0.0), (8697, 0.0944911182523068), (8698, 0.26726124191242434), (8699, 0.0), (8700, 0.10206207261596575), (8701, 0.0), (8702, 0.14433756729740646), (8703, 0.0), (8704, 0.12499999999999997), (8705, 0.0), (8706, 0.0), (8707, 0.0), (8708, 0.0), (8709, 0.18257418583505533), (8710, 0.0), (8711, 0.10660035817780521), (8712, 0.15811388300841894), (8713, 0.0), (8714, 0.0), (8715, 0.10660035817780521), (8716, 0.09805806756909201), (8717, 0.0), (8718, 0.0), (8719, 0.0), (8720, 0.22360679774997896), (8721, 0.0), (8722, 0.12499999999999997), (8723, 0.0), (8724, 0.0), (8725, 0.0), (8726, 0.0), (8727, 0.08574929257125441), (8728, 0.11180339887498948), (8729, 0.0), (8730, 0.0), (8731, 0.0), (8732, 0.0), (8733, 0.0), (8734, 0.0), (8735, 0.13363062095621217), (8736, 0.0), (8737, 0.0), (8738, 0.0), (8739, 0.0), (8740, 0.10660035817780521), (8741, 0.0944911182523068), (8742, 0.17677669529663687), (8743, 0.24999999999999994), (8744, 0.10206207261596575), (8745, 0.13363062095621217), (8746, 0.11180339887498948), (8747, 0.0), (8748, 0.0), (8749, 0.0), (8750, 0.0), (8751, 0.2357022603955158), (8752, 0.0), (8753, 0.1178511301977579), (8754, 0.0), (8755, 0.0), (8756, 0.14433756729740646), (8757, 0.0), (8758, 0.11180339887498948), (8759, 0.0), (8760, 0.0), (8761, 0.15811388300841894), (8762, 0.0), (8763, 0.0), (8764, 0.13363062095621217), (8765, 0.10660035817780521), (8766, 0.15811388300841894), (8767, 0.14433756729740646), (8768, 0.1178511301977579), (8769, 0.2041241452319315), (8770, 0.1178511301977579), (8771, 0.1178511301977579), (8772, 0.09128709291752767), (8773, 0.0), (8774, 0.294174202707276), (8775, 0.0), (8776, 0.0), (8777, 0.0), (8778, 0.0), (8779, 0.3198010745334156), (8780, 0.0), (8781, 0.0), (8782, 0.0), (8783, 0.0), (8784, 0.12499999999999997), (8785, 0.0), (8786, 0.0), (8787, 0.0), (8788, 0.0), (8789, 0.0), (8790, 0.0), (8791, 0.0), (8792, 0.0), (8793, 0.19611613513818402), (8794, 0.0), (8795, 0.0), (8796, 0.0), (8797, 0.0), (8798, 0.21320071635561041), (8799, 0.0), (8800, 0.21320071635561041), (8801, 0.0), (8802, 0.0), (8803, 0.0), (8804, 0.0), (8805, 0.0), (8806, 0.0), (8807, 0.0), (8808, 0.0), (8809, 0.0), (8810, 0.0), (8811, 0.12499999999999997), (8812, 0.0), (8813, 0.0), (8814, 0.0), (8815, 0.0), (8816, 0.0), (8817, 0.0), (8818, 0.0), (8819, 0.1178511301977579), (8820, 0.0), (8821, 0.0), (8822, 0.0), (8823, 0.0), (8824, 0.0), (8825, 0.0), (8826, 0.1178511301977579), (8827, 0.14433756729740646), (8828, 0.0), (8829, 0.0), (8830, 0.0), (8831, 0.0), (8832, 0.0), (8833, 0.0), (8834, 0.0), (8835, 0.0), (8836, 0.0), (8837, 0.0), (8838, 0.0), (8839, 0.0), (8840, 0.0), (8841, 0.0), (8842, 0.0), (8843, 0.0), (8844, 0.0), (8845, 0.0), (8846, 0.0), (8847, 0.0), (8848, 0.0), (8849, 0.0), (8850, 0.0), (8851, 0.0), (8852, 0.0), (8853, 0.0), (8854, 0.0), (8855, 0.13363062095621217), (8856, 0.0), (8857, 0.0), (8858, 0.0), (8859, 0.0), (8860, 0.0), (8861, 0.0), (8862, 0.0), (8863, 0.0), (8864, 0.0), (8865, 0.0), (8866, 0.0), (8867, 0.0), (8868, 0.0), (8869, 0.0), (8870, 0.0), (8871, 0.12499999999999997), (8872, 0.22360679774997896), (8873, 0.0), (8874, 0.0), (8875, 0.0), (8876, 0.0), (8877, 0.0), (8878, 0.0), (8879, 0.0), (8880, 0.0), (8881, 0.0), (8882, 0.24999999999999994), (8883, 0.0), (8884, 0.0), (8885, 0.0), (8886, 0.0), (8887, 0.0), (8888, 0.12499999999999997), (8889, 0.0), (8890, 0.0), (8891, 0.0), (8892, 0.0), (8893, 0.22360679774997896), (8894, 0.11180339887498948), (8895, 0.0), (8896, 0.0), (8897, 0.0), (8898, 0.0), (8899, 0.0), (8900, 0.2041241452319315), (8901, 0.0), (8902, 0.0), (8903, 0.0), (8904, 0.0), (8905, 0.0), (8906, 0.0), (8907, 0.0), (8908, 0.0), (8909, 0.0), (8910, 0.21320071635561041), (8911, 0.0), (8912, 0.0), (8913, 0.0), (8914, 0.0), (8915, 0.0), (8916, 0.0), (8917, 0.0), (8918, 0.0), (8919, 0.0), (8920, 0.0), (8921, 0.0), (8922, 0.0), (8923, 0.0), (8924, 0.0), (8925, 0.0), (8926, 0.0), (8927, 0.0), (8928, 0.0), (8929, 0.0), (8930, 0.0), (8931, 0.1178511301977579), (8932, 0.0), (8933, 0.0), (8934, 0.0), (8935, 0.0), (8936, 0.0), (8937, 0.0), (8938, 0.0), (8939, 0.0), (8940, 0.0), (8941, 0.0), (8942, 0.0), (8943, 0.0), (8944, 0.0), (8945, 0.0), (8946, 0.0), (8947, 0.0), (8948, 0.0), (8949, 0.0), (8950, 0.0), (8951, 0.0), (8952, 0.0), (8953, 0.0), (8954, 0.0), (8955, 0.0), (8956, 0.0), (8957, 0.0), (8958, 0.0), (8959, 0.0), (8960, 0.0), (8961, 0.0), (8962, 0.0), (8963, 0.0), (8964, 0.0), (8965, 0.0), (8966, 0.0), (8967, 0.0), (8968, 0.0), (8969, 0.0), (8970, 0.0), (8971, 0.0), (8972, 0.0), (8973, 0.0), (8974, 0.0), (8975, 0.0), (8976, 0.0), (8977, 0.0), (8978, 0.0), (8979, 0.0), (8980, 0.0), (8981, 0.0), (8982, 0.0), (8983, 0.0), (8984, 0.0), (8985, 0.0), (8986, 0.0), (8987, 0.0), (8988, 0.0), (8989, 0.0), (8990, 0.0), (8991, 0.0), (8992, 0.0), (8993, 0.0), (8994, 0.0), (8995, 0.2041241452319315), (8996, 0.0), (8997, 0.0), (8998, 0.0), (8999, 0.0), (9000, 0.0), (9001, 0.0), (9002, 0.0), (9003, 0.0), (9004, 0.0), (9005, 0.0), (9006, 0.0), (9007, 0.0), (9008, 0.0), (9009, 0.0), (9010, 0.0), (9011, 0.0), (9012, 0.0), (9013, 0.0), (9014, 0.0), (9015, 0.0), (9016, 0.0), (9017, 0.0), (9018, 0.12499999999999997), (9019, 0.0), (9020, 0.0), (9021, 0.0), (9022, 0.0), (9023, 0.0), (9024, 0.0), (9025, 0.0), (9026, 0.0), (9027, 0.0), (9028, 0.0), (9029, 0.0), (9030, 0.0), (9031, 0.0), (9032, 0.13363062095621217), (9033, 0.0), (9034, 0.0), (9035, 0.0), (9036, 0.0), (9037, 0.0), (9038, 0.0), (9039, 0.0), (9040, 0.0), (9041, 0.22360679774997896), (9042, 0.0), (9043, 0.0), (9044, 0.0), (9045, 0.2041241452319315), (9046, 0.0), (9047, 0.0), (9048, 0.0), (9049, 0.0), (9050, 0.0), (9051, 0.0), (9052, 0.0), (9053, 0.0), (9054, 0.0), (9055, 0.0), (9056, 0.0), (9057, 0.0), (9058, 0.0), (9059, 0.0), (9060, 0.24999999999999994), (9061, 0.0), (9062, 0.0), (9063, 0.0), (9064, 0.0), (9065, 0.0), (9066, 0.0), (9067, 0.0), (9068, 0.0), (9069, 0.0), (9070, 0.0), (9071, 0.0), (9072, 0.0), (9073, 0.0), (9074, 0.0), (9075, 0.0), (9076, 0.0), (9077, 0.0), (9078, 0.0), (9079, 0.0), (9080, 0.0), (9081, 0.0), (9082, 0.0), (9083, 0.0), (9084, 0.0), (9085, 0.0), (9086, 0.0), (9087, 0.0), (9088, 0.0), (9089, 0.0), (9090, 0.0), (9091, 0.0), (9092, 0.12499999999999997), (9093, 0.0), (9094, 0.0), (9095, 0.0), (9096, 0.2357022603955158), (9097, 0.0), (9098, 0.0), (9099, 0.0), (9100, 0.0), (9101, 0.0), (9102, 0.0), (9103, 0.0), (9104, 0.0), (9105, 0.0), (9106, 0.0), (9107, 0.0), (9108, 0.0), (9109, 0.0), (9110, 0.0), (9111, 0.0), (9112, 0.0), (9113, 0.0), (9114, 0.0), (9115, 0.0), (9116, 0.0), (9117, 0.0), (9118, 0.13363062095621217), (9119, 0.0), (9120, 0.1889822365046136), (9121, 0.0), (9122, 0.0), (9123, 0.0), (9124, 0.0), (9125, 0.0), (9126, 0.0), (9127, 0.0), (9128, 0.0), (9129, 0.0), (9130, 0.0), (9131, 0.0), (9132, 0.0), (9133, 0.0), (9134, 0.0), (9135, 0.0), (9136, 0.0), (9137, 0.0), (9138, 0.0), (9139, 0.0), (9140, 0.0), (9141, 0.0), (9142, 0.0), (9143, 0.0), (9144, 0.0), (9145, 0.0), (9146, 0.0), (9147, 0.0), (9148, 0.0), (9149, 0.2357022603955158), (9150, 0.0), (9151, 0.0), (9152, 0.0), (9153, 0.0), (9154, 0.0), (9155, 0.0), (9156, 0.0), (9157, 0.0), (9158, 0.0), (9159, 0.0), (9160, 0.10206207261596575), (9161, 0.0), (9162, 0.19611613513818402), (9163, 0.0), (9164, 0.0), (9165, 0.0), (9166, 0.0), (9167, 0.0), (9168, 0.0), (9169, 0.0), (9170, 0.26726124191242434), (9171, 0.0), (9172, 0.22360679774997896), (9173, 0.0), (9174, 0.0), (9175, 0.0), (9176, 0.0), (9177, 0.0), (9178, 0.0), (9179, 0.0), (9180, 0.0), (9181, 0.0), (9182, 0.0), (9183, 0.0), (9184, 0.0), (9185, 0.1178511301977579), (9186, 0.0), (9187, 0.0), (9188, 0.0), (9189, 0.0), (9190, 0.0), (9191, 0.0), (9192, 0.0), (9193, 0.0), (9194, 0.0), (9195, 0.0), (9196, 0.0), (9197, 0.10206207261596575), (9198, 0.0), (9199, 0.0), (9200, 0.0), (9201, 0.0), (9202, 0.10660035817780521), (9203, 0.0), (9204, 0.0), (9205, 0.0), (9206, 0.0), (9207, 0.0), (9208, 0.0), (9209, 0.0), (9210, 0.0), (9211, 0.0), (9212, 0.0), (9213, 0.10206207261596575), (9214, 0.0), (9215, 0.0), (9216, 0.0), (9217, 0.1178511301977579), (9218, 0.0), (9219, 0.0), (9220, 0.0), (9221, 0.0), (9222, 0.0), (9223, 0.1178511301977579), (9224, 0.0), (9225, 0.0), (9226, 0.0), (9227, 0.0), (9228, 0.0), (9229, 0.0), (9230, 0.0), (9231, 0.0), (9232, 0.0), (9233, 0.0), (9234, 0.09805806756909201), (9235, 0.0), (9236, 0.0), (9237, 0.0), (9238, 0.0), (9239, 0.0), (9240, 0.0), (9241, 0.0), (9242, 0.0), (9243, 0.0), (9244, 0.0), (9245, 0.0), (9246, 0.0), (9247, 0.0), (9248, 0.0), (9249, 0.0), (9250, 0.0), (9251, 0.0), (9252, 0.0944911182523068), (9253, 0.0), (9254, 0.0), (9255, 0.10660035817780521), (9256, 0.0), (9257, 0.11180339887498948), (9258, 0.0), (9259, 0.0), (9260, 0.0), (9261, 0.0), (9262, 0.22360679774997896), (9263, 0.0), (9264, 0.0), (9265, 0.0), (9266, 0.0), (9267, 0.0), (9268, 0.0), (9269, 0.0), (9270, 0.0), (9271, 0.0), (9272, 0.0), (9273, 0.0), (9274, 0.0), (9275, 0.0), (9276, 0.0), (9277, 0.0), (9278, 0.0), (9279, 0.0), (9280, 0.0), (9281, 0.0), (9282, 0.0), (9283, 0.0), (9284, 0.0), (9285, 0.0), (9286, 0.0), (9287, 0.0), (9288, 0.0), (9289, 0.0), (9290, 0.0), (9291, 0.0), (9292, 0.0), (9293, 0.0), (9294, 0.0), (9295, 0.0), (9296, 0.0), (9297, 0.0), (9298, 0.0), (9299, 0.0), (9300, 0.0), (9301, 0.0), (9302, 0.0), (9303, 0.0), (9304, 0.0), (9305, 0.0), (9306, 0.0), (9307, 0.0), (9308, 0.0), (9309, 0.10206207261596575), (9310, 0.0), (9311, 0.0), (9312, 0.0), (9313, 0.0), (9314, 0.0), (9315, 0.0), (9316, 0.0), (9317, 0.0), (9318, 0.0), (9319, 0.0), (9320, 0.0), (9321, 0.0), (9322, 0.24999999999999994), (9323, 0.0), (9324, 0.0), (9325, 0.0), (9326, 0.0), (9327, 0.09805806756909201), (9328, 0.14433756729740646), (9329, 0.1178511301977579), (9330, 0.11180339887498948), (9331, 0.0), (9332, 0.0), (9333, 0.0), (9334, 0.0), (9335, 0.0), (9336, 0.0), (9337, 0.0), (9338, 0.0), (9339, 0.0), (9340, 0.0), (9341, 0.0), (9342, 0.10660035817780521), (9343, 0.0), (9344, 0.0), (9345, 0.0), (9346, 0.0), (9347, 0.0), (9348, 0.0), (9349, 0.0), (9350, 0.0), (9351, 0.0), (9352, 0.0), (9353, 0.0), (9354, 0.0), (9355, 0.0), (9356, 0.0), (9357, 0.28347335475692037), (9358, 0.0), (9359, 0.1178511301977579), (9360, 0.10660035817780521), (9361, 0.0), (9362, 0.0), (9363, 0.0), (9364, 0.0), (9365, 0.0), (9366, 0.0), (9367, 0.0), (9368, 0.0), (9369, 0.0), (9370, 0.0), (9371, 0.0), (9372, 0.0), (9373, 0.0), (9374, 0.0), (9375, 0.0), (9376, 0.0), (9377, 0.0), (9378, 0.0), (9379, 0.0), (9380, 0.0), (9381, 0.0), (9382, 0.0), (9383, 0.0), (9384, 0.0), (9385, 0.0), (9386, 0.0), (9387, 0.11180339887498948), (9388, 0.0), (9389, 0.0), (9390, 0.0), (9391, 0.0), (9392, 0.0), (9393, 0.0), (9394, 0.0), (9395, 0.0), (9396, 0.0), (9397, 0.0), (9398, 0.0), (9399, 0.0), (9400, 0.10660035817780521), (9401, 0.1178511301977579), (9402, 0.0), (9403, 0.13363062095621217), (9404, 0.0), (9405, 0.0), (9406, 0.0), (9407, 0.0), (9408, 0.0), (9409, 0.0), (9410, 0.0), (9411, 0.2886751345948129), (9412, 0.0), (9413, 0.0), (9414, 0.0), (9415, 0.0), (9416, 0.0), (9417, 0.0), (9418, 0.0), (9419, 0.0), (9420, 0.0), (9421, 0.0), (9422, 0.0), (9423, 0.0), (9424, 0.0), (9425, 0.0), (9426, 0.0), (9427, 0.0), (9428, 0.0), (9429, 0.13363062095621217), (9430, 0.0), (9431, 0.0), (9432, 0.14433756729740646), (9433, 0.0), (9434, 0.0), (9435, 0.0), (9436, 0.0), (9437, 0.0), (9438, 0.0), (9439, 0.0), (9440, 0.0), (9441, 0.0), (9442, 0.0), (9443, 0.0), (9444, 0.0), (9445, 0.21320071635561041), (9446, 0.0), (9447, 0.0), (9448, 0.0), (9449, 0.0), (9450, 0.0), (9451, 0.0), (9452, 0.0), (9453, 0.0), (9454, 0.0), (9455, 0.0), (9456, 0.0), (9457, 0.0), (9458, 0.0), (9459, 0.0), (9460, 0.11180339887498948), (9461, 0.0), (9462, 0.0), (9463, 0.0), (9464, 0.0), (9465, 0.0), (9466, 0.0), (9467, 0.0), (9468, 0.0), (9469, 0.0), (9470, 0.0), (9471, 0.0), (9472, 0.0), (9473, 0.0), (9474, 0.0), (9475, 0.0), (9476, 0.0), (9477, 0.0), (9478, 0.0), (9479, 0.0), (9480, 0.0), (9481, 0.0), (9482, 0.0), (9483, 0.24999999999999994), (9484, 0.0), (9485, 0.0), (9486, 0.0), (9487, 0.0), (9488, 0.0), (9489, 0.0), (9490, 0.0), (9491, 0.0), (9492, 0.0), (9493, 0.0), (9494, 0.0), (9495, 0.0), (9496, 0.0), (9497, 0.0), (9498, 0.0), (9499, 0.0), (9500, 0.12499999999999997), (9501, 0.0), (9502, 0.0), (9503, 0.0), (9504, 0.0), (9505, 0.0), (9506, 0.0), (9507, 0.0), (9508, 0.0), (9509, 0.0), (9510, 0.0), (9511, 0.0), (9512, 0.0), (9513, 0.09805806756909201), (9514, 0.0), (9515, 0.13363062095621217), (9516, 0.0), (9517, 0.24999999999999994), (9518, 0.0), (9519, 0.0), (9520, 0.0), (9521, 0.0), (9522, 0.0), (9523, 0.0), (9524, 0.0), (9525, 0.0), (9526, 0.0), (9527, 0.0), (9528, 0.0), (9529, 0.0), (9530, 0.0), (9531, 0.0), (9532, 0.0), (9533, 0.0), (9534, 0.0), (9535, 0.0), (9536, 0.0), (9537, 0.0), (9538, 0.0), (9539, 0.0), (9540, 0.0), (9541, 0.11180339887498948), (9542, 0.0), (9543, 0.0), (9544, 0.0), (9545, 0.0), (9546, 0.0), (9547, 0.0), (9548, 0.0), (9549, 0.0), (9550, 0.0), (9551, 0.0), (9552, 0.0), (9553, 0.0), (9554, 0.0), (9555, 0.0), (9556, 0.0), (9557, 0.0), (9558, 0.11180339887498948), (9559, 0.18257418583505533), (9560, 0.0), (9561, 0.0), (9562, 0.0), (9563, 0.0), (9564, 0.0), (9565, 0.0), (9566, 0.0), (9567, 0.0), (9568, 0.0), (9569, 0.0), (9570, 0.0), (9571, 0.0), (9572, 0.1889822365046136), (9573, 0.0), (9574, 0.0), (9575, 0.0), (9576, 0.11180339887498948), (9577, 0.0), (9578, 0.0), (9579, 0.0), (9580, 0.0), (9581, 0.0), (9582, 0.0), (9583, 0.0), (9584, 0.0), (9585, 0.0), (9586, 0.0), (9587, 0.0), (9588, 0.0), (9589, 0.21320071635561041), (9590, 0.0), (9591, 0.14433756729740646), (9592, 0.0), (9593, 0.0), (9594, 0.0), (9595, 0.0), (9596, 0.0), (9597, 0.13363062095621217), (9598, 0.0), (9599, 0.0), (9600, 0.0), (9601, 0.0), (9602, 0.0), (9603, 0.0), (9604, 0.0), (9605, 0.0), (9606, 0.0), (9607, 0.0), (9608, 0.0), (9609, 0.0), (9610, 0.0), (9611, 0.0), (9612, 0.0), (9613, 0.0), (9614, 0.0), (9615, 0.0), (9616, 0.0), (9617, 0.0), (9618, 0.0), (9619, 0.0), (9620, 0.0), (9621, 0.0), (9622, 0.12499999999999997), (9623, 0.0), (9624, 0.0), (9625, 0.0), (9626, 0.0), (9627, 0.0), (9628, 0.13363062095621217), (9629, 0.0), (9630, 0.0), (9631, 0.0), (9632, 0.26726124191242434), (9633, 0.0), (9634, 0.0), (9635, 0.0), (9636, 0.0), (9637, 0.0), (9638, 0.0), (9639, 0.0), (9640, 0.0), (9641, 0.0), (9642, 0.0), (9643, 0.0), (9644, 0.1889822365046136), (9645, 0.0), (9646, 0.0), (9647, 0.0), (9648, 0.0), (9649, 0.0), (9650, 0.0), (9651, 0.0), (9652, 0.10206207261596575), (9653, 0.0), (9654, 0.0), (9655, 0.15811388300841894), (9656, 0.13363062095621217), (9657, 0.0), (9658, 0.0), (9659, 0.0), (9660, 0.0), (9661, 0.0), (9662, 0.0), (9663, 0.0), (9664, 0.0), (9665, 0.0), (9666, 0.0), (9667, 0.0), (9668, 0.0), (9669, 0.0), (9670, 0.0), (9671, 0.0), (9672, 0.0), (9673, 0.0), (9674, 0.0), (9675, 0.0), (9676, 0.0), (9677, 0.0), (9678, 0.0), (9679, 0.0), (9680, 0.0), (9681, 0.0), (9682, 0.0), (9683, 0.0), (9684, 0.1178511301977579), (9685, 0.0), (9686, 0.0), (9687, 0.0), (9688, 0.0), (9689, 0.0), (9690, 0.0), (9691, 0.0), (9692, 0.0), (9693, 0.0), (9694, 0.0), (9695, 0.0), (9696, 0.3198010745334156), (9697, 0.0), (9698, 0.0), (9699, 0.0), (9700, 0.0), (9701, 0.0), (9702, 0.13363062095621217), (9703, 0.0), (9704, 0.0), (9705, 0.0), (9706, 0.0), (9707, 0.0), (9708, 0.0), (9709, 0.0), (9710, 0.0), (9711, 0.0), (9712, 0.0), (9713, 0.0), (9714, 0.0), (9715, 0.0), (9716, 0.0), (9717, 0.0), (9718, 0.0), (9719, 0.0), (9720, 0.0), (9721, 0.0), (9722, 0.0), (9723, 0.0), (9724, 0.0), (9725, 0.0), (9726, 0.0), (9727, 0.0), (9728, 0.0), (9729, 0.0), (9730, 0.0), (9731, 0.0), (9732, 0.0), (9733, 0.0), (9734, 0.0), (9735, 0.12499999999999997), (9736, 0.0), (9737, 0.0), (9738, 0.0), (9739, 0.0), (9740, 0.0), (9741, 0.0), (9742, 0.0), (9743, 0.0), (9744, 0.0), (9745, 0.0), (9746, 0.0), (9747, 0.0), (9748, 0.0), (9749, 0.0), (9750, 0.0), (9751, 0.0), (9752, 0.0), (9753, 0.0), (9754, 0.0), (9755, 0.0), (9756, 0.0), (9757, 0.0), (9758, 0.0), (9759, 0.0), (9760, 0.0), (9761, 0.0), (9762, 0.0), (9763, 0.0), (9764, 0.0), (9765, 0.0), (9766, 0.0), (9767, 0.0), (9768, 0.1178511301977579), (9769, 0.0), (9770, 0.0), (9771, 0.0), (9772, 0.0), (9773, 0.24999999999999994), (9774, 0.0), (9775, 0.0), (9776, 0.0), (9777, 0.0), (9778, 0.0), (9779, 0.0), (9780, 0.0), (9781, 0.0), (9782, 0.0), (9783, 0.0), (9784, 0.0), (9785, 0.0), (9786, 0.0), (9787, 0.0), (9788, 0.11180339887498948), (9789, 0.0), (9790, 0.0), (9791, 0.0), (9792, 0.0), (9793, 0.0), (9794, 0.0), (9795, 0.0), (9796, 0.0), (9797, 0.0), (9798, 0.0), (9799, 0.0), (9800, 0.0), (9801, 0.0), (9802, 0.0), (9803, 0.0), (9804, 0.0), (9805, 0.0), (9806, 0.0), (9807, 0.0), (9808, 0.0), (9809, 0.0), (9810, 0.0), (9811, 0.0), (9812, 0.0), (9813, 0.0), (9814, 0.0), (9815, 0.0), (9816, 0.0), (9817, 0.0), (9818, 0.0), (9819, 0.0), (9820, 0.0), (9821, 0.0), (9822, 0.0), (9823, 0.0), (9824, 0.0), (9825, 0.0), (9826, 0.0), (9827, 0.0), (9828, 0.35355339059327373), (9829, 0.14433756729740646), (9830, 0.0), (9831, 0.0), (9832, 0.0), (9833, 0.13363062095621217), (9834, 0.0), (9835, 0.0), (9836, 0.0), (9837, 0.0), (9838, 0.0), (9839, 0.0), (9840, 0.0), (9841, 0.0), (9842, 0.0), (9843, 0.0), (9844, 0.0), (9845, 0.0), (9846, 0.0), (9847, 0.0), (9848, 0.0), (9849, 0.0), (9850, 0.10206207261596575), (9851, 0.1178511301977579), (9852, 0.0), (9853, 0.0), (9854, 0.0), (9855, 0.0), (9856, 0.0), (9857, 0.0), (9858, 0.0), (9859, 0.0), (9860, 0.0), (9861, 0.0), (9862, 0.0), (9863, 0.0), (9864, 0.0), (9865, 0.0), (9866, 0.0), (9867, 0.0), (9868, 0.0), (9869, 0.0), (9870, 0.0), (9871, 0.0), (9872, 0.0), (9873, 0.0), (9874, 0.0), (9875, 0.08838834764831843), (9876, 0.14433756729740646), (9877, 0.0), (9878, 0.0), (9879, 0.0), (9880, 0.0), (9881, 0.0), (9882, 0.0), (9883, 0.12499999999999997), (9884, 0.0), (9885, 0.0), (9886, 0.0), (9887, 0.0), (9888, 0.0), (9889, 0.0), (9890, 0.0), (9891, 0.0)]\n"
     ]
    }
   ],
   "source": [
    "print(scores)"
   ]
  },
  {
   "cell_type": "code",
   "execution_count": 194,
   "id": "3e15ed98",
   "metadata": {},
   "outputs": [],
   "source": [
    "sorted_scores = sorted(scores, key = lambda x: x[1], reverse=True)\n",
    "sorted_scores = sorted_scores[1:]"
   ]
  },
  {
   "cell_type": "code",
   "execution_count": 195,
   "id": "6d20b4c1",
   "metadata": {},
   "outputs": [
    {
     "name": "stdout",
     "output_type": "stream",
     "text": [
      "The 5 most recommended anime to Bleach are:\n",
      "\n",
      "1 Karin\n",
      "2 Mononoke\n",
      "3 Sugar Bunnies\n",
      "4 Osakana wa Ami no Naka\n",
      "5 Kyouhaku: Owaranai Ashita\n"
     ]
    }
   ],
   "source": [
    "j = 0\n",
    "print('The 5 most recommended anime to', title, 'are:\\n' )\n",
    "for item in sorted_scores:\n",
    "    movie_title = anime_user_rating[anime_user_rating['anime_id'] == item[0]]['name'].values[0]\n",
    "    print(j+1, movie_title)\n",
    "    j += 1\n",
    "    if j > 4:\n",
    "        break"
   ]
  }
 ],
 "metadata": {
  "kernelspec": {
   "display_name": "Python 3 (ipykernel)",
   "language": "python",
   "name": "python3"
  },
  "language_info": {
   "codemirror_mode": {
    "name": "ipython",
    "version": 3
   },
   "file_extension": ".py",
   "mimetype": "text/x-python",
   "name": "python",
   "nbconvert_exporter": "python",
   "pygments_lexer": "ipython3",
   "version": "3.9.12"
  }
 },
 "nbformat": 4,
 "nbformat_minor": 5
}
