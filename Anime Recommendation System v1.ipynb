{
 "cells": [
  {
   "cell_type": "markdown",
   "id": "f97ebc63",
   "metadata": {},
   "source": [
    "<p style=\"text-align:center;\"><img src=\"https://i.pinimg.com/originals/fe/7c/f8/fe7cf85130d8be56e5eedb8d63fda1da.gif\" width=\"100%\" height=\"100%\" alt=\"HTML5 Doctor Logo\" /></p>"
   ]
  },
  {
   "cell_type": "markdown",
   "id": "c2491617",
   "metadata": {},
   "source": [
    "<B><h1 style=\"text-align:center;\"> Import </h1></B>"
   ]
  },
  {
   "cell_type": "code",
   "execution_count": 116,
   "id": "c5ac2406",
   "metadata": {},
   "outputs": [],
   "source": [
    "import numpy as np\n",
    "import pandas as pd\n",
    "import matplotlib.pyplot as plt\n",
    "import seaborn as sns\n",
    "import numpy as np\n",
    "from sklearn.feature_extraction.text import CountVectorizer\n",
    "from sklearn.metrics.pairwise import cosine_similarity"
   ]
  },
  {
   "cell_type": "markdown",
   "id": "0bc9f037",
   "metadata": {},
   "source": [
    "<B><h1 style=\"text-align:center;\"> Upload datasets </h1></B>"
   ]
  },
  {
   "cell_type": "code",
   "execution_count": 117,
   "id": "4081d55d",
   "metadata": {},
   "outputs": [],
   "source": [
    "ratings = pd.read_csv('../Anime Recommendation System/Data/rating.csv')\n",
    "anime   = pd.read_csv('../Anime Recommendation System/Data/anime.csv')"
   ]
  },
  {
   "cell_type": "markdown",
   "id": "a78e29f3",
   "metadata": {},
   "source": [
    "<b><h1 style=\"text-align:center; color:green\" id=\"EDA\"> EDA part </h1></b>\n",
    "<b><h3 style=\"text-align:center;\"> Preview Ratings dataset </h3></b>"
   ]
  },
  {
   "cell_type": "code",
   "execution_count": 118,
   "id": "447190bf",
   "metadata": {},
   "outputs": [
    {
     "data": {
      "text/html": [
       "<div>\n",
       "<style scoped>\n",
       "    .dataframe tbody tr th:only-of-type {\n",
       "        vertical-align: middle;\n",
       "    }\n",
       "\n",
       "    .dataframe tbody tr th {\n",
       "        vertical-align: top;\n",
       "    }\n",
       "\n",
       "    .dataframe thead th {\n",
       "        text-align: right;\n",
       "    }\n",
       "</style>\n",
       "<table border=\"1\" class=\"dataframe\">\n",
       "  <thead>\n",
       "    <tr style=\"text-align: right;\">\n",
       "      <th></th>\n",
       "      <th>user_id</th>\n",
       "      <th>anime_id</th>\n",
       "      <th>rating</th>\n",
       "    </tr>\n",
       "  </thead>\n",
       "  <tbody>\n",
       "    <tr>\n",
       "      <th>0</th>\n",
       "      <td>1</td>\n",
       "      <td>20</td>\n",
       "      <td>-1</td>\n",
       "    </tr>\n",
       "    <tr>\n",
       "      <th>1</th>\n",
       "      <td>1</td>\n",
       "      <td>24</td>\n",
       "      <td>-1</td>\n",
       "    </tr>\n",
       "    <tr>\n",
       "      <th>2</th>\n",
       "      <td>1</td>\n",
       "      <td>79</td>\n",
       "      <td>-1</td>\n",
       "    </tr>\n",
       "    <tr>\n",
       "      <th>3</th>\n",
       "      <td>1</td>\n",
       "      <td>226</td>\n",
       "      <td>-1</td>\n",
       "    </tr>\n",
       "    <tr>\n",
       "      <th>4</th>\n",
       "      <td>1</td>\n",
       "      <td>241</td>\n",
       "      <td>-1</td>\n",
       "    </tr>\n",
       "  </tbody>\n",
       "</table>\n",
       "</div>"
      ],
      "text/plain": [
       "   user_id  anime_id  rating\n",
       "0        1        20      -1\n",
       "1        1        24      -1\n",
       "2        1        79      -1\n",
       "3        1       226      -1\n",
       "4        1       241      -1"
      ]
     },
     "execution_count": 118,
     "metadata": {},
     "output_type": "execute_result"
    }
   ],
   "source": [
    "ratings.head()"
   ]
  },
  {
   "cell_type": "markdown",
   "id": "9fb1c69d",
   "metadata": {},
   "source": [
    "Replacing \"rating\" column with \"user_rating\" because the anime dataset already has \"rating column\". Looking for merging them."
   ]
  },
  {
   "cell_type": "code",
   "execution_count": 119,
   "id": "aea66481",
   "metadata": {},
   "outputs": [
    {
     "data": {
      "text/html": [
       "<div>\n",
       "<style scoped>\n",
       "    .dataframe tbody tr th:only-of-type {\n",
       "        vertical-align: middle;\n",
       "    }\n",
       "\n",
       "    .dataframe tbody tr th {\n",
       "        vertical-align: top;\n",
       "    }\n",
       "\n",
       "    .dataframe thead th {\n",
       "        text-align: right;\n",
       "    }\n",
       "</style>\n",
       "<table border=\"1\" class=\"dataframe\">\n",
       "  <thead>\n",
       "    <tr style=\"text-align: right;\">\n",
       "      <th></th>\n",
       "      <th>user_id</th>\n",
       "      <th>anime_id</th>\n",
       "      <th>user_rating</th>\n",
       "    </tr>\n",
       "  </thead>\n",
       "  <tbody>\n",
       "    <tr>\n",
       "      <th>0</th>\n",
       "      <td>1</td>\n",
       "      <td>20</td>\n",
       "      <td>-1</td>\n",
       "    </tr>\n",
       "    <tr>\n",
       "      <th>1</th>\n",
       "      <td>1</td>\n",
       "      <td>24</td>\n",
       "      <td>-1</td>\n",
       "    </tr>\n",
       "    <tr>\n",
       "      <th>2</th>\n",
       "      <td>1</td>\n",
       "      <td>79</td>\n",
       "      <td>-1</td>\n",
       "    </tr>\n",
       "    <tr>\n",
       "      <th>3</th>\n",
       "      <td>1</td>\n",
       "      <td>226</td>\n",
       "      <td>-1</td>\n",
       "    </tr>\n",
       "    <tr>\n",
       "      <th>4</th>\n",
       "      <td>1</td>\n",
       "      <td>241</td>\n",
       "      <td>-1</td>\n",
       "    </tr>\n",
       "  </tbody>\n",
       "</table>\n",
       "</div>"
      ],
      "text/plain": [
       "   user_id  anime_id  user_rating\n",
       "0        1        20           -1\n",
       "1        1        24           -1\n",
       "2        1        79           -1\n",
       "3        1       226           -1\n",
       "4        1       241           -1"
      ]
     },
     "execution_count": 119,
     "metadata": {},
     "output_type": "execute_result"
    }
   ],
   "source": [
    "ratings['user_rating'] = ratings['rating']\n",
    "ratings.drop('rating', axis=1, inplace = True)\n",
    "ratings.head()"
   ]
  },
  {
   "cell_type": "markdown",
   "id": "33134c62",
   "metadata": {},
   "source": [
    "<h3 style=\"text-align:center;\"> Preview Anime dataset </h3>"
   ]
  },
  {
   "cell_type": "code",
   "execution_count": 120,
   "id": "150a9a4e",
   "metadata": {},
   "outputs": [
    {
     "data": {
      "text/html": [
       "<div>\n",
       "<style scoped>\n",
       "    .dataframe tbody tr th:only-of-type {\n",
       "        vertical-align: middle;\n",
       "    }\n",
       "\n",
       "    .dataframe tbody tr th {\n",
       "        vertical-align: top;\n",
       "    }\n",
       "\n",
       "    .dataframe thead th {\n",
       "        text-align: right;\n",
       "    }\n",
       "</style>\n",
       "<table border=\"1\" class=\"dataframe\">\n",
       "  <thead>\n",
       "    <tr style=\"text-align: right;\">\n",
       "      <th></th>\n",
       "      <th>anime_id</th>\n",
       "      <th>name</th>\n",
       "      <th>genre</th>\n",
       "      <th>type</th>\n",
       "      <th>episodes</th>\n",
       "      <th>rating</th>\n",
       "      <th>members</th>\n",
       "    </tr>\n",
       "  </thead>\n",
       "  <tbody>\n",
       "    <tr>\n",
       "      <th>0</th>\n",
       "      <td>32281</td>\n",
       "      <td>Kimi no Na wa.</td>\n",
       "      <td>Drama, Romance, School, Supernatural</td>\n",
       "      <td>Movie</td>\n",
       "      <td>1</td>\n",
       "      <td>9.37</td>\n",
       "      <td>200630</td>\n",
       "    </tr>\n",
       "    <tr>\n",
       "      <th>1</th>\n",
       "      <td>5114</td>\n",
       "      <td>Fullmetal Alchemist: Brotherhood</td>\n",
       "      <td>Action, Adventure, Drama, Fantasy, Magic, Mili...</td>\n",
       "      <td>TV</td>\n",
       "      <td>64</td>\n",
       "      <td>9.26</td>\n",
       "      <td>793665</td>\n",
       "    </tr>\n",
       "    <tr>\n",
       "      <th>2</th>\n",
       "      <td>28977</td>\n",
       "      <td>Gintama°</td>\n",
       "      <td>Action, Comedy, Historical, Parody, Samurai, S...</td>\n",
       "      <td>TV</td>\n",
       "      <td>51</td>\n",
       "      <td>9.25</td>\n",
       "      <td>114262</td>\n",
       "    </tr>\n",
       "    <tr>\n",
       "      <th>3</th>\n",
       "      <td>9253</td>\n",
       "      <td>Steins;Gate</td>\n",
       "      <td>Sci-Fi, Thriller</td>\n",
       "      <td>TV</td>\n",
       "      <td>24</td>\n",
       "      <td>9.17</td>\n",
       "      <td>673572</td>\n",
       "    </tr>\n",
       "    <tr>\n",
       "      <th>4</th>\n",
       "      <td>9969</td>\n",
       "      <td>Gintama&amp;#039;</td>\n",
       "      <td>Action, Comedy, Historical, Parody, Samurai, S...</td>\n",
       "      <td>TV</td>\n",
       "      <td>51</td>\n",
       "      <td>9.16</td>\n",
       "      <td>151266</td>\n",
       "    </tr>\n",
       "  </tbody>\n",
       "</table>\n",
       "</div>"
      ],
      "text/plain": [
       "   anime_id                              name  \\\n",
       "0     32281                    Kimi no Na wa.   \n",
       "1      5114  Fullmetal Alchemist: Brotherhood   \n",
       "2     28977                          Gintama°   \n",
       "3      9253                       Steins;Gate   \n",
       "4      9969                     Gintama&#039;   \n",
       "\n",
       "                                               genre   type episodes  rating  \\\n",
       "0               Drama, Romance, School, Supernatural  Movie        1    9.37   \n",
       "1  Action, Adventure, Drama, Fantasy, Magic, Mili...     TV       64    9.26   \n",
       "2  Action, Comedy, Historical, Parody, Samurai, S...     TV       51    9.25   \n",
       "3                                   Sci-Fi, Thriller     TV       24    9.17   \n",
       "4  Action, Comedy, Historical, Parody, Samurai, S...     TV       51    9.16   \n",
       "\n",
       "   members  \n",
       "0   200630  \n",
       "1   793665  \n",
       "2   114262  \n",
       "3   673572  \n",
       "4   151266  "
      ]
     },
     "execution_count": 120,
     "metadata": {},
     "output_type": "execute_result"
    }
   ],
   "source": [
    "anime.head()"
   ]
  },
  {
   "cell_type": "markdown",
   "id": "16631103",
   "metadata": {},
   "source": [
    "<h3 style=\"text-align:center;\"> View the number of rows and columns in our dataset </h3>"
   ]
  },
  {
   "cell_type": "code",
   "execution_count": 121,
   "id": "90882a03",
   "metadata": {},
   "outputs": [
    {
     "name": "stdout",
     "output_type": "stream",
     "text": [
      "Shape of ratings:(7813737, 3)\n",
      "Shape of anime:(12294, 7)\n"
     ]
    }
   ],
   "source": [
    "print(f'Shape of ratings:{ratings.shape}\\nShape of anime:{anime.shape}')"
   ]
  },
  {
   "cell_type": "markdown",
   "id": "d44b5aed",
   "metadata": {},
   "source": [
    "<h3 style=\"text-align:center;\"> View the number of unique values foreach column </h3>"
   ]
  },
  {
   "cell_type": "code",
   "execution_count": 122,
   "id": "09c0854a",
   "metadata": {},
   "outputs": [
    {
     "data": {
      "text/plain": [
       "anime_id    12294\n",
       "name        12292\n",
       "genre        3264\n",
       "type            6\n",
       "episodes      187\n",
       "rating        598\n",
       "members      6706\n",
       "dtype: int64"
      ]
     },
     "execution_count": 122,
     "metadata": {},
     "output_type": "execute_result"
    }
   ],
   "source": [
    "anime.nunique()"
   ]
  },
  {
   "cell_type": "markdown",
   "id": "4ea8c30e",
   "metadata": {},
   "source": [
    "<h3 style=\"text-align:center;\"> \"name\" column analysis </h3>"
   ]
  },
  {
   "cell_type": "code",
   "execution_count": 123,
   "id": "3f6a1ba0",
   "metadata": {},
   "outputs": [
    {
     "data": {
      "text/plain": [
       "0"
      ]
     },
     "execution_count": 123,
     "metadata": {},
     "output_type": "execute_result"
    }
   ],
   "source": [
    "anime['name'].isna().sum()"
   ]
  },
  {
   "cell_type": "code",
   "execution_count": 124,
   "id": "475188dd",
   "metadata": {},
   "outputs": [
    {
     "data": {
      "text/html": [
       "<div>\n",
       "<style scoped>\n",
       "    .dataframe tbody tr th:only-of-type {\n",
       "        vertical-align: middle;\n",
       "    }\n",
       "\n",
       "    .dataframe tbody tr th {\n",
       "        vertical-align: top;\n",
       "    }\n",
       "\n",
       "    .dataframe thead th {\n",
       "        text-align: right;\n",
       "    }\n",
       "</style>\n",
       "<table border=\"1\" class=\"dataframe\">\n",
       "  <thead>\n",
       "    <tr style=\"text-align: right;\">\n",
       "      <th></th>\n",
       "      <th>anime_id</th>\n",
       "      <th>name</th>\n",
       "      <th>genre</th>\n",
       "      <th>type</th>\n",
       "      <th>episodes</th>\n",
       "      <th>rating</th>\n",
       "      <th>members</th>\n",
       "    </tr>\n",
       "  </thead>\n",
       "  <tbody>\n",
       "    <tr>\n",
       "      <th>10141</th>\n",
       "      <td>30059</td>\n",
       "      <td>Saru Kani Gassen</td>\n",
       "      <td>Drama</td>\n",
       "      <td>Movie</td>\n",
       "      <td>1</td>\n",
       "      <td>4.75</td>\n",
       "      <td>76</td>\n",
       "    </tr>\n",
       "    <tr>\n",
       "      <th>10194</th>\n",
       "      <td>33195</td>\n",
       "      <td>Shi Wan Ge Leng Xiaohua</td>\n",
       "      <td>Action, Adventure, Comedy, Fantasy, Parody</td>\n",
       "      <td>Movie</td>\n",
       "      <td>1</td>\n",
       "      <td>7.07</td>\n",
       "      <td>110</td>\n",
       "    </tr>\n",
       "  </tbody>\n",
       "</table>\n",
       "</div>"
      ],
      "text/plain": [
       "       anime_id                     name  \\\n",
       "10141     30059         Saru Kani Gassen   \n",
       "10194     33195  Shi Wan Ge Leng Xiaohua   \n",
       "\n",
       "                                            genre   type episodes  rating  \\\n",
       "10141                                       Drama  Movie        1    4.75   \n",
       "10194  Action, Adventure, Comedy, Fantasy, Parody  Movie        1    7.07   \n",
       "\n",
       "       members  \n",
       "10141       76  \n",
       "10194      110  "
      ]
     },
     "execution_count": 124,
     "metadata": {},
     "output_type": "execute_result"
    }
   ],
   "source": [
    "anime[anime.duplicated(['name'])]"
   ]
  },
  {
   "cell_type": "code",
   "execution_count": 125,
   "id": "342bd2c0",
   "metadata": {},
   "outputs": [
    {
     "data": {
      "text/html": [
       "<div>\n",
       "<style scoped>\n",
       "    .dataframe tbody tr th:only-of-type {\n",
       "        vertical-align: middle;\n",
       "    }\n",
       "\n",
       "    .dataframe tbody tr th {\n",
       "        vertical-align: top;\n",
       "    }\n",
       "\n",
       "    .dataframe thead th {\n",
       "        text-align: right;\n",
       "    }\n",
       "</style>\n",
       "<table border=\"1\" class=\"dataframe\">\n",
       "  <thead>\n",
       "    <tr style=\"text-align: right;\">\n",
       "      <th></th>\n",
       "      <th>anime_id</th>\n",
       "      <th>name</th>\n",
       "      <th>genre</th>\n",
       "      <th>type</th>\n",
       "      <th>episodes</th>\n",
       "      <th>rating</th>\n",
       "      <th>members</th>\n",
       "    </tr>\n",
       "  </thead>\n",
       "  <tbody>\n",
       "    <tr>\n",
       "      <th>10140</th>\n",
       "      <td>22399</td>\n",
       "      <td>Saru Kani Gassen</td>\n",
       "      <td>Kids</td>\n",
       "      <td>OVA</td>\n",
       "      <td>1</td>\n",
       "      <td>5.23</td>\n",
       "      <td>62</td>\n",
       "    </tr>\n",
       "    <tr>\n",
       "      <th>10141</th>\n",
       "      <td>30059</td>\n",
       "      <td>Saru Kani Gassen</td>\n",
       "      <td>Drama</td>\n",
       "      <td>Movie</td>\n",
       "      <td>1</td>\n",
       "      <td>4.75</td>\n",
       "      <td>76</td>\n",
       "    </tr>\n",
       "    <tr>\n",
       "      <th>10193</th>\n",
       "      <td>33193</td>\n",
       "      <td>Shi Wan Ge Leng Xiaohua</td>\n",
       "      <td>Comedy, Parody</td>\n",
       "      <td>ONA</td>\n",
       "      <td>12</td>\n",
       "      <td>6.67</td>\n",
       "      <td>114</td>\n",
       "    </tr>\n",
       "    <tr>\n",
       "      <th>10194</th>\n",
       "      <td>33195</td>\n",
       "      <td>Shi Wan Ge Leng Xiaohua</td>\n",
       "      <td>Action, Adventure, Comedy, Fantasy, Parody</td>\n",
       "      <td>Movie</td>\n",
       "      <td>1</td>\n",
       "      <td>7.07</td>\n",
       "      <td>110</td>\n",
       "    </tr>\n",
       "  </tbody>\n",
       "</table>\n",
       "</div>"
      ],
      "text/plain": [
       "       anime_id                     name  \\\n",
       "10140     22399         Saru Kani Gassen   \n",
       "10141     30059         Saru Kani Gassen   \n",
       "10193     33193  Shi Wan Ge Leng Xiaohua   \n",
       "10194     33195  Shi Wan Ge Leng Xiaohua   \n",
       "\n",
       "                                            genre   type episodes  rating  \\\n",
       "10140                                        Kids    OVA        1    5.23   \n",
       "10141                                       Drama  Movie        1    4.75   \n",
       "10193                              Comedy, Parody    ONA       12    6.67   \n",
       "10194  Action, Adventure, Comedy, Fantasy, Parody  Movie        1    7.07   \n",
       "\n",
       "       members  \n",
       "10140       62  \n",
       "10141       76  \n",
       "10193      114  \n",
       "10194      110  "
      ]
     },
     "execution_count": 125,
     "metadata": {},
     "output_type": "execute_result"
    }
   ],
   "source": [
    "anime[(anime['name'] == 'Saru Kani Gassen')|(anime['name'] == 'Shi Wan Ge Leng Xiaohua')]"
   ]
  },
  {
   "cell_type": "markdown",
   "id": "8c01f3b6",
   "metadata": {},
   "source": [
    "<h3 style=\"text-align:center;\"> \"genre column analysis\" </h3>"
   ]
  },
  {
   "cell_type": "code",
   "execution_count": 126,
   "id": "c2d308b0",
   "metadata": {},
   "outputs": [
    {
     "data": {
      "text/plain": [
       "62"
      ]
     },
     "execution_count": 126,
     "metadata": {},
     "output_type": "execute_result"
    }
   ],
   "source": [
    "anime['genre'].isna().sum()"
   ]
  },
  {
   "cell_type": "code",
   "execution_count": 127,
   "id": "1a3a20db",
   "metadata": {},
   "outputs": [
    {
     "data": {
      "text/plain": [
       "Hentai                   823\n",
       "Comedy                   523\n",
       "Music                    301\n",
       "Kids                     199\n",
       "Comedy, Slice of Life    179\n",
       "Dementia                 137\n",
       "Fantasy, Kids            128\n",
       "Fantasy                  114\n",
       "Comedy, Kids             112\n",
       "Drama                    107\n",
       "Drama, Kids              105\n",
       "Slice of Life             99\n",
       "Kids, Music               95\n",
       "Comedy, Fantasy, Kids     81\n",
       "Adventure, Kids           80\n",
       "Adventure                 79\n",
       "Adventure, Fantasy        78\n",
       "Action, Mecha, Sci-Fi     77\n",
       "Comedy, Parody            74\n",
       "Historical                68\n",
       "Name: genre, dtype: int64"
      ]
     },
     "execution_count": 127,
     "metadata": {},
     "output_type": "execute_result"
    }
   ],
   "source": [
    "anime['genre'].value_counts().sort_values(ascending=False).head(20)"
   ]
  },
  {
   "cell_type": "code",
   "execution_count": 128,
   "id": "e85678a8",
   "metadata": {},
   "outputs": [
    {
     "data": {
      "image/png": "[encoded data removed]",
      "text/plain": [
       "<Figure size 1080x576 with 1 Axes>"
      ]
     },
     "metadata": {
      "needs_background": "light"
     },
     "output_type": "display_data"
    }
   ],
   "source": [
    "plt.figure(figsize=(15, 8))\n",
    "plt.title('Most popular genres')\n",
    "sns.countplot(x='genre', data=anime, palette=\"Greens_d\", order=anime['genre'].value_counts().iloc[:15].index)\n",
    "plt.xticks(rotation=45)\n",
    "plt.show()"
   ]
  },
  {
   "cell_type": "markdown",
   "id": "ce5081be",
   "metadata": {},
   "source": [
    "<b><h3 style=\"text-align:center;\"> \"type\" column analysis </h3></b>"
   ]
  },
  {
   "cell_type": "code",
   "execution_count": 129,
   "id": "9f94bb44",
   "metadata": {},
   "outputs": [
    {
     "data": {
      "image/png": "[encoded data removed]",
      "text/plain": [
       "<Figure size 1080x360 with 1 Axes>"
      ]
     },
     "metadata": {
      "needs_background": "light"
     },
     "output_type": "display_data"
    }
   ],
   "source": [
    "plt.figure(figsize=(15, 5))\n",
    "plt.title('Number of each type')\n",
    "sns.countplot(y='type', data=anime, palette='rocket')\n",
    "plt.show()"
   ]
  },
  {
   "cell_type": "markdown",
   "id": "50c7669a",
   "metadata": {},
   "source": [
    "<b><h3 style=\"text-align:center;\"> \"rating\" column analysis</h3></b>"
   ]
  },
  {
   "cell_type": "code",
   "execution_count": 130,
   "id": "ea2ff1cf",
   "metadata": {},
   "outputs": [],
   "source": [
    "anime.dropna(inplace=True)"
   ]
  },
  {
   "cell_type": "code",
   "execution_count": 131,
   "id": "a210460b",
   "metadata": {},
   "outputs": [
    {
     "data": {
      "text/plain": [
       "6.00    141\n",
       "7.00     98\n",
       "6.50     90\n",
       "6.25     84\n",
       "5.00     76\n",
       "6.75     72\n",
       "6.67     68\n",
       "6.38     67\n",
       "6.80     67\n",
       "5.67     66\n",
       "6.73     64\n",
       "7.33     64\n",
       "6.34     63\n",
       "6.81     63\n",
       "6.33     62\n",
       "Name: rating, dtype: int64"
      ]
     },
     "execution_count": 131,
     "metadata": {},
     "output_type": "execute_result"
    }
   ],
   "source": [
    "anime['rating'].value_counts().sort_values(ascending=False).head(15)"
   ]
  },
  {
   "cell_type": "code",
   "execution_count": 132,
   "id": "a6ed9f6a",
   "metadata": {},
   "outputs": [
    {
     "data": {
      "text/plain": [
       "0"
      ]
     },
     "execution_count": 132,
     "metadata": {},
     "output_type": "execute_result"
    }
   ],
   "source": [
    "anime['rating'].isna().sum()"
   ]
  },
  {
   "cell_type": "code",
   "execution_count": 133,
   "id": "517cfab9",
   "metadata": {},
   "outputs": [
    {
     "data": {
      "text/html": [
       "<div>\n",
       "<style scoped>\n",
       "    .dataframe tbody tr th:only-of-type {\n",
       "        vertical-align: middle;\n",
       "    }\n",
       "\n",
       "    .dataframe tbody tr th {\n",
       "        vertical-align: top;\n",
       "    }\n",
       "\n",
       "    .dataframe thead th {\n",
       "        text-align: right;\n",
       "    }\n",
       "</style>\n",
       "<table border=\"1\" class=\"dataframe\">\n",
       "  <thead>\n",
       "    <tr style=\"text-align: right;\">\n",
       "      <th></th>\n",
       "      <th>anime_id</th>\n",
       "      <th>name</th>\n",
       "      <th>genre</th>\n",
       "      <th>type</th>\n",
       "      <th>episodes</th>\n",
       "      <th>rating</th>\n",
       "      <th>members</th>\n",
       "      <th>rounded_rating</th>\n",
       "    </tr>\n",
       "  </thead>\n",
       "  <tbody>\n",
       "    <tr>\n",
       "      <th>0</th>\n",
       "      <td>32281</td>\n",
       "      <td>Kimi no Na wa.</td>\n",
       "      <td>Drama, Romance, School, Supernatural</td>\n",
       "      <td>Movie</td>\n",
       "      <td>1</td>\n",
       "      <td>9.37</td>\n",
       "      <td>200630</td>\n",
       "      <td>9</td>\n",
       "    </tr>\n",
       "    <tr>\n",
       "      <th>1</th>\n",
       "      <td>5114</td>\n",
       "      <td>Fullmetal Alchemist: Brotherhood</td>\n",
       "      <td>Action, Adventure, Drama, Fantasy, Magic, Mili...</td>\n",
       "      <td>TV</td>\n",
       "      <td>64</td>\n",
       "      <td>9.26</td>\n",
       "      <td>793665</td>\n",
       "      <td>9</td>\n",
       "    </tr>\n",
       "    <tr>\n",
       "      <th>2</th>\n",
       "      <td>28977</td>\n",
       "      <td>Gintama°</td>\n",
       "      <td>Action, Comedy, Historical, Parody, Samurai, S...</td>\n",
       "      <td>TV</td>\n",
       "      <td>51</td>\n",
       "      <td>9.25</td>\n",
       "      <td>114262</td>\n",
       "      <td>9</td>\n",
       "    </tr>\n",
       "    <tr>\n",
       "      <th>3</th>\n",
       "      <td>9253</td>\n",
       "      <td>Steins;Gate</td>\n",
       "      <td>Sci-Fi, Thriller</td>\n",
       "      <td>TV</td>\n",
       "      <td>24</td>\n",
       "      <td>9.17</td>\n",
       "      <td>673572</td>\n",
       "      <td>9</td>\n",
       "    </tr>\n",
       "    <tr>\n",
       "      <th>4</th>\n",
       "      <td>9969</td>\n",
       "      <td>Gintama&amp;#039;</td>\n",
       "      <td>Action, Comedy, Historical, Parody, Samurai, S...</td>\n",
       "      <td>TV</td>\n",
       "      <td>51</td>\n",
       "      <td>9.16</td>\n",
       "      <td>151266</td>\n",
       "      <td>9</td>\n",
       "    </tr>\n",
       "  </tbody>\n",
       "</table>\n",
       "</div>"
      ],
      "text/plain": [
       "   anime_id                              name  \\\n",
       "0     32281                    Kimi no Na wa.   \n",
       "1      5114  Fullmetal Alchemist: Brotherhood   \n",
       "2     28977                          Gintama°   \n",
       "3      9253                       Steins;Gate   \n",
       "4      9969                     Gintama&#039;   \n",
       "\n",
       "                                               genre   type episodes  rating  \\\n",
       "0               Drama, Romance, School, Supernatural  Movie        1    9.37   \n",
       "1  Action, Adventure, Drama, Fantasy, Magic, Mili...     TV       64    9.26   \n",
       "2  Action, Comedy, Historical, Parody, Samurai, S...     TV       51    9.25   \n",
       "3                                   Sci-Fi, Thriller     TV       24    9.17   \n",
       "4  Action, Comedy, Historical, Parody, Samurai, S...     TV       51    9.16   \n",
       "\n",
       "   members  rounded_rating  \n",
       "0   200630               9  \n",
       "1   793665               9  \n",
       "2   114262               9  \n",
       "3   673572               9  \n",
       "4   151266               9  "
      ]
     },
     "execution_count": 133,
     "metadata": {},
     "output_type": "execute_result"
    }
   ],
   "source": [
    "anime['rounded_rating'] = anime['rating'].apply(lambda x: round(x))\n",
    "anime.head()"
   ]
  },
  {
   "cell_type": "code",
   "execution_count": 134,
   "id": "45ff179f",
   "metadata": {},
   "outputs": [
    {
     "data": {
      "image/png": "[encoded data removed]",
      "text/plain": [
       "<Figure size 1080x432 with 1 Axes>"
      ]
     },
     "metadata": {
      "needs_background": "light"
     },
     "output_type": "display_data"
    }
   ],
   "source": [
    "plt.figure(figsize=(15,6))\n",
    "sns.countplot(data=anime, x='rounded_rating')\n",
    "plt.title('Number of each rating')\n",
    "plt.show()"
   ]
  },
  {
   "cell_type": "code",
   "execution_count": 135,
   "id": "b756286f",
   "metadata": {},
   "outputs": [
    {
     "data": {
      "text/html": [
       "<div>\n",
       "<style scoped>\n",
       "    .dataframe tbody tr th:only-of-type {\n",
       "        vertical-align: middle;\n",
       "    }\n",
       "\n",
       "    .dataframe tbody tr th {\n",
       "        vertical-align: top;\n",
       "    }\n",
       "\n",
       "    .dataframe thead th {\n",
       "        text-align: right;\n",
       "    }\n",
       "</style>\n",
       "<table border=\"1\" class=\"dataframe\">\n",
       "  <thead>\n",
       "    <tr style=\"text-align: right;\">\n",
       "      <th></th>\n",
       "      <th>user_id</th>\n",
       "      <th>anime_id</th>\n",
       "      <th>user_rating</th>\n",
       "    </tr>\n",
       "  </thead>\n",
       "  <tbody>\n",
       "    <tr>\n",
       "      <th>0</th>\n",
       "      <td>1</td>\n",
       "      <td>20</td>\n",
       "      <td>-1</td>\n",
       "    </tr>\n",
       "    <tr>\n",
       "      <th>1</th>\n",
       "      <td>1</td>\n",
       "      <td>24</td>\n",
       "      <td>-1</td>\n",
       "    </tr>\n",
       "    <tr>\n",
       "      <th>2</th>\n",
       "      <td>1</td>\n",
       "      <td>79</td>\n",
       "      <td>-1</td>\n",
       "    </tr>\n",
       "    <tr>\n",
       "      <th>3</th>\n",
       "      <td>1</td>\n",
       "      <td>226</td>\n",
       "      <td>-1</td>\n",
       "    </tr>\n",
       "    <tr>\n",
       "      <th>4</th>\n",
       "      <td>1</td>\n",
       "      <td>241</td>\n",
       "      <td>-1</td>\n",
       "    </tr>\n",
       "  </tbody>\n",
       "</table>\n",
       "</div>"
      ],
      "text/plain": [
       "   user_id  anime_id  user_rating\n",
       "0        1        20           -1\n",
       "1        1        24           -1\n",
       "2        1        79           -1\n",
       "3        1       226           -1\n",
       "4        1       241           -1"
      ]
     },
     "execution_count": 135,
     "metadata": {},
     "output_type": "execute_result"
    }
   ],
   "source": [
    "ratings.head()"
   ]
  },
  {
   "cell_type": "markdown",
   "id": "19a126f1",
   "metadata": {},
   "source": [
    "When the users didn't leave rating it was set to -1, so lets drop them"
   ]
  },
  {
   "cell_type": "code",
   "execution_count": 136,
   "id": "0ace24d3",
   "metadata": {},
   "outputs": [
    {
     "data": {
      "text/html": [
       "<div>\n",
       "<style scoped>\n",
       "    .dataframe tbody tr th:only-of-type {\n",
       "        vertical-align: middle;\n",
       "    }\n",
       "\n",
       "    .dataframe tbody tr th {\n",
       "        vertical-align: top;\n",
       "    }\n",
       "\n",
       "    .dataframe thead th {\n",
       "        text-align: right;\n",
       "    }\n",
       "</style>\n",
       "<table border=\"1\" class=\"dataframe\">\n",
       "  <thead>\n",
       "    <tr style=\"text-align: right;\">\n",
       "      <th></th>\n",
       "      <th>user_id</th>\n",
       "      <th>anime_id</th>\n",
       "      <th>user_rating</th>\n",
       "    </tr>\n",
       "  </thead>\n",
       "  <tbody>\n",
       "    <tr>\n",
       "      <th>47</th>\n",
       "      <td>1</td>\n",
       "      <td>8074</td>\n",
       "      <td>10.0</td>\n",
       "    </tr>\n",
       "    <tr>\n",
       "      <th>81</th>\n",
       "      <td>1</td>\n",
       "      <td>11617</td>\n",
       "      <td>10.0</td>\n",
       "    </tr>\n",
       "    <tr>\n",
       "      <th>83</th>\n",
       "      <td>1</td>\n",
       "      <td>11757</td>\n",
       "      <td>10.0</td>\n",
       "    </tr>\n",
       "    <tr>\n",
       "      <th>101</th>\n",
       "      <td>1</td>\n",
       "      <td>15451</td>\n",
       "      <td>10.0</td>\n",
       "    </tr>\n",
       "    <tr>\n",
       "      <th>153</th>\n",
       "      <td>2</td>\n",
       "      <td>11771</td>\n",
       "      <td>10.0</td>\n",
       "    </tr>\n",
       "  </tbody>\n",
       "</table>\n",
       "</div>"
      ],
      "text/plain": [
       "     user_id  anime_id  user_rating\n",
       "47         1      8074         10.0\n",
       "81         1     11617         10.0\n",
       "83         1     11757         10.0\n",
       "101        1     15451         10.0\n",
       "153        2     11771         10.0"
      ]
     },
     "execution_count": 136,
     "metadata": {},
     "output_type": "execute_result"
    }
   ],
   "source": [
    "ratings['user_rating'] = ratings['user_rating'].apply(lambda x: np.nan if x == -1 else x)\n",
    "ratings.dropna(inplace=True)\n",
    "ratings.head()"
   ]
  },
  {
   "cell_type": "markdown",
   "id": "1a4f4cdb",
   "metadata": {},
   "source": [
    "Getting the average user rating to each anime"
   ]
  },
  {
   "cell_type": "code",
   "execution_count": 137,
   "id": "3d82cb58",
   "metadata": {},
   "outputs": [],
   "source": [
    "user_ratings = ratings.groupby(['anime_id'], as_index=False)['user_rating'].mean()"
   ]
  },
  {
   "cell_type": "markdown",
   "id": "1136211d",
   "metadata": {},
   "source": [
    "Merging datasets"
   ]
  },
  {
   "cell_type": "code",
   "execution_count": 138,
   "id": "0fc0dcda",
   "metadata": {},
   "outputs": [],
   "source": [
    "anime_user_rating = pd.merge(anime, user_ratings, on='anime_id')"
   ]
  },
  {
   "cell_type": "code",
   "execution_count": 139,
   "id": "f7ab3baa",
   "metadata": {},
   "outputs": [
    {
     "data": {
      "text/html": [
       "<div>\n",
       "<style scoped>\n",
       "    .dataframe tbody tr th:only-of-type {\n",
       "        vertical-align: middle;\n",
       "    }\n",
       "\n",
       "    .dataframe tbody tr th {\n",
       "        vertical-align: top;\n",
       "    }\n",
       "\n",
       "    .dataframe thead th {\n",
       "        text-align: right;\n",
       "    }\n",
       "</style>\n",
       "<table border=\"1\" class=\"dataframe\">\n",
       "  <thead>\n",
       "    <tr style=\"text-align: right;\">\n",
       "      <th></th>\n",
       "      <th>anime_id</th>\n",
       "      <th>name</th>\n",
       "      <th>genre</th>\n",
       "      <th>type</th>\n",
       "      <th>episodes</th>\n",
       "      <th>rating</th>\n",
       "      <th>members</th>\n",
       "      <th>rounded_rating</th>\n",
       "      <th>user_rating</th>\n",
       "    </tr>\n",
       "  </thead>\n",
       "  <tbody>\n",
       "    <tr>\n",
       "      <th>0</th>\n",
       "      <td>32281</td>\n",
       "      <td>Kimi no Na wa.</td>\n",
       "      <td>Drama, Romance, School, Supernatural</td>\n",
       "      <td>Movie</td>\n",
       "      <td>1</td>\n",
       "      <td>9.37</td>\n",
       "      <td>200630</td>\n",
       "      <td>9</td>\n",
       "      <td>9.426313</td>\n",
       "    </tr>\n",
       "    <tr>\n",
       "      <th>1</th>\n",
       "      <td>5114</td>\n",
       "      <td>Fullmetal Alchemist: Brotherhood</td>\n",
       "      <td>Action, Adventure, Drama, Fantasy, Magic, Mili...</td>\n",
       "      <td>TV</td>\n",
       "      <td>64</td>\n",
       "      <td>9.26</td>\n",
       "      <td>793665</td>\n",
       "      <td>9</td>\n",
       "      <td>9.322741</td>\n",
       "    </tr>\n",
       "    <tr>\n",
       "      <th>2</th>\n",
       "      <td>28977</td>\n",
       "      <td>Gintama°</td>\n",
       "      <td>Action, Comedy, Historical, Parody, Samurai, S...</td>\n",
       "      <td>TV</td>\n",
       "      <td>51</td>\n",
       "      <td>9.25</td>\n",
       "      <td>114262</td>\n",
       "      <td>9</td>\n",
       "      <td>9.449495</td>\n",
       "    </tr>\n",
       "  </tbody>\n",
       "</table>\n",
       "</div>"
      ],
      "text/plain": [
       "   anime_id                              name  \\\n",
       "0     32281                    Kimi no Na wa.   \n",
       "1      5114  Fullmetal Alchemist: Brotherhood   \n",
       "2     28977                          Gintama°   \n",
       "\n",
       "                                               genre   type episodes  rating  \\\n",
       "0               Drama, Romance, School, Supernatural  Movie        1    9.37   \n",
       "1  Action, Adventure, Drama, Fantasy, Magic, Mili...     TV       64    9.26   \n",
       "2  Action, Comedy, Historical, Parody, Samurai, S...     TV       51    9.25   \n",
       "\n",
       "   members  rounded_rating  user_rating  \n",
       "0   200630               9     9.426313  \n",
       "1   793665               9     9.322741  \n",
       "2   114262               9     9.449495  "
      ]
     },
     "execution_count": 139,
     "metadata": {},
     "output_type": "execute_result"
    }
   ],
   "source": [
    "anime_user_rating.head(3)"
   ]
  },
  {
   "cell_type": "markdown",
   "id": "e68b3dd5",
   "metadata": {},
   "source": [
    "Recommendation engine"
   ]
  },
  {
   "cell_type": "markdown",
   "id": "7289047c",
   "metadata": {},
   "source": [
    "Choosing the columns that i think are important"
   ]
  },
  {
   "cell_type": "code",
   "execution_count": 140,
   "id": "590d5c1c",
   "metadata": {},
   "outputs": [],
   "source": [
    "columns = ['name','genre','type','rating','user_rating']"
   ]
  },
  {
   "cell_type": "code",
   "execution_count": 141,
   "id": "ffadf676",
   "metadata": {},
   "outputs": [
    {
     "data": {
      "text/plain": [
       "name           0\n",
       "genre          0\n",
       "type           0\n",
       "rating         0\n",
       "user_rating    0\n",
       "dtype: int64"
      ]
     },
     "execution_count": 141,
     "metadata": {},
     "output_type": "execute_result"
    }
   ],
   "source": [
    "anime_user_rating[columns].isna().sum()"
   ]
  },
  {
   "cell_type": "markdown",
   "id": "56ebbc89",
   "metadata": {},
   "source": [
    "Create the column with all these important columns together"
   ]
  },
  {
   "cell_type": "code",
   "execution_count": 142,
   "id": "374bca1a",
   "metadata": {},
   "outputs": [],
   "source": [
    "def get_important_features(data):\n",
    "    important_features = []\n",
    "    for i in range(0, data.shape[0]):\n",
    "                   important_features.append(data['name'][i]+' '+data['genre'][i]+' '+data['type'][i]+' '+str(data['rating'][i])+' '+str(data['user_rating'][i]))\n",
    "                   \n",
    "    return important_features"
   ]
  },
  {
   "cell_type": "code",
   "execution_count": 143,
   "id": "14725d17",
   "metadata": {},
   "outputs": [],
   "source": [
    "anime_user_rating['important_features'] = get_important_features(anime_user_rating)"
   ]
  },
  {
   "cell_type": "code",
   "execution_count": 144,
   "id": "4fd674cd",
   "metadata": {},
   "outputs": [
    {
     "data": {
      "text/html": [
       "<div>\n",
       "<style scoped>\n",
       "    .dataframe tbody tr th:only-of-type {\n",
       "        vertical-align: middle;\n",
       "    }\n",
       "\n",
       "    .dataframe tbody tr th {\n",
       "        vertical-align: top;\n",
       "    }\n",
       "\n",
       "    .dataframe thead th {\n",
       "        text-align: right;\n",
       "    }\n",
       "</style>\n",
       "<table border=\"1\" class=\"dataframe\">\n",
       "  <thead>\n",
       "    <tr style=\"text-align: right;\">\n",
       "      <th></th>\n",
       "      <th>anime_id</th>\n",
       "      <th>name</th>\n",
       "      <th>genre</th>\n",
       "      <th>type</th>\n",
       "      <th>episodes</th>\n",
       "      <th>rating</th>\n",
       "      <th>members</th>\n",
       "      <th>rounded_rating</th>\n",
       "      <th>user_rating</th>\n",
       "      <th>important_features</th>\n",
       "    </tr>\n",
       "  </thead>\n",
       "  <tbody>\n",
       "    <tr>\n",
       "      <th>0</th>\n",
       "      <td>32281</td>\n",
       "      <td>Kimi no Na wa.</td>\n",
       "      <td>Drama, Romance, School, Supernatural</td>\n",
       "      <td>Movie</td>\n",
       "      <td>1</td>\n",
       "      <td>9.37</td>\n",
       "      <td>200630</td>\n",
       "      <td>9</td>\n",
       "      <td>9.426313</td>\n",
       "      <td>Kimi no Na wa. Drama, Romance, School, Superna...</td>\n",
       "    </tr>\n",
       "    <tr>\n",
       "      <th>1</th>\n",
       "      <td>5114</td>\n",
       "      <td>Fullmetal Alchemist: Brotherhood</td>\n",
       "      <td>Action, Adventure, Drama, Fantasy, Magic, Mili...</td>\n",
       "      <td>TV</td>\n",
       "      <td>64</td>\n",
       "      <td>9.26</td>\n",
       "      <td>793665</td>\n",
       "      <td>9</td>\n",
       "      <td>9.322741</td>\n",
       "      <td>Fullmetal Alchemist: Brotherhood Action, Adven...</td>\n",
       "    </tr>\n",
       "    <tr>\n",
       "      <th>2</th>\n",
       "      <td>28977</td>\n",
       "      <td>Gintama°</td>\n",
       "      <td>Action, Comedy, Historical, Parody, Samurai, S...</td>\n",
       "      <td>TV</td>\n",
       "      <td>51</td>\n",
       "      <td>9.25</td>\n",
       "      <td>114262</td>\n",
       "      <td>9</td>\n",
       "      <td>9.449495</td>\n",
       "      <td>Gintama° Action, Comedy, Historical, Parody, S...</td>\n",
       "    </tr>\n",
       "  </tbody>\n",
       "</table>\n",
       "</div>"
      ],
      "text/plain": [
       "   anime_id                              name  \\\n",
       "0     32281                    Kimi no Na wa.   \n",
       "1      5114  Fullmetal Alchemist: Brotherhood   \n",
       "2     28977                          Gintama°   \n",
       "\n",
       "                                               genre   type episodes  rating  \\\n",
       "0               Drama, Romance, School, Supernatural  Movie        1    9.37   \n",
       "1  Action, Adventure, Drama, Fantasy, Magic, Mili...     TV       64    9.26   \n",
       "2  Action, Comedy, Historical, Parody, Samurai, S...     TV       51    9.25   \n",
       "\n",
       "   members  rounded_rating  user_rating  \\\n",
       "0   200630               9     9.426313   \n",
       "1   793665               9     9.322741   \n",
       "2   114262               9     9.449495   \n",
       "\n",
       "                                  important_features  \n",
       "0  Kimi no Na wa. Drama, Romance, School, Superna...  \n",
       "1  Fullmetal Alchemist: Brotherhood Action, Adven...  \n",
       "2  Gintama° Action, Comedy, Historical, Parody, S...  "
      ]
     },
     "execution_count": 144,
     "metadata": {},
     "output_type": "execute_result"
    }
   ],
   "source": [
    "anime_user_rating.head(3)"
   ]
  },
  {
   "cell_type": "code",
   "execution_count": 145,
   "id": "1cf495f4",
   "metadata": {},
   "outputs": [],
   "source": [
    "cm = CountVectorizer().fit_transform(anime_user_rating['important_features'])"
   ]
  },
  {
   "cell_type": "code",
   "execution_count": 146,
   "id": "f92f1801",
   "metadata": {},
   "outputs": [
    {
     "name": "stdout",
     "output_type": "stream",
     "text": [
      "[[1.         0.0836242  0.         ... 0.         0.10660036 0.09090909]\n",
      " [0.0836242  1.         0.24019223 ... 0.         0.         0.        ]\n",
      " [0.         0.24019223 1.         ... 0.         0.         0.        ]\n",
      " ...\n",
      " [0.         0.         0.         ... 1.         0.31622777 0.26967994]\n",
      " [0.10660036 0.         0.         ... 0.31622777 1.         0.74620251]\n",
      " [0.09090909 0.         0.         ... 0.26967994 0.74620251 1.        ]]\n"
     ]
    }
   ],
   "source": [
    "cs = cosine_similarity(cm)\n",
    "print(cs)"
   ]
  },
  {
   "cell_type": "code",
   "execution_count": 190,
   "id": "44dfb1ae",
   "metadata": {},
   "outputs": [],
   "source": [
    "title = 'Bleach'\n",
    "anime_id = anime_user_rating[anime_user_rating['name'] == title]['anime_id'].values[0]"
   ]
  },
  {
   "cell_type": "code",
   "execution_count": 191,
   "id": "69efd27b",
   "metadata": {},
   "outputs": [
    {
     "name": "stdout",
     "output_type": "stream",
     "text": [
      "269\n"
     ]
    }
   ],
   "source": [
    "print(anime_id)"
   ]
  },
  {
   "cell_type": "code",
   "execution_count": 192,
   "id": "8e489a6a",
   "metadata": {},
   "outputs": [],
   "source": [
    "scores = list(enumerate(cs[anime_id]))"
   ]
  },
  {
   "cell_type": "code",
   "execution_count": 194,
   "id": "9fe6a255",
   "metadata": {},
   "outputs": [],
   "source": [
    "sorted_scores = sorted(scores, key = lambda x: x[1], reverse=True)\n",
    "sorted_scores = sorted_scores[1:]"
   ]
  },
  {
   "cell_type": "code",
   "execution_count": 195,
   "id": "0910a45d",
   "metadata": {},
   "outputs": [
    {
     "name": "stdout",
     "output_type": "stream",
     "text": [
      "The 5 most recommended anime to Bleach are:\n",
      "\n",
      "1 Karin\n",
      "2 Mononoke\n",
      "3 Sugar Bunnies\n",
      "4 Osakana wa Ami no Naka\n",
      "5 Kyouhaku: Owaranai Ashita\n"
     ]
    }
   ],
   "source": [
    "j = 0\n",
    "print('The 5 most recommended anime to', title, 'are:\\n' )\n",
    "for item in sorted_scores:\n",
    "    movie_title = anime_user_rating[anime_user_rating['anime_id'] == item[0]]['name'].values[0]\n",
    "    print(j+1, movie_title)\n",
    "    j += 1\n",
    "    if j > 4:\n",
    "        break"
   ]
  }
 ],
 "metadata": {
  "kernelspec": {
   "display_name": "Python 3 (ipykernel)",
   "language": "python",
   "name": "python3"
  },
  "language_info": {
   "codemirror_mode": {
    "name": "ipython",
    "version": 3
   },
   "file_extension": ".py",
   "mimetype": "text/x-python",
   "name": "python",
   "nbconvert_exporter": "python",
   "pygments_lexer": "ipython3",
   "version": "3.9.12"
  }
 },
 "nbformat": 4,
 "nbformat_minor": 5
}
